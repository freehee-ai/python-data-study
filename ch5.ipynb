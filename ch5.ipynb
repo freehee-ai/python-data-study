{
 "cells": [
  {
   "cell_type": "markdown",
   "id": "571b3ce0-1245-4819-bb07-74204cf0314a",
   "metadata": {},
   "source": [
    "# 5. 데이터 불러오기와 간단한 분석까지  "
   ]
  },
  {
   "cell_type": "code",
   "execution_count": 161,
   "id": "3163a667-e3f2-4f14-8905-cc20b963bf7c",
   "metadata": {},
   "outputs": [],
   "source": [
    "# 필요한 모듈 불러오기\n",
    "import numpy as np\n",
    "import pandas as pd"
   ]
  },
  {
   "cell_type": "markdown",
   "id": "eab70722-ed87-406a-8af9-54bbb0ecf2fa",
   "metadata": {},
   "source": [
    "## 파일 다루기  \n",
    "csv, json"
   ]
  },
  {
   "cell_type": "markdown",
   "id": "2cbb0dd2-1b7a-4b41-9390-d3b38506fd10",
   "metadata": {},
   "source": [
    "### CSV 파일 불러오기"
   ]
  },
  {
   "cell_type": "code",
   "execution_count": 14,
   "id": "10ed4ee8-09f0-4311-ade6-acf8529b08d7",
   "metadata": {},
   "outputs": [
    {
     "name": "stdout",
     "output_type": "stream",
     "text": [
      "   student_id  math  eng  kor\n",
      "0         101    80   95   88\n",
      "1         102    92   85   90\n",
      "2         103    75   80   66\n",
      "RangeIndex(start=0, stop=3, step=1)\n"
     ]
    },
    {
     "data": {
      "text/html": [
       "<div>\n",
       "<style scoped>\n",
       "    .dataframe tbody tr th:only-of-type {\n",
       "        vertical-align: middle;\n",
       "    }\n",
       "\n",
       "    .dataframe tbody tr th {\n",
       "        vertical-align: top;\n",
       "    }\n",
       "\n",
       "    .dataframe thead th {\n",
       "        text-align: right;\n",
       "    }\n",
       "</style>\n",
       "<table border=\"1\" class=\"dataframe\">\n",
       "  <thead>\n",
       "    <tr style=\"text-align: right;\">\n",
       "      <th></th>\n",
       "      <th>math</th>\n",
       "      <th>eng</th>\n",
       "      <th>kor</th>\n",
       "    </tr>\n",
       "    <tr>\n",
       "      <th>student_id</th>\n",
       "      <th></th>\n",
       "      <th></th>\n",
       "      <th></th>\n",
       "    </tr>\n",
       "  </thead>\n",
       "  <tbody>\n",
       "    <tr>\n",
       "      <th>101</th>\n",
       "      <td>80</td>\n",
       "      <td>95</td>\n",
       "      <td>88</td>\n",
       "    </tr>\n",
       "    <tr>\n",
       "      <th>102</th>\n",
       "      <td>92</td>\n",
       "      <td>85</td>\n",
       "      <td>90</td>\n",
       "    </tr>\n",
       "    <tr>\n",
       "      <th>103</th>\n",
       "      <td>75</td>\n",
       "      <td>80</td>\n",
       "      <td>66</td>\n",
       "    </tr>\n",
       "  </tbody>\n",
       "</table>\n",
       "</div>"
      ],
      "text/plain": [
       "            math  eng  kor\n",
       "student_id                \n",
       "101           80   95   88\n",
       "102           92   85   90\n",
       "103           75   80   66"
      ]
     },
     "execution_count": 14,
     "metadata": {},
     "output_type": "execute_result"
    }
   ],
   "source": [
    "# 판다스를 사용해서 CSV 파일 불러오기\n",
    "# read_csv(파일의 경로)\n",
    "# 상대경로/절대경로\n",
    "# 현재 나의 위치: python-data-study\n",
    "# 찾고자 하는 파일 : sample1.csv\n",
    "# read_csv 는 csv 파일을 읽어서 데이터 프레임으로 반환\n",
    "df = pd.read_csv('sample-20250916T010128Z-1-001\\sample\\sample1.csv')\n",
    "print(df)\n",
    "# 읽어온 데이터 속성 확인\n",
    "# 행열 이름 확인\n",
    "print(df.index)\n",
    "df.columns\n",
    "# 행 인덱스 : 자동으로 정수 인덱스가 설정됨\n",
    "# 열 컬럼 : 자동으로 첫번째 행이 컬럼으로 설정됨\n",
    "# 행 인덱스 바꾸기\n",
    "# 학번을 인덱스로 설정\n",
    "df.set_index('student_id')"
   ]
  },
  {
   "cell_type": "markdown",
   "id": "fde953d2-6864-4f72-9a15-13cf7abf5207",
   "metadata": {},
   "source": [
    "## csv 파일 불러오기2"
   ]
  },
  {
   "cell_type": "code",
   "execution_count": 21,
   "id": "d0e313c8-9269-4ba1-afde-df3d39d6ec73",
   "metadata": {
    "scrolled": true
   },
   "outputs": [
    {
     "name": "stdout",
     "output_type": "stream",
     "text": [
      "   상품명       가격  재고\n",
      "0  노트북  1200000   5\n",
      "1  키보드    29000  20\n",
      "2  마우스    19000  15\n",
      "Index(['노트북', '키보드', '마우스'], dtype='object', name='상품명')\n",
      "Index(['가격', '재고'], dtype='object')\n"
     ]
    }
   ],
   "source": [
    "# sample 폴더 아래 2번째 csv 파일 불러오기\n",
    "# 판다스 사용\n",
    "# 파일에 한글이포함되어 있으면, 한글을 지원하는 인코딩 설정\n",
    "# 한글을 지원하는 인코딩 : utf-8, euc-kr\n",
    "df = pd.read_csv('sample-20250916T010128Z-1-001\\sample\\sample2.csv',\n",
    "                 encoding='euc-kr')\n",
    "print(df)\n",
    "# set_index 는 결과만 반환, 원본데이터 영향x\n",
    "# 나중에 데이터를 쉽게 조회/수정/삭제 하기위해\n",
    "# 상품명을 행 인덱스로 설정\n",
    "df = df.set_index('상품명')\n",
    "print(df.index)\n",
    "print(df.columns)"
   ]
  },
  {
   "cell_type": "code",
   "execution_count": 24,
   "id": "68ce9a2c-0055-46c2-a3e5-a06f8bad3af7",
   "metadata": {},
   "outputs": [
    {
     "data": {
      "text/html": [
       "<div>\n",
       "<style scoped>\n",
       "    .dataframe tbody tr th:only-of-type {\n",
       "        vertical-align: middle;\n",
       "    }\n",
       "\n",
       "    .dataframe tbody tr th {\n",
       "        vertical-align: top;\n",
       "    }\n",
       "\n",
       "    .dataframe thead th {\n",
       "        text-align: right;\n",
       "    }\n",
       "</style>\n",
       "<table border=\"1\" class=\"dataframe\">\n",
       "  <thead>\n",
       "    <tr style=\"text-align: right;\">\n",
       "      <th></th>\n",
       "      <th>상품명</th>\n",
       "      <th>가격</th>\n",
       "      <th>재고</th>\n",
       "    </tr>\n",
       "    <tr>\n",
       "      <th>상품명</th>\n",
       "      <th></th>\n",
       "      <th></th>\n",
       "      <th></th>\n",
       "    </tr>\n",
       "  </thead>\n",
       "  <tbody>\n",
       "    <tr>\n",
       "      <th>노트북</th>\n",
       "      <td>노트북</td>\n",
       "      <td>1200000</td>\n",
       "      <td>5</td>\n",
       "    </tr>\n",
       "    <tr>\n",
       "      <th>키보드</th>\n",
       "      <td>키보드</td>\n",
       "      <td>29000</td>\n",
       "      <td>20</td>\n",
       "    </tr>\n",
       "    <tr>\n",
       "      <th>마우스</th>\n",
       "      <td>마우스</td>\n",
       "      <td>19000</td>\n",
       "      <td>15</td>\n",
       "    </tr>\n",
       "  </tbody>\n",
       "</table>\n",
       "</div>"
      ],
      "text/plain": [
       "     상품명       가격  재고\n",
       "상품명                  \n",
       "노트북  노트북  1200000   5\n",
       "키보드  키보드    29000  20\n",
       "마우스  마우스    19000  15"
      ]
     },
     "execution_count": 24,
     "metadata": {},
     "output_type": "execute_result"
    }
   ],
   "source": [
    "# 다시 2번째 csv 파일 불러오기\n",
    "df = pd.read_csv('sample-20250916T010128Z-1-001\\sample\\sample2.csv',\n",
    "                 encoding='euc-kr')\n",
    "df\n",
    "# 상품명 컬럼을 유지하면서, 상품명을 행인덱스로 설정하기\n",
    "df.index = df['상품명']\n",
    "df"
   ]
  },
  {
   "cell_type": "code",
   "execution_count": 39,
   "id": "0b98b009-3bac-4d10-9c2c-7cb7d4f6237d",
   "metadata": {},
   "outputs": [
    {
     "name": "stdout",
     "output_type": "stream",
     "text": [
      "   상품명    가격  재고\n",
      "0   사과  3000  10\n",
      "1  바나나  2000  20\n",
      "2   포도  4000  15\n",
      "3   딸기  5000   8\n",
      "\n",
      "\n",
      "       가격  재고\n",
      "상품명          \n",
      "사과   3000  10\n",
      "바나나  2000  20\n",
      "포도   4000  15\n",
      "딸기   5000   8\n",
      "\n",
      "\n",
      "Index(['사과', '바나나', '포도', '딸기'], dtype='object', name='상품명')\n",
      "\n",
      "\n",
      "사과 가격: 3000\n",
      "바나나 재고:  20\n",
      "\n",
      "\n",
      "       가격  재고\n",
      "상품명          \n",
      "사과   3000  10\n",
      "바나나  2000  20\n",
      "포도   4500  15\n",
      "딸기   5000   8\n",
      "\n",
      "\n",
      "       가격  재고\n",
      "상품명          \n",
      "사과   3000  10\n",
      "바나나  2000  20\n",
      "포도   4500  15\n",
      "딸기   5000  10\n"
     ]
    }
   ],
   "source": [
    "df = pd.read_csv('quiz-20250916T010128Z-1-001\\quiz\\products.csv')\n",
    "print(df)\n",
    "print('\\n')\n",
    "df = df.set_index('상품명')\n",
    "print(df)\n",
    "print('\\n')\n",
    "print(df.index)\n",
    "print('\\n')\n",
    "print('사과 가격:', df.loc['사과','가격'])\n",
    "print('바나나 재고: ', df.loc['바나나','재고'])\n",
    "df.loc['포도','가격'] = 4500\n",
    "print('\\n')\n",
    "print(df)\n",
    "df.loc['딸기','재고'] = 10\n",
    "print('\\n')\n",
    "print(df)"
   ]
  },
  {
   "cell_type": "code",
   "execution_count": 62,
   "id": "3b80d8fa-c1d8-4725-928f-b61058842c17",
   "metadata": {},
   "outputs": [
    {
     "name": "stdout",
     "output_type": "stream",
     "text": [
      "  month  sales  profit\n",
      "0    1월   1000     200\n",
      "1    2월   1500     300\n",
      "2    3월   2000     400\n",
      "3    4월   2500     500\n",
      "\n",
      "\n",
      "       sales  profit\n",
      "month               \n",
      "1월      1000     200\n",
      "2월      1500     300\n",
      "3월      2000     400\n",
      "4월      2500     500\n",
      "\n",
      "\n",
      "Index(['1월', '2월', '3월', '4월'], dtype='object', name='month')\n",
      "\n",
      "\n",
      "month\n",
      "1월    1000\n",
      "2월    1500\n",
      "3월    2000\n",
      "4월    2500\n",
      "Name: sales, dtype: int64\n",
      "\n",
      "\n",
      "sales     1500\n",
      "profit     300\n",
      "Name: 2월, dtype: int64\n",
      "\n",
      "\n",
      "이윤 합계 :  1400\n",
      "이윤 평균 :  350.0\n",
      "\n",
      "\n"
     ]
    },
    {
     "data": {
      "text/html": [
       "<div>\n",
       "<style scoped>\n",
       "    .dataframe tbody tr th:only-of-type {\n",
       "        vertical-align: middle;\n",
       "    }\n",
       "\n",
       "    .dataframe tbody tr th {\n",
       "        vertical-align: top;\n",
       "    }\n",
       "\n",
       "    .dataframe thead th {\n",
       "        text-align: right;\n",
       "    }\n",
       "</style>\n",
       "<table border=\"1\" class=\"dataframe\">\n",
       "  <thead>\n",
       "    <tr style=\"text-align: right;\">\n",
       "      <th></th>\n",
       "      <th>sales</th>\n",
       "      <th>profit</th>\n",
       "    </tr>\n",
       "    <tr>\n",
       "      <th>month</th>\n",
       "      <th></th>\n",
       "      <th></th>\n",
       "    </tr>\n",
       "  </thead>\n",
       "  <tbody>\n",
       "    <tr>\n",
       "      <th>3월</th>\n",
       "      <td>2000</td>\n",
       "      <td>400</td>\n",
       "    </tr>\n",
       "    <tr>\n",
       "      <th>4월</th>\n",
       "      <td>2500</td>\n",
       "      <td>500</td>\n",
       "    </tr>\n",
       "  </tbody>\n",
       "</table>\n",
       "</div>"
      ],
      "text/plain": [
       "       sales  profit\n",
       "month               \n",
       "3월      2000     400\n",
       "4월      2500     500"
      ]
     },
     "execution_count": 62,
     "metadata": {},
     "output_type": "execute_result"
    }
   ],
   "source": [
    "df = pd.read_csv('quiz-20250916T010128Z-1-001\\quiz\\sales.csv',\n",
    "                 encoding='euc-kr')\n",
    "print(df)\n",
    "print('\\n')\n",
    "df = df.set_index('month')\n",
    "print(df)\n",
    "print('\\n')\n",
    "print(df.index)\n",
    "print('\\n')\n",
    "print(df['sales'])\n",
    "print('\\n')\n",
    "print(df.loc['2월'])\n",
    "print('\\n')\n",
    "print('이윤 합계 : ', df['profit'].sum())\n",
    "print('이윤 평균 : ', df['profit'].mean())\n",
    "print('\\n')\n",
    "df[df['profit'] > 300]\n"
   ]
  },
  {
   "cell_type": "code",
   "execution_count": 87,
   "id": "eddf756d-dea3-4a88-b9de-c7298bbebf42",
   "metadata": {},
   "outputs": [
    {
     "name": "stdout",
     "output_type": "stream",
     "text": [
      "0    15\n",
      "1    17\n",
      "2    14\n",
      "3    18\n",
      "Name: spring, dtype: int64\n",
      "\n",
      "\n",
      "city      서울\n",
      "spring    15\n",
      "summer    28\n",
      "winter     2\n",
      "Name: 0, dtype: object\n",
      "\n",
      "\n",
      "겨울평균기온:  2.75\n",
      "\n",
      "\n"
     ]
    },
    {
     "data": {
      "text/html": [
       "<div>\n",
       "<style scoped>\n",
       "    .dataframe tbody tr th:only-of-type {\n",
       "        vertical-align: middle;\n",
       "    }\n",
       "\n",
       "    .dataframe tbody tr th {\n",
       "        vertical-align: top;\n",
       "    }\n",
       "\n",
       "    .dataframe thead th {\n",
       "        text-align: right;\n",
       "    }\n",
       "</style>\n",
       "<table border=\"1\" class=\"dataframe\">\n",
       "  <thead>\n",
       "    <tr style=\"text-align: right;\">\n",
       "      <th></th>\n",
       "      <th>city</th>\n",
       "      <th>spring</th>\n",
       "      <th>summer</th>\n",
       "      <th>winter</th>\n",
       "    </tr>\n",
       "  </thead>\n",
       "  <tbody>\n",
       "    <tr>\n",
       "      <th>0</th>\n",
       "      <td>서울</td>\n",
       "      <td>15</td>\n",
       "      <td>28</td>\n",
       "      <td>2</td>\n",
       "    </tr>\n",
       "    <tr>\n",
       "      <th>1</th>\n",
       "      <td>부산</td>\n",
       "      <td>17</td>\n",
       "      <td>29</td>\n",
       "      <td>5</td>\n",
       "    </tr>\n",
       "    <tr>\n",
       "      <th>3</th>\n",
       "      <td>대구</td>\n",
       "      <td>18</td>\n",
       "      <td>30</td>\n",
       "      <td>1</td>\n",
       "    </tr>\n",
       "  </tbody>\n",
       "</table>\n",
       "</div>"
      ],
      "text/plain": [
       "  city  spring  summer  winter\n",
       "0   서울      15      28       2\n",
       "1   부산      17      29       5\n",
       "3   대구      18      30       1"
      ]
     },
     "execution_count": 87,
     "metadata": {},
     "output_type": "execute_result"
    }
   ],
   "source": [
    "df = pd.read_csv('quiz-20250916T010128Z-1-001\\quiz\\weather.csv',\n",
    "                encoding='euc-kr')\n",
    "print(df['spring'])\n",
    "print('\\n')\n",
    "df.set_index('city')\n",
    "print(df.iloc[0])\n",
    "print('\\n')\n",
    "print('겨울평균기온: ', df['winter'].mean())\n",
    "print('\\n')\n",
    "df[df['summer'] >= 28]"
   ]
  },
  {
   "cell_type": "code",
   "execution_count": null,
   "id": "e9436b32-20c0-45fb-b446-d00a96110d36",
   "metadata": {},
   "outputs": [],
   "source": []
  },
  {
   "cell_type": "markdown",
   "id": "f46963c3-9056-44e6-9b8e-54e1238f9a9c",
   "metadata": {},
   "source": [
    "## JSON 파일 불러오기1  \n",
    "파이썬의 딕셔너리와 구조가 비슷  \n",
    "json 파일을 파싱한다 => json 데이터를 파이썬에서 사용할 수 있는 형태로 변환한다  \n",
    "- json 작성 방법 : key:value  \n",
    "- object : { }  \n",
    "- list : [ ]  "
   ]
  },
  {
   "cell_type": "code",
   "execution_count": 94,
   "id": "1a84b733-8ae2-455d-945c-232975647c6d",
   "metadata": {},
   "outputs": [
    {
     "data": {
      "text/plain": [
       "{'id': 101, 'name': 'alice', 'age': 30}"
      ]
     },
     "execution_count": 94,
     "metadata": {},
     "output_type": "execute_result"
    }
   ],
   "source": [
    "import json\n",
    "# 파이썬 방식으로 파일 열기\n",
    "f = open('sample-20250916T010128Z-1-001/sample/sample3.json', 'r')\n",
    "# json 모듈로 파일을 딕셔너리로 변환\n",
    "dic = json.load(f)\n",
    "dic"
   ]
  },
  {
   "cell_type": "markdown",
   "id": "e9c12bb6-db88-486f-928f-f84fe134b7d0",
   "metadata": {},
   "source": [
    "## JSON 파일 불러오기2"
   ]
  },
  {
   "cell_type": "code",
   "execution_count": 100,
   "id": "4f1730af-e217-44a7-818a-34f24a0d5f22",
   "metadata": {},
   "outputs": [
    {
     "data": {
      "text/plain": [
       "{'name': '홍길동', 'age': 25, 'city': '서울'}"
      ]
     },
     "execution_count": 100,
     "metadata": {},
     "output_type": "execute_result"
    }
   ],
   "source": [
    "f = open('sample-20250916T010128Z-1-001/sample/sample4.json',\n",
    "         'r', encoding='utf-8')\n",
    "dic = json.load(f)\n",
    "dic"
   ]
  },
  {
   "cell_type": "code",
   "execution_count": 102,
   "id": "87198ee7-51d9-4eca-acd9-37e0a127545f",
   "metadata": {},
   "outputs": [],
   "source": [
    "# 왜 파일의 내용을 딕셔너리로 변환해야 할까?\n",
    "# f도 read readline 함수를 지원함\n",
    "# read, readline 은 텍스트를 통으로 가져오기 때문에\n",
    "# 내가 원하는 값만 추출하기 어려움"
   ]
  },
  {
   "cell_type": "code",
   "execution_count": 107,
   "id": "2ab16920-2402-4917-ad31-758809592021",
   "metadata": {},
   "outputs": [
    {
     "name": "stdout",
     "output_type": "stream",
     "text": [
      "dict_items([('name', '홍길동'), ('age', 25), ('city', '서울')])\n",
      "('name', '홍길동')\n",
      "('age', 25)\n",
      "('city', '서울')\n"
     ]
    }
   ],
   "source": [
    "# 딕셔너리에서 키와 값 꺼내기\n",
    "print(dic.items())\n",
    "for tup in dic.items():\n",
    "    print(tup)"
   ]
  },
  {
   "cell_type": "code",
   "execution_count": 108,
   "id": "9eed0d09-28ad-4558-91ac-19e91b7a6ffb",
   "metadata": {},
   "outputs": [
    {
     "name": "stdout",
     "output_type": "stream",
     "text": [
      "name 홍길동\n",
      "age 25\n",
      "city 서울\n"
     ]
    }
   ],
   "source": [
    "for key, value in dic.items():\n",
    "    print(key, value)"
   ]
  },
  {
   "cell_type": "markdown",
   "id": "a8e0cc43-4978-4a14-bee9-d1065a99347c",
   "metadata": {},
   "source": [
    "## JSON 파일 불러오기 3"
   ]
  },
  {
   "cell_type": "code",
   "execution_count": 113,
   "id": "ee0e8f66-8040-4bbf-84bc-053db0af7a87",
   "metadata": {},
   "outputs": [
    {
     "data": {
      "text/plain": [
       "[{'name': '홍길동', 'age': 25, 'city': '서울'},\n",
       " {'name': '김철수', 'age': 30, 'city': '부산'}]"
      ]
     },
     "execution_count": 113,
     "metadata": {},
     "output_type": "execute_result"
    }
   ],
   "source": [
    "# json 파일 불러오기 1\n",
    "f = open('sample-20250916T010128Z-1-001\\sample\\sample5.json',\n",
    "         encoding='utf-8')\n",
    "dic = json.load(f)\n",
    "dic"
   ]
  },
  {
   "cell_type": "code",
   "execution_count": 115,
   "id": "4b6964a2-02ef-4b6f-8726-e2bd9ce5ddff",
   "metadata": {},
   "outputs": [
    {
     "name": "stdout",
     "output_type": "stream",
     "text": [
      "  name  age city\n",
      "0  홍길동   25   서울\n",
      "1  김철수   30   부산\n",
      "RangeIndex(start=0, stop=2, step=1)\n",
      "Index(['name', 'age', 'city'], dtype='object')\n"
     ]
    }
   ],
   "source": [
    "# json 파일 불러오기 2\n",
    "# 판다스를 사용해서 파일을 바로 dataframe으로 변환\n",
    "# 단건 데이터는 데이터 프레임으로 변환할 수 없다\n",
    "# 리스트 데이터만 데이터프레임으로 변환할 수 있다\n",
    "df = pd.read_json('sample-20250916T010128Z-1-001\\sample\\sample5.json')\n",
    "print(df)\n",
    "print(df.index)\n",
    "print(df.columns)"
   ]
  },
  {
   "cell_type": "code",
   "execution_count": 117,
   "id": "b6e7fe61-7542-4b4b-b097-312f6278dbf3",
   "metadata": {},
   "outputs": [
    {
     "data": {
      "text/plain": [
       "name    김철수\n",
       "age      30\n",
       "city     부산\n",
       "Name: 1, dtype: object"
      ]
     },
     "execution_count": 117,
     "metadata": {},
     "output_type": "execute_result"
    }
   ],
   "source": [
    "# 데이터 꺼내기\n",
    "# 홍길동의 나이\n",
    "df.loc[0,'age']\n",
    "# 김철수의 모든 데이터 꺼내기\n",
    "df.loc[1, : ]"
   ]
  },
  {
   "cell_type": "code",
   "execution_count": 137,
   "id": "6bebf9f5-9d8e-4738-a4d0-0c3429f97938",
   "metadata": {},
   "outputs": [
    {
     "data": {
      "text/html": [
       "<div>\n",
       "<style scoped>\n",
       "    .dataframe tbody tr th:only-of-type {\n",
       "        vertical-align: middle;\n",
       "    }\n",
       "\n",
       "    .dataframe tbody tr th {\n",
       "        vertical-align: top;\n",
       "    }\n",
       "\n",
       "    .dataframe thead th {\n",
       "        text-align: right;\n",
       "    }\n",
       "</style>\n",
       "<table border=\"1\" class=\"dataframe\">\n",
       "  <thead>\n",
       "    <tr style=\"text-align: right;\">\n",
       "      <th></th>\n",
       "      <th>상품명</th>\n",
       "      <th>가격</th>\n",
       "      <th>재고</th>\n",
       "    </tr>\n",
       "  </thead>\n",
       "  <tbody>\n",
       "    <tr>\n",
       "      <th>0</th>\n",
       "      <td>사과</td>\n",
       "      <td>3000</td>\n",
       "      <td>10</td>\n",
       "    </tr>\n",
       "    <tr>\n",
       "      <th>1</th>\n",
       "      <td>바나나</td>\n",
       "      <td>2000</td>\n",
       "      <td>20</td>\n",
       "    </tr>\n",
       "    <tr>\n",
       "      <th>2</th>\n",
       "      <td>포도</td>\n",
       "      <td>4000</td>\n",
       "      <td>15</td>\n",
       "    </tr>\n",
       "    <tr>\n",
       "      <th>3</th>\n",
       "      <td>딸기</td>\n",
       "      <td>5000</td>\n",
       "      <td>8</td>\n",
       "    </tr>\n",
       "  </tbody>\n",
       "</table>\n",
       "</div>"
      ],
      "text/plain": [
       "   상품명    가격  재고\n",
       "0   사과  3000  10\n",
       "1  바나나  2000  20\n",
       "2   포도  4000  15\n",
       "3   딸기  5000   8"
      ]
     },
     "execution_count": 137,
     "metadata": {},
     "output_type": "execute_result"
    }
   ],
   "source": [
    "df = pd.read_json('quiz-20250916T010128Z-1-001\\quiz\\products.json')\n",
    "df"
   ]
  },
  {
   "cell_type": "code",
   "execution_count": 147,
   "id": "00bcbd23-5f84-4daa-a36e-b09a964cdd1b",
   "metadata": {},
   "outputs": [
    {
     "data": {
      "text/html": [
       "<div>\n",
       "<style scoped>\n",
       "    .dataframe tbody tr th:only-of-type {\n",
       "        vertical-align: middle;\n",
       "    }\n",
       "\n",
       "    .dataframe tbody tr th {\n",
       "        vertical-align: top;\n",
       "    }\n",
       "\n",
       "    .dataframe thead th {\n",
       "        text-align: right;\n",
       "    }\n",
       "</style>\n",
       "<table border=\"1\" class=\"dataframe\">\n",
       "  <thead>\n",
       "    <tr style=\"text-align: right;\">\n",
       "      <th></th>\n",
       "      <th>상품명</th>\n",
       "      <th>가격</th>\n",
       "      <th>재고</th>\n",
       "      <th>총합</th>\n",
       "    </tr>\n",
       "  </thead>\n",
       "  <tbody>\n",
       "    <tr>\n",
       "      <th>0</th>\n",
       "      <td>사과</td>\n",
       "      <td>3000</td>\n",
       "      <td>10</td>\n",
       "      <td>30000</td>\n",
       "    </tr>\n",
       "    <tr>\n",
       "      <th>1</th>\n",
       "      <td>바나나</td>\n",
       "      <td>2000</td>\n",
       "      <td>20</td>\n",
       "      <td>40000</td>\n",
       "    </tr>\n",
       "    <tr>\n",
       "      <th>2</th>\n",
       "      <td>포도</td>\n",
       "      <td>4000</td>\n",
       "      <td>15</td>\n",
       "      <td>60000</td>\n",
       "    </tr>\n",
       "    <tr>\n",
       "      <th>3</th>\n",
       "      <td>딸기</td>\n",
       "      <td>5000</td>\n",
       "      <td>8</td>\n",
       "      <td>40000</td>\n",
       "    </tr>\n",
       "  </tbody>\n",
       "</table>\n",
       "</div>"
      ],
      "text/plain": [
       "   상품명    가격  재고     총합\n",
       "0   사과  3000  10  30000\n",
       "1  바나나  2000  20  40000\n",
       "2   포도  4000  15  60000\n",
       "3   딸기  5000   8  40000"
      ]
     },
     "execution_count": 147,
     "metadata": {},
     "output_type": "execute_result"
    }
   ],
   "source": [
    "# 상품명을 인덱스로 설정\n",
    "df.set_index('상품명')\n",
    "# 모든 상품명을 출력\n",
    "df.index\n",
    "# 가격 3000원 이상만 출력\n",
    "df['가격'] >= 3000\n",
    "# bool 배열을 인덱스로 사용\n",
    "df[df['가격'] >= 3000]\n",
    "\n",
    "df['가격'].mean()\n",
    "# 새로운 컬럼 총액(가격*재고)\n",
    "# 시리즈 * 시리즈 => 인덱스로 연결\n",
    "# 새로운 열 = 시리즈\n",
    "df['총합'] = df['가격'] * df['재고']\n",
    "df"
   ]
  },
  {
   "cell_type": "code",
   "execution_count": 165,
   "id": "24d5d991-0e0b-48c5-a872-2ae72f590477",
   "metadata": {},
   "outputs": [
    {
     "data": {
      "text/html": [
       "<div>\n",
       "<style scoped>\n",
       "    .dataframe tbody tr th:only-of-type {\n",
       "        vertical-align: middle;\n",
       "    }\n",
       "\n",
       "    .dataframe tbody tr th {\n",
       "        vertical-align: top;\n",
       "    }\n",
       "\n",
       "    .dataframe thead th {\n",
       "        text-align: right;\n",
       "    }\n",
       "</style>\n",
       "<table border=\"1\" class=\"dataframe\">\n",
       "  <thead>\n",
       "    <tr style=\"text-align: right;\">\n",
       "      <th></th>\n",
       "      <th>제목</th>\n",
       "      <th>저자</th>\n",
       "      <th>가격</th>\n",
       "      <th>대출가능권수</th>\n",
       "    </tr>\n",
       "  </thead>\n",
       "  <tbody>\n",
       "    <tr>\n",
       "      <th>0</th>\n",
       "      <td>데이터 분석 입문</td>\n",
       "      <td>김철수</td>\n",
       "      <td>18000</td>\n",
       "      <td>3</td>\n",
       "    </tr>\n",
       "    <tr>\n",
       "      <th>1</th>\n",
       "      <td>파이썬 프로그래밍</td>\n",
       "      <td>이영희</td>\n",
       "      <td>22000</td>\n",
       "      <td>5</td>\n",
       "    </tr>\n",
       "    <tr>\n",
       "      <th>2</th>\n",
       "      <td>머신러닝 기초</td>\n",
       "      <td>박민수</td>\n",
       "      <td>25000</td>\n",
       "      <td>2</td>\n",
       "    </tr>\n",
       "    <tr>\n",
       "      <th>3</th>\n",
       "      <td>인공지능 시대</td>\n",
       "      <td>최지연</td>\n",
       "      <td>30000</td>\n",
       "      <td>1</td>\n",
       "    </tr>\n",
       "    <tr>\n",
       "      <th>4</th>\n",
       "      <td>데이터베이스 개론</td>\n",
       "      <td>홍길동</td>\n",
       "      <td>20000</td>\n",
       "      <td>4</td>\n",
       "    </tr>\n",
       "  </tbody>\n",
       "</table>\n",
       "</div>"
      ],
      "text/plain": [
       "          제목   저자     가격  대출가능권수\n",
       "0  데이터 분석 입문  김철수  18000       3\n",
       "1  파이썬 프로그래밍  이영희  22000       5\n",
       "2    머신러닝 기초  박민수  25000       2\n",
       "3    인공지능 시대  최지연  30000       1\n",
       "4  데이터베이스 개론  홍길동  20000       4"
      ]
     },
     "execution_count": 165,
     "metadata": {},
     "output_type": "execute_result"
    }
   ],
   "source": [
    "df = pd.read_json('quiz/books.json')\n",
    "df"
   ]
  },
  {
   "cell_type": "code",
   "execution_count": 167,
   "id": "6a927dd1-3c64-40d4-bb80-9891cefa73fe",
   "metadata": {},
   "outputs": [
    {
     "data": {
      "text/html": [
       "<div>\n",
       "<style scoped>\n",
       "    .dataframe tbody tr th:only-of-type {\n",
       "        vertical-align: middle;\n",
       "    }\n",
       "\n",
       "    .dataframe tbody tr th {\n",
       "        vertical-align: top;\n",
       "    }\n",
       "\n",
       "    .dataframe thead th {\n",
       "        text-align: right;\n",
       "    }\n",
       "</style>\n",
       "<table border=\"1\" class=\"dataframe\">\n",
       "  <thead>\n",
       "    <tr style=\"text-align: right;\">\n",
       "      <th></th>\n",
       "      <th>저자</th>\n",
       "      <th>가격</th>\n",
       "      <th>대출가능권수</th>\n",
       "    </tr>\n",
       "    <tr>\n",
       "      <th>제목</th>\n",
       "      <th></th>\n",
       "      <th></th>\n",
       "      <th></th>\n",
       "    </tr>\n",
       "  </thead>\n",
       "  <tbody>\n",
       "    <tr>\n",
       "      <th>데이터 분석 입문</th>\n",
       "      <td>김철수</td>\n",
       "      <td>18000</td>\n",
       "      <td>3</td>\n",
       "    </tr>\n",
       "    <tr>\n",
       "      <th>파이썬 프로그래밍</th>\n",
       "      <td>이영희</td>\n",
       "      <td>22000</td>\n",
       "      <td>5</td>\n",
       "    </tr>\n",
       "    <tr>\n",
       "      <th>머신러닝 기초</th>\n",
       "      <td>박민수</td>\n",
       "      <td>25000</td>\n",
       "      <td>2</td>\n",
       "    </tr>\n",
       "    <tr>\n",
       "      <th>인공지능 시대</th>\n",
       "      <td>최지연</td>\n",
       "      <td>30000</td>\n",
       "      <td>1</td>\n",
       "    </tr>\n",
       "    <tr>\n",
       "      <th>데이터베이스 개론</th>\n",
       "      <td>홍길동</td>\n",
       "      <td>20000</td>\n",
       "      <td>4</td>\n",
       "    </tr>\n",
       "  </tbody>\n",
       "</table>\n",
       "</div>"
      ],
      "text/plain": [
       "            저자     가격  대출가능권수\n",
       "제목                           \n",
       "데이터 분석 입문  김철수  18000       3\n",
       "파이썬 프로그래밍  이영희  22000       5\n",
       "머신러닝 기초    박민수  25000       2\n",
       "인공지능 시대    최지연  30000       1\n",
       "데이터베이스 개론  홍길동  20000       4"
      ]
     },
     "execution_count": 167,
     "metadata": {},
     "output_type": "execute_result"
    }
   ],
   "source": [
    "df = df.set_index('제목')\n",
    "df"
   ]
  },
  {
   "cell_type": "code",
   "execution_count": 168,
   "id": "f28623e0-23e3-4a74-aa56-ab751394889b",
   "metadata": {},
   "outputs": [
    {
     "data": {
      "text/html": [
       "<div>\n",
       "<style scoped>\n",
       "    .dataframe tbody tr th:only-of-type {\n",
       "        vertical-align: middle;\n",
       "    }\n",
       "\n",
       "    .dataframe tbody tr th {\n",
       "        vertical-align: top;\n",
       "    }\n",
       "\n",
       "    .dataframe thead th {\n",
       "        text-align: right;\n",
       "    }\n",
       "</style>\n",
       "<table border=\"1\" class=\"dataframe\">\n",
       "  <thead>\n",
       "    <tr style=\"text-align: right;\">\n",
       "      <th></th>\n",
       "      <th>저자</th>\n",
       "      <th>가격</th>\n",
       "      <th>대출가능권수</th>\n",
       "    </tr>\n",
       "    <tr>\n",
       "      <th>제목</th>\n",
       "      <th></th>\n",
       "      <th></th>\n",
       "      <th></th>\n",
       "    </tr>\n",
       "  </thead>\n",
       "  <tbody>\n",
       "    <tr>\n",
       "      <th>파이썬 프로그래밍</th>\n",
       "      <td>이영희</td>\n",
       "      <td>22000</td>\n",
       "      <td>5</td>\n",
       "    </tr>\n",
       "    <tr>\n",
       "      <th>머신러닝 기초</th>\n",
       "      <td>박민수</td>\n",
       "      <td>25000</td>\n",
       "      <td>2</td>\n",
       "    </tr>\n",
       "    <tr>\n",
       "      <th>인공지능 시대</th>\n",
       "      <td>최지연</td>\n",
       "      <td>30000</td>\n",
       "      <td>1</td>\n",
       "    </tr>\n",
       "    <tr>\n",
       "      <th>데이터베이스 개론</th>\n",
       "      <td>홍길동</td>\n",
       "      <td>20000</td>\n",
       "      <td>4</td>\n",
       "    </tr>\n",
       "  </tbody>\n",
       "</table>\n",
       "</div>"
      ],
      "text/plain": [
       "            저자     가격  대출가능권수\n",
       "제목                           \n",
       "파이썬 프로그래밍  이영희  22000       5\n",
       "머신러닝 기초    박민수  25000       2\n",
       "인공지능 시대    최지연  30000       1\n",
       "데이터베이스 개론  홍길동  20000       4"
      ]
     },
     "execution_count": 168,
     "metadata": {},
     "output_type": "execute_result"
    }
   ],
   "source": [
    "df[df['가격'] >= 20000]"
   ]
  },
  {
   "cell_type": "code",
   "execution_count": 169,
   "id": "acdb41e9-5caa-48ad-a404-29a313ef064b",
   "metadata": {},
   "outputs": [
    {
     "data": {
      "text/html": [
       "<div>\n",
       "<style scoped>\n",
       "    .dataframe tbody tr th:only-of-type {\n",
       "        vertical-align: middle;\n",
       "    }\n",
       "\n",
       "    .dataframe tbody tr th {\n",
       "        vertical-align: top;\n",
       "    }\n",
       "\n",
       "    .dataframe thead th {\n",
       "        text-align: right;\n",
       "    }\n",
       "</style>\n",
       "<table border=\"1\" class=\"dataframe\">\n",
       "  <thead>\n",
       "    <tr style=\"text-align: right;\">\n",
       "      <th></th>\n",
       "      <th>저자</th>\n",
       "      <th>가격</th>\n",
       "      <th>대출가능권수</th>\n",
       "    </tr>\n",
       "    <tr>\n",
       "      <th>제목</th>\n",
       "      <th></th>\n",
       "      <th></th>\n",
       "      <th></th>\n",
       "    </tr>\n",
       "  </thead>\n",
       "  <tbody>\n",
       "    <tr>\n",
       "      <th>머신러닝 기초</th>\n",
       "      <td>박민수</td>\n",
       "      <td>25000</td>\n",
       "      <td>2</td>\n",
       "    </tr>\n",
       "    <tr>\n",
       "      <th>인공지능 시대</th>\n",
       "      <td>최지연</td>\n",
       "      <td>30000</td>\n",
       "      <td>1</td>\n",
       "    </tr>\n",
       "  </tbody>\n",
       "</table>\n",
       "</div>"
      ],
      "text/plain": [
       "          저자     가격  대출가능권수\n",
       "제목                         \n",
       "머신러닝 기초  박민수  25000       2\n",
       "인공지능 시대  최지연  30000       1"
      ]
     },
     "execution_count": 169,
     "metadata": {},
     "output_type": "execute_result"
    }
   ],
   "source": [
    "df[df['대출가능권수'] <= 2]"
   ]
  },
  {
   "cell_type": "code",
   "execution_count": 170,
   "id": "2e93c9ed-17ff-49ba-9f1e-b1f9a79ebff3",
   "metadata": {},
   "outputs": [
    {
     "data": {
      "text/html": [
       "<div>\n",
       "<style scoped>\n",
       "    .dataframe tbody tr th:only-of-type {\n",
       "        vertical-align: middle;\n",
       "    }\n",
       "\n",
       "    .dataframe tbody tr th {\n",
       "        vertical-align: top;\n",
       "    }\n",
       "\n",
       "    .dataframe thead th {\n",
       "        text-align: right;\n",
       "    }\n",
       "</style>\n",
       "<table border=\"1\" class=\"dataframe\">\n",
       "  <thead>\n",
       "    <tr style=\"text-align: right;\">\n",
       "      <th></th>\n",
       "      <th>저자</th>\n",
       "      <th>가격</th>\n",
       "      <th>대출가능권수</th>\n",
       "    </tr>\n",
       "    <tr>\n",
       "      <th>제목</th>\n",
       "      <th></th>\n",
       "      <th></th>\n",
       "      <th></th>\n",
       "    </tr>\n",
       "  </thead>\n",
       "  <tbody>\n",
       "    <tr>\n",
       "      <th>인공지능 시대</th>\n",
       "      <td>최지연</td>\n",
       "      <td>30000</td>\n",
       "      <td>1</td>\n",
       "    </tr>\n",
       "    <tr>\n",
       "      <th>머신러닝 기초</th>\n",
       "      <td>박민수</td>\n",
       "      <td>25000</td>\n",
       "      <td>2</td>\n",
       "    </tr>\n",
       "    <tr>\n",
       "      <th>파이썬 프로그래밍</th>\n",
       "      <td>이영희</td>\n",
       "      <td>22000</td>\n",
       "      <td>5</td>\n",
       "    </tr>\n",
       "    <tr>\n",
       "      <th>데이터베이스 개론</th>\n",
       "      <td>홍길동</td>\n",
       "      <td>20000</td>\n",
       "      <td>4</td>\n",
       "    </tr>\n",
       "    <tr>\n",
       "      <th>데이터 분석 입문</th>\n",
       "      <td>김철수</td>\n",
       "      <td>18000</td>\n",
       "      <td>3</td>\n",
       "    </tr>\n",
       "  </tbody>\n",
       "</table>\n",
       "</div>"
      ],
      "text/plain": [
       "            저자     가격  대출가능권수\n",
       "제목                           \n",
       "인공지능 시대    최지연  30000       1\n",
       "머신러닝 기초    박민수  25000       2\n",
       "파이썬 프로그래밍  이영희  22000       5\n",
       "데이터베이스 개론  홍길동  20000       4\n",
       "데이터 분석 입문  김철수  18000       3"
      ]
     },
     "execution_count": 170,
     "metadata": {},
     "output_type": "execute_result"
    }
   ],
   "source": [
    "df.sort_values(['가격'], ascending=False)"
   ]
  },
  {
   "cell_type": "code",
   "execution_count": 171,
   "id": "9fd64f87-c0a4-465a-8954-31a857dc4a6b",
   "metadata": {},
   "outputs": [
    {
     "data": {
      "text/html": [
       "<div>\n",
       "<style scoped>\n",
       "    .dataframe tbody tr th:only-of-type {\n",
       "        vertical-align: middle;\n",
       "    }\n",
       "\n",
       "    .dataframe tbody tr th {\n",
       "        vertical-align: top;\n",
       "    }\n",
       "\n",
       "    .dataframe thead th {\n",
       "        text-align: right;\n",
       "    }\n",
       "</style>\n",
       "<table border=\"1\" class=\"dataframe\">\n",
       "  <thead>\n",
       "    <tr style=\"text-align: right;\">\n",
       "      <th></th>\n",
       "      <th>저자</th>\n",
       "      <th>가격</th>\n",
       "      <th>대출가능권수</th>\n",
       "    </tr>\n",
       "    <tr>\n",
       "      <th>제목</th>\n",
       "      <th></th>\n",
       "      <th></th>\n",
       "      <th></th>\n",
       "    </tr>\n",
       "  </thead>\n",
       "  <tbody>\n",
       "    <tr>\n",
       "      <th>파이썬 프로그래밍</th>\n",
       "      <td>이영희</td>\n",
       "      <td>22000</td>\n",
       "      <td>5</td>\n",
       "    </tr>\n",
       "    <tr>\n",
       "      <th>데이터베이스 개론</th>\n",
       "      <td>홍길동</td>\n",
       "      <td>20000</td>\n",
       "      <td>4</td>\n",
       "    </tr>\n",
       "    <tr>\n",
       "      <th>데이터 분석 입문</th>\n",
       "      <td>김철수</td>\n",
       "      <td>18000</td>\n",
       "      <td>3</td>\n",
       "    </tr>\n",
       "    <tr>\n",
       "      <th>머신러닝 기초</th>\n",
       "      <td>박민수</td>\n",
       "      <td>25000</td>\n",
       "      <td>2</td>\n",
       "    </tr>\n",
       "    <tr>\n",
       "      <th>인공지능 시대</th>\n",
       "      <td>최지연</td>\n",
       "      <td>30000</td>\n",
       "      <td>1</td>\n",
       "    </tr>\n",
       "  </tbody>\n",
       "</table>\n",
       "</div>"
      ],
      "text/plain": [
       "            저자     가격  대출가능권수\n",
       "제목                           \n",
       "파이썬 프로그래밍  이영희  22000       5\n",
       "데이터베이스 개론  홍길동  20000       4\n",
       "데이터 분석 입문  김철수  18000       3\n",
       "머신러닝 기초    박민수  25000       2\n",
       "인공지능 시대    최지연  30000       1"
      ]
     },
     "execution_count": 171,
     "metadata": {},
     "output_type": "execute_result"
    }
   ],
   "source": [
    "df.sort_values(['대출가능권수'], ascending=False)"
   ]
  },
  {
   "cell_type": "code",
   "execution_count": 173,
   "id": "01c3650e-1eb1-469c-82ab-10dd0ff3a418",
   "metadata": {},
   "outputs": [
    {
     "data": {
      "text/plain": [
       "np.float64(23000.0)"
      ]
     },
     "execution_count": 173,
     "metadata": {},
     "output_type": "execute_result"
    }
   ],
   "source": [
    "df['가격'].mean()"
   ]
  },
  {
   "cell_type": "markdown",
   "id": "2207686b-ba11-4246-900f-d7ddc0808ace",
   "metadata": {},
   "source": [
    "## 5.3 데이터베이스 연결하기\n",
    "- 설치형 데이터베이스 : mysql, oracle...  \n",
    "- 파일형 데이터베이스 : sqlite ..\n",
    "    파일형 데이터베이스는 파일만 있으면 어디서든 열 수 있다"
   ]
  },
  {
   "cell_type": "markdown",
   "id": "085fd86d-b0d1-4413-b954-7bbaeb928b21",
   "metadata": {},
   "source": [
    "### 데이터베이스 연결 및 테이블 생성"
   ]
  },
  {
   "cell_type": "code",
   "execution_count": 174,
   "id": "f196d7ce-3b5e-45be-968a-585c5b09c7a8",
   "metadata": {},
   "outputs": [],
   "source": [
    "# 모듈 불러오기\n",
    "import sqlite3"
   ]
  },
  {
   "cell_type": "code",
   "execution_count": 175,
   "id": "c76c0cbc-9649-4175-b0ef-88e7484ae519",
   "metadata": {},
   "outputs": [],
   "source": [
    "# 데이터 베이스 연결 또는 생성\n",
    "# connect(데이터베이스 이름)\n",
    "con = sqlite3.connect('mydata.sqlite')"
   ]
  },
  {
   "cell_type": "code",
   "execution_count": null,
   "id": "434e3c94-16ea-4249-877e-1c5eec51453e",
   "metadata": {},
   "outputs": [],
   "source": [
    "# 학생의 정보를 저장할 테이블 생성\n",
    "# 데이터베이스 명령: sql(쿼리)\n",
    "# create\n",
    "# insert select update delete \n",
    "# commit rollback\n",
    "con.execute(\"CREATE TABLE student (id INTEGER, name TEXT, age INTEGER)\")\n",
    "# 테이블에 데이터 추가\n",
    "con.execute(\"INSERT INTO student VALUES (1, '둘리', 25)\")\n",
    "con.execute(\"INSERT INTO student VALUES (2, '도우너', 30)\")\n",
    "con.commit()"
   ]
  },
  {
   "cell_type": "markdown",
   "id": "6d88853f-d6ea-48cf-b9dc-5d8a78faee8b",
   "metadata": {},
   "source": [
    "### 테이블에 있는 데이터 조회"
   ]
  },
  {
   "cell_type": "code",
   "execution_count": 180,
   "id": "6671031c-9c46-4ea1-b02d-c8724a7791a0",
   "metadata": {},
   "outputs": [
    {
     "data": {
      "text/plain": [
       "[(1, '둘리', 25), (2, '도우너', 30)]"
      ]
     },
     "execution_count": 180,
     "metadata": {},
     "output_type": "execute_result"
    }
   ],
   "source": [
    "cur = con.execute('SELECT * FROM student')\n",
    "# 쿼리 결과 꺼내기\n",
    "rows = cur.fetchall()\n",
    "rows"
   ]
  },
  {
   "cell_type": "markdown",
   "id": "6d7b9129-c218-455e-9608-faaa42ce6348",
   "metadata": {},
   "source": [
    "### 단건 데이터 조회"
   ]
  },
  {
   "cell_type": "code",
   "execution_count": 182,
   "id": "e064e77a-9405-4a91-9bd9-c63179bafb70",
   "metadata": {},
   "outputs": [
    {
     "data": {
      "text/plain": [
       "(1, '둘리', 25)"
      ]
     },
     "execution_count": 182,
     "metadata": {},
     "output_type": "execute_result"
    }
   ],
   "source": [
    "cur = con.execute('SELECT * FROM student WHERE id = 1')\n",
    "# 쿼리 결과 확인\n",
    "row = cur.fetchone()\n",
    "row"
   ]
  },
  {
   "cell_type": "markdown",
   "id": "7f20e0a6-a2ac-4cca-8ab8-f77d944eba19",
   "metadata": {},
   "source": [
    "## 5.3 공공데이터 활용하기"
   ]
  },
  {
   "cell_type": "markdown",
   "id": "6f3bbb6d-1670-411c-84dd-3c0bb66d486d",
   "metadata": {},
   "source": [
    "### 인천지역의 9/14 날씨 데이터 가져오기"
   ]
  },
  {
   "cell_type": "code",
   "execution_count": 198,
   "id": "5a4047d6-2e87-490c-9427-13b4a047dbe7",
   "metadata": {},
   "outputs": [
    {
     "name": "stdout",
     "output_type": "stream",
     "text": [
      "     지점 지점명                일시    기온  습도\n",
      "0   112  인천   2025-09-14 1:00  22.2  84\n",
      "1   112  인천   2025-09-14 2:00  21.8  86\n",
      "2   112  인천   2025-09-14 3:00  21.7  87\n",
      "3   112  인천   2025-09-14 4:00  21.4  87\n",
      "4   112  인천   2025-09-14 5:00  21.2  87\n",
      "5   112  인천   2025-09-14 6:00  21.2  87\n",
      "6   112  인천   2025-09-14 7:00  21.3  87\n",
      "7   112  인천   2025-09-14 8:00  22.3  86\n",
      "8   112  인천   2025-09-14 9:00  22.9  85\n",
      "9   112  인천  2025-09-14 10:00  23.8  82\n",
      "10  112  인천  2025-09-14 11:00  24.6  79\n",
      "11  112  인천  2025-09-14 12:00  25.9  71\n",
      "12  112  인천  2025-09-14 13:00  26.9  64\n",
      "13  112  인천  2025-09-14 14:00  27.4  61\n",
      "14  112  인천  2025-09-14 15:00  27.7  65\n",
      "15  112  인천  2025-09-14 16:00  27.4  70\n",
      "16  112  인천  2025-09-14 17:00  27.0  68\n",
      "17  112  인천  2025-09-14 18:00  26.4  70\n",
      "18  112  인천  2025-09-14 19:00  25.2  73\n",
      "19  112  인천  2025-09-14 20:00  24.7  78\n",
      "20  112  인천  2025-09-14 21:00  24.5  82\n",
      "21  112  인천  2025-09-14 22:00  24.2  85\n",
      "22  112  인천  2025-09-14 23:00  23.9  84\n",
      "23  112  인천   2025-09-15 0:00  23.7  84\n",
      "RangeIndex(start=0, stop=24, step=1)\n",
      "Index(['지점', '지점명', '일시', '기온', '습도'], dtype='object')\n"
     ]
    }
   ],
   "source": [
    "# CSV 파일 읽기\n",
    "df = pd.read_csv('sample-20250916T010128Z-1-001/sample/OBS_ASOS_TIM_20250916161140.csv',\n",
    "           encoding='euc-kr')\n",
    "# 행열 이름은 자동으로 설정\n",
    "# 행은 정수, 열은 csv의 첫번째 행\n",
    "print(df)\n",
    "print(df.index)\n",
    "print(df.columns)"
   ]
  },
  {
   "cell_type": "markdown",
   "id": "2077bd51-921f-4be0-83c6-1559e54fe36a",
   "metadata": {},
   "source": [
    "#### 하루 평균 기온과 습도 구하기"
   ]
  },
  {
   "cell_type": "code",
   "execution_count": 197,
   "id": "b5b63dc9-0b32-4d82-b125-0c2a2507691a",
   "metadata": {},
   "outputs": [
    {
     "data": {
      "text/plain": [
       "78"
      ]
     },
     "execution_count": 197,
     "metadata": {},
     "output_type": "execute_result"
    }
   ],
   "source": [
    "# 기온\n",
    "int(df['기온'].mean())\n",
    "int(df['습도'].mean())"
   ]
  },
  {
   "cell_type": "markdown",
   "id": "1bfbd6a6-e5a1-4562-a361-e123fff5a7e6",
   "metadata": {},
   "source": [
    "#### 하루 중에 제일 더운 시간은?"
   ]
  },
  {
   "cell_type": "code",
   "execution_count": 201,
   "id": "08c40a4a-682b-4f2d-8e5c-3ee6f1337d20",
   "metadata": {},
   "outputs": [
    {
     "data": {
      "text/plain": [
       "'2025-09-14 15:00'"
      ]
     },
     "execution_count": 201,
     "metadata": {},
     "output_type": "execute_result"
    }
   ],
   "source": [
    "# idxmax : 가장 큰 값이 포함되어 있는 행의 위치\n",
    "i = df['기온'].idxmax()\n",
    "# id 설정 안되어 있기 때문에 행의 이름과 위치가 같음\n",
    "df.loc[i]\n",
    "df.loc[i, '일시']"
   ]
  },
  {
   "cell_type": "code",
   "execution_count": 227,
   "id": "b0c94627-8708-42e0-8324-3e971ff814e4",
   "metadata": {},
   "outputs": [
    {
     "data": {
      "text/html": [
       "<div>\n",
       "<style scoped>\n",
       "    .dataframe tbody tr th:only-of-type {\n",
       "        vertical-align: middle;\n",
       "    }\n",
       "\n",
       "    .dataframe tbody tr th {\n",
       "        vertical-align: top;\n",
       "    }\n",
       "\n",
       "    .dataframe thead th {\n",
       "        text-align: right;\n",
       "    }\n",
       "</style>\n",
       "<table border=\"1\" class=\"dataframe\">\n",
       "  <thead>\n",
       "    <tr style=\"text-align: right;\">\n",
       "      <th></th>\n",
       "      <th>정류소명</th>\n",
       "      <th>정류소아이디</th>\n",
       "      <th>총승차건수</th>\n",
       "      <th>총하차건수</th>\n",
       "      <th>승차건수(카드)</th>\n",
       "      <th>하차건수(카드)</th>\n",
       "      <th>승차건수(현금)</th>\n",
       "      <th>일평균승하차건수</th>\n",
       "    </tr>\n",
       "  </thead>\n",
       "  <tbody>\n",
       "    <tr>\n",
       "      <th>0</th>\n",
       "      <td>(구)주안2동치안센터</td>\n",
       "      <td>37302</td>\n",
       "      <td>7704</td>\n",
       "      <td>4576</td>\n",
       "      <td>7704</td>\n",
       "      <td>4576</td>\n",
       "      <td>0</td>\n",
       "      <td>396</td>\n",
       "    </tr>\n",
       "    <tr>\n",
       "      <th>1</th>\n",
       "      <td>(주)경동세라믹스</td>\n",
       "      <td>89146</td>\n",
       "      <td>868</td>\n",
       "      <td>10</td>\n",
       "      <td>868</td>\n",
       "      <td>10</td>\n",
       "      <td>0</td>\n",
       "      <td>28</td>\n",
       "    </tr>\n",
       "    <tr>\n",
       "      <th>2</th>\n",
       "      <td>(주)경인양행앞</td>\n",
       "      <td>42096</td>\n",
       "      <td>1670</td>\n",
       "      <td>1030</td>\n",
       "      <td>1670</td>\n",
       "      <td>1030</td>\n",
       "      <td>0</td>\n",
       "      <td>87</td>\n",
       "    </tr>\n",
       "    <tr>\n",
       "      <th>3</th>\n",
       "      <td>(주)경인양행앞</td>\n",
       "      <td>42097</td>\n",
       "      <td>2131</td>\n",
       "      <td>5063</td>\n",
       "      <td>2131</td>\n",
       "      <td>5063</td>\n",
       "      <td>0</td>\n",
       "      <td>232</td>\n",
       "    </tr>\n",
       "    <tr>\n",
       "      <th>4</th>\n",
       "      <td>(주)대한특수금속</td>\n",
       "      <td>39050</td>\n",
       "      <td>1218</td>\n",
       "      <td>150</td>\n",
       "      <td>1218</td>\n",
       "      <td>150</td>\n",
       "      <td>0</td>\n",
       "      <td>44</td>\n",
       "    </tr>\n",
       "    <tr>\n",
       "      <th>...</th>\n",
       "      <td>...</td>\n",
       "      <td>...</td>\n",
       "      <td>...</td>\n",
       "      <td>...</td>\n",
       "      <td>...</td>\n",
       "      <td>...</td>\n",
       "      <td>...</td>\n",
       "      <td>...</td>\n",
       "    </tr>\n",
       "    <tr>\n",
       "      <th>6666</th>\n",
       "      <td>힐스테이트학익104동앞</td>\n",
       "      <td>37670</td>\n",
       "      <td>10904</td>\n",
       "      <td>5985</td>\n",
       "      <td>10904</td>\n",
       "      <td>5985</td>\n",
       "      <td>0</td>\n",
       "      <td>544</td>\n",
       "    </tr>\n",
       "    <tr>\n",
       "      <th>6667</th>\n",
       "      <td>힐캐슬프라자</td>\n",
       "      <td>39329</td>\n",
       "      <td>13176</td>\n",
       "      <td>19090</td>\n",
       "      <td>13176</td>\n",
       "      <td>19090</td>\n",
       "      <td>0</td>\n",
       "      <td>1040</td>\n",
       "    </tr>\n",
       "    <tr>\n",
       "      <th>6668</th>\n",
       "      <td>힐캐슬프라자</td>\n",
       "      <td>39331</td>\n",
       "      <td>20701</td>\n",
       "      <td>10906</td>\n",
       "      <td>20701</td>\n",
       "      <td>10906</td>\n",
       "      <td>0</td>\n",
       "      <td>1019</td>\n",
       "    </tr>\n",
       "    <tr>\n",
       "      <th>6669</th>\n",
       "      <td>힘찬병원</td>\n",
       "      <td>40891</td>\n",
       "      <td>5907</td>\n",
       "      <td>8183</td>\n",
       "      <td>5907</td>\n",
       "      <td>8183</td>\n",
       "      <td>0</td>\n",
       "      <td>454</td>\n",
       "    </tr>\n",
       "    <tr>\n",
       "      <th>6670</th>\n",
       "      <td>힘찬병원</td>\n",
       "      <td>40892</td>\n",
       "      <td>4912</td>\n",
       "      <td>3424</td>\n",
       "      <td>4912</td>\n",
       "      <td>3424</td>\n",
       "      <td>0</td>\n",
       "      <td>268</td>\n",
       "    </tr>\n",
       "  </tbody>\n",
       "</table>\n",
       "<p>6671 rows × 8 columns</p>\n",
       "</div>"
      ],
      "text/plain": [
       "              정류소명  정류소아이디  총승차건수  총하차건수  승차건수(카드)  하차건수(카드)  승차건수(현금)  \\\n",
       "0      (구)주안2동치안센터   37302   7704   4576      7704      4576         0   \n",
       "1        (주)경동세라믹스   89146    868     10       868        10         0   \n",
       "2         (주)경인양행앞   42096   1670   1030      1670      1030         0   \n",
       "3         (주)경인양행앞   42097   2131   5063      2131      5063         0   \n",
       "4        (주)대한특수금속   39050   1218    150      1218       150         0   \n",
       "...            ...     ...    ...    ...       ...       ...       ...   \n",
       "6666  힐스테이트학익104동앞   37670  10904   5985     10904      5985         0   \n",
       "6667        힐캐슬프라자   39329  13176  19090     13176     19090         0   \n",
       "6668        힐캐슬프라자   39331  20701  10906     20701     10906         0   \n",
       "6669          힘찬병원   40891   5907   8183      5907      8183         0   \n",
       "6670          힘찬병원   40892   4912   3424      4912      3424         0   \n",
       "\n",
       "      일평균승하차건수  \n",
       "0          396  \n",
       "1           28  \n",
       "2           87  \n",
       "3          232  \n",
       "4           44  \n",
       "...        ...  \n",
       "6666       544  \n",
       "6667      1040  \n",
       "6668      1019  \n",
       "6669       454  \n",
       "6670       268  \n",
       "\n",
       "[6671 rows x 8 columns]"
      ]
     },
     "execution_count": 227,
     "metadata": {},
     "output_type": "execute_result"
    }
   ],
   "source": [
    "df = pd.read_csv('sample-20250916T010128Z-1-001\\sample\\인천광역시_정류장별 이용승객 현황_20250731.csv',\n",
    "                 encoding='euc-kr')\n",
    "df"
   ]
  },
  {
   "cell_type": "code",
   "execution_count": 237,
   "id": "a593fe55-256c-4411-aebc-8a7e5bf4a449",
   "metadata": {},
   "outputs": [
    {
     "data": {
      "text/html": [
       "<div>\n",
       "<style scoped>\n",
       "    .dataframe tbody tr th:only-of-type {\n",
       "        vertical-align: middle;\n",
       "    }\n",
       "\n",
       "    .dataframe tbody tr th {\n",
       "        vertical-align: top;\n",
       "    }\n",
       "\n",
       "    .dataframe thead th {\n",
       "        text-align: right;\n",
       "    }\n",
       "</style>\n",
       "<table border=\"1\" class=\"dataframe\">\n",
       "  <thead>\n",
       "    <tr style=\"text-align: right;\">\n",
       "      <th></th>\n",
       "      <th>정류소명</th>\n",
       "      <th>정류소아이디</th>\n",
       "      <th>총승차건수</th>\n",
       "      <th>총하차건수</th>\n",
       "      <th>승차건수(카드)</th>\n",
       "      <th>하차건수(카드)</th>\n",
       "      <th>승차건수(현금)</th>\n",
       "      <th>일평균승하차건수</th>\n",
       "    </tr>\n",
       "  </thead>\n",
       "  <tbody>\n",
       "    <tr>\n",
       "      <th>1798</th>\n",
       "      <td>동암남부역</td>\n",
       "      <td>40797</td>\n",
       "      <td>126437</td>\n",
       "      <td>108459</td>\n",
       "      <td>126437</td>\n",
       "      <td>108459</td>\n",
       "      <td>0</td>\n",
       "      <td>7577</td>\n",
       "    </tr>\n",
       "    <tr>\n",
       "      <th>1829</th>\n",
       "      <td>동인천역</td>\n",
       "      <td>35185</td>\n",
       "      <td>101169</td>\n",
       "      <td>46791</td>\n",
       "      <td>101169</td>\n",
       "      <td>46791</td>\n",
       "      <td>0</td>\n",
       "      <td>4772</td>\n",
       "    </tr>\n",
       "    <tr>\n",
       "      <th>1938</th>\n",
       "      <td>롯데백화점(인천터미널)</td>\n",
       "      <td>37513</td>\n",
       "      <td>171449</td>\n",
       "      <td>155415</td>\n",
       "      <td>171449</td>\n",
       "      <td>155415</td>\n",
       "      <td>0</td>\n",
       "      <td>10544</td>\n",
       "    </tr>\n",
       "    <tr>\n",
       "      <th>1939</th>\n",
       "      <td>롯데백화점(인천터미널)</td>\n",
       "      <td>39588</td>\n",
       "      <td>158171</td>\n",
       "      <td>116540</td>\n",
       "      <td>158171</td>\n",
       "      <td>116540</td>\n",
       "      <td>0</td>\n",
       "      <td>8861</td>\n",
       "    </tr>\n",
       "    <tr>\n",
       "      <th>3392</th>\n",
       "      <td>송내역남부</td>\n",
       "      <td>56002</td>\n",
       "      <td>140367</td>\n",
       "      <td>119838</td>\n",
       "      <td>140367</td>\n",
       "      <td>119838</td>\n",
       "      <td>0</td>\n",
       "      <td>8393</td>\n",
       "    </tr>\n",
       "    <tr>\n",
       "      <th>3671</th>\n",
       "      <td>시민공원역.포레나미추홀</td>\n",
       "      <td>37326</td>\n",
       "      <td>105656</td>\n",
       "      <td>20031</td>\n",
       "      <td>105656</td>\n",
       "      <td>20031</td>\n",
       "      <td>0</td>\n",
       "      <td>4054</td>\n",
       "    </tr>\n",
       "    <tr>\n",
       "      <th>5132</th>\n",
       "      <td>인하대역(7번출구)</td>\n",
       "      <td>37091</td>\n",
       "      <td>106013</td>\n",
       "      <td>79294</td>\n",
       "      <td>106013</td>\n",
       "      <td>79294</td>\n",
       "      <td>0</td>\n",
       "      <td>5977</td>\n",
       "    </tr>\n",
       "    <tr>\n",
       "      <th>5501</th>\n",
       "      <td>주안역환승정류장</td>\n",
       "      <td>37617</td>\n",
       "      <td>112937</td>\n",
       "      <td>89282</td>\n",
       "      <td>112937</td>\n",
       "      <td>89282</td>\n",
       "      <td>0</td>\n",
       "      <td>6523</td>\n",
       "    </tr>\n",
       "  </tbody>\n",
       "</table>\n",
       "</div>"
      ],
      "text/plain": [
       "              정류소명  정류소아이디   총승차건수   총하차건수  승차건수(카드)  하차건수(카드)  승차건수(현금)  \\\n",
       "1798         동암남부역   40797  126437  108459    126437    108459         0   \n",
       "1829          동인천역   35185  101169   46791    101169     46791         0   \n",
       "1938  롯데백화점(인천터미널)   37513  171449  155415    171449    155415         0   \n",
       "1939  롯데백화점(인천터미널)   39588  158171  116540    158171    116540         0   \n",
       "3392         송내역남부   56002  140367  119838    140367    119838         0   \n",
       "3671  시민공원역.포레나미추홀   37326  105656   20031    105656     20031         0   \n",
       "5132    인하대역(7번출구)   37091  106013   79294    106013     79294         0   \n",
       "5501      주안역환승정류장   37617  112937   89282    112937     89282         0   \n",
       "\n",
       "      일평균승하차건수  \n",
       "1798      7577  \n",
       "1829      4772  \n",
       "1938     10544  \n",
       "1939      8861  \n",
       "3392      8393  \n",
       "3671      4054  \n",
       "5132      5977  \n",
       "5501      6523  "
      ]
     },
     "execution_count": 237,
     "metadata": {},
     "output_type": "execute_result"
    }
   ],
   "source": [
    "df['총승차건수'] >= 100000\n",
    "# bool 시리즈를 인덱스로 사용\n",
    "df[df['총승차건수'] >= 100000]"
   ]
  },
  {
   "cell_type": "code",
   "execution_count": 229,
   "id": "c91732bf-f411-4829-b585-93f0b69899b6",
   "metadata": {},
   "outputs": [
    {
     "data": {
      "text/html": [
       "<div>\n",
       "<style scoped>\n",
       "    .dataframe tbody tr th:only-of-type {\n",
       "        vertical-align: middle;\n",
       "    }\n",
       "\n",
       "    .dataframe tbody tr th {\n",
       "        vertical-align: top;\n",
       "    }\n",
       "\n",
       "    .dataframe thead th {\n",
       "        text-align: right;\n",
       "    }\n",
       "</style>\n",
       "<table border=\"1\" class=\"dataframe\">\n",
       "  <thead>\n",
       "    <tr style=\"text-align: right;\">\n",
       "      <th></th>\n",
       "      <th>정류소명</th>\n",
       "      <th>정류소아이디</th>\n",
       "      <th>총승차건수</th>\n",
       "      <th>총하차건수</th>\n",
       "      <th>승차건수(카드)</th>\n",
       "      <th>하차건수(카드)</th>\n",
       "      <th>승차건수(현금)</th>\n",
       "      <th>일평균승하차건수</th>\n",
       "    </tr>\n",
       "  </thead>\n",
       "  <tbody>\n",
       "    <tr>\n",
       "      <th>127</th>\n",
       "      <td>가나안마을앞</td>\n",
       "      <td>43905</td>\n",
       "      <td>9</td>\n",
       "      <td>0</td>\n",
       "      <td>9</td>\n",
       "      <td>0</td>\n",
       "      <td>0</td>\n",
       "      <td>0</td>\n",
       "    </tr>\n",
       "    <tr>\n",
       "      <th>323</th>\n",
       "      <td>강화산단입구</td>\n",
       "      <td>90097</td>\n",
       "      <td>11</td>\n",
       "      <td>0</td>\n",
       "      <td>11</td>\n",
       "      <td>0</td>\n",
       "      <td>0</td>\n",
       "      <td>0</td>\n",
       "    </tr>\n",
       "    <tr>\n",
       "      <th>512</th>\n",
       "      <td>경동택배</td>\n",
       "      <td>89315</td>\n",
       "      <td>71</td>\n",
       "      <td>0</td>\n",
       "      <td>71</td>\n",
       "      <td>0</td>\n",
       "      <td>0</td>\n",
       "      <td>2</td>\n",
       "    </tr>\n",
       "    <tr>\n",
       "      <th>550</th>\n",
       "      <td>경전말</td>\n",
       "      <td>43934</td>\n",
       "      <td>17</td>\n",
       "      <td>0</td>\n",
       "      <td>17</td>\n",
       "      <td>0</td>\n",
       "      <td>0</td>\n",
       "      <td>0</td>\n",
       "    </tr>\n",
       "    <tr>\n",
       "      <th>653</th>\n",
       "      <td>고비고개정상</td>\n",
       "      <td>43569</td>\n",
       "      <td>3</td>\n",
       "      <td>0</td>\n",
       "      <td>3</td>\n",
       "      <td>0</td>\n",
       "      <td>0</td>\n",
       "      <td>0</td>\n",
       "    </tr>\n",
       "    <tr>\n",
       "      <th>...</th>\n",
       "      <td>...</td>\n",
       "      <td>...</td>\n",
       "      <td>...</td>\n",
       "      <td>...</td>\n",
       "      <td>...</td>\n",
       "      <td>...</td>\n",
       "      <td>...</td>\n",
       "      <td>...</td>\n",
       "    </tr>\n",
       "    <tr>\n",
       "      <th>6196</th>\n",
       "      <td>한국콘베어공업</td>\n",
       "      <td>92049</td>\n",
       "      <td>21</td>\n",
       "      <td>0</td>\n",
       "      <td>21</td>\n",
       "      <td>0</td>\n",
       "      <td>0</td>\n",
       "      <td>0</td>\n",
       "    </tr>\n",
       "    <tr>\n",
       "      <th>6379</th>\n",
       "      <td>허튼개</td>\n",
       "      <td>90120</td>\n",
       "      <td>13</td>\n",
       "      <td>0</td>\n",
       "      <td>13</td>\n",
       "      <td>0</td>\n",
       "      <td>0</td>\n",
       "      <td>0</td>\n",
       "    </tr>\n",
       "    <tr>\n",
       "      <th>6453</th>\n",
       "      <td>현대철강레이져</td>\n",
       "      <td>90221</td>\n",
       "      <td>17</td>\n",
       "      <td>0</td>\n",
       "      <td>16</td>\n",
       "      <td>0</td>\n",
       "      <td>1</td>\n",
       "      <td>0</td>\n",
       "    </tr>\n",
       "    <tr>\n",
       "      <th>6520</th>\n",
       "      <td>화개사입구</td>\n",
       "      <td>90035</td>\n",
       "      <td>119</td>\n",
       "      <td>0</td>\n",
       "      <td>118</td>\n",
       "      <td>0</td>\n",
       "      <td>1</td>\n",
       "      <td>3</td>\n",
       "    </tr>\n",
       "    <tr>\n",
       "      <th>6611</th>\n",
       "      <td>효자교앞</td>\n",
       "      <td>90199</td>\n",
       "      <td>8</td>\n",
       "      <td>0</td>\n",
       "      <td>8</td>\n",
       "      <td>0</td>\n",
       "      <td>0</td>\n",
       "      <td>0</td>\n",
       "    </tr>\n",
       "  </tbody>\n",
       "</table>\n",
       "<p>136 rows × 8 columns</p>\n",
       "</div>"
      ],
      "text/plain": [
       "         정류소명  정류소아이디  총승차건수  총하차건수  승차건수(카드)  하차건수(카드)  승차건수(현금)  일평균승하차건수\n",
       "127    가나안마을앞   43905      9      0         9         0         0         0\n",
       "323    강화산단입구   90097     11      0        11         0         0         0\n",
       "512      경동택배   89315     71      0        71         0         0         2\n",
       "550       경전말   43934     17      0        17         0         0         0\n",
       "653    고비고개정상   43569      3      0         3         0         0         0\n",
       "...       ...     ...    ...    ...       ...       ...       ...       ...\n",
       "6196  한국콘베어공업   92049     21      0        21         0         0         0\n",
       "6379      허튼개   90120     13      0        13         0         0         0\n",
       "6453  현대철강레이져   90221     17      0        16         0         1         0\n",
       "6520    화개사입구   90035    119      0       118         0         1         3\n",
       "6611     효자교앞   90199      8      0         8         0         0         0\n",
       "\n",
       "[136 rows x 8 columns]"
      ]
     },
     "execution_count": 229,
     "metadata": {},
     "output_type": "execute_result"
    }
   ],
   "source": [
    "df[df['총하차건수'] == 0]"
   ]
  },
  {
   "cell_type": "code",
   "execution_count": 238,
   "id": "fe625f01-434e-4076-836a-3c3d20e9092b",
   "metadata": {},
   "outputs": [
    {
     "data": {
      "text/html": [
       "<div>\n",
       "<style scoped>\n",
       "    .dataframe tbody tr th:only-of-type {\n",
       "        vertical-align: middle;\n",
       "    }\n",
       "\n",
       "    .dataframe tbody tr th {\n",
       "        vertical-align: top;\n",
       "    }\n",
       "\n",
       "    .dataframe thead th {\n",
       "        text-align: right;\n",
       "    }\n",
       "</style>\n",
       "<table border=\"1\" class=\"dataframe\">\n",
       "  <thead>\n",
       "    <tr style=\"text-align: right;\">\n",
       "      <th></th>\n",
       "      <th>정류소명</th>\n",
       "      <th>정류소아이디</th>\n",
       "      <th>총승차건수</th>\n",
       "      <th>총하차건수</th>\n",
       "      <th>승차건수(카드)</th>\n",
       "      <th>하차건수(카드)</th>\n",
       "      <th>승차건수(현금)</th>\n",
       "      <th>일평균승하차건수</th>\n",
       "    </tr>\n",
       "  </thead>\n",
       "  <tbody>\n",
       "    <tr>\n",
       "      <th>346</th>\n",
       "      <td>강화터미널</td>\n",
       "      <td>43096</td>\n",
       "      <td>60873</td>\n",
       "      <td>42403</td>\n",
       "      <td>60439</td>\n",
       "      <td>42403</td>\n",
       "      <td>434</td>\n",
       "      <td>3331</td>\n",
       "    </tr>\n",
       "  </tbody>\n",
       "</table>\n",
       "</div>"
      ],
      "text/plain": [
       "      정류소명  정류소아이디  총승차건수  총하차건수  승차건수(카드)  하차건수(카드)  승차건수(현금)  일평균승하차건수\n",
       "346  강화터미널   43096  60873  42403     60439     42403       434      3331"
      ]
     },
     "execution_count": 238,
     "metadata": {},
     "output_type": "execute_result"
    }
   ],
   "source": [
    "# 승차건수(현금)이 100건 이상인 정류장\n",
    "df[df['승차건수(현금)'] >= 100]"
   ]
  },
  {
   "cell_type": "code",
   "execution_count": 240,
   "id": "990b81e0-facd-4865-94c9-2ac4f28e116a",
   "metadata": {},
   "outputs": [
    {
     "data": {
      "text/html": [
       "<div>\n",
       "<style scoped>\n",
       "    .dataframe tbody tr th:only-of-type {\n",
       "        vertical-align: middle;\n",
       "    }\n",
       "\n",
       "    .dataframe tbody tr th {\n",
       "        vertical-align: top;\n",
       "    }\n",
       "\n",
       "    .dataframe thead th {\n",
       "        text-align: right;\n",
       "    }\n",
       "</style>\n",
       "<table border=\"1\" class=\"dataframe\">\n",
       "  <thead>\n",
       "    <tr style=\"text-align: right;\">\n",
       "      <th></th>\n",
       "      <th>정류소명</th>\n",
       "      <th>정류소아이디</th>\n",
       "      <th>총승차건수</th>\n",
       "      <th>총하차건수</th>\n",
       "      <th>승차건수(카드)</th>\n",
       "      <th>하차건수(카드)</th>\n",
       "      <th>승차건수(현금)</th>\n",
       "      <th>일평균승하차건수</th>\n",
       "    </tr>\n",
       "  </thead>\n",
       "  <tbody>\n",
       "    <tr>\n",
       "      <th>917</th>\n",
       "      <td>국화리야영장앞</td>\n",
       "      <td>43843</td>\n",
       "      <td>1</td>\n",
       "      <td>52</td>\n",
       "      <td>0</td>\n",
       "      <td>52</td>\n",
       "      <td>1</td>\n",
       "      <td>1</td>\n",
       "    </tr>\n",
       "    <tr>\n",
       "      <th>2942</th>\n",
       "      <td>상용진료소앞</td>\n",
       "      <td>90004</td>\n",
       "      <td>2</td>\n",
       "      <td>69</td>\n",
       "      <td>0</td>\n",
       "      <td>69</td>\n",
       "      <td>2</td>\n",
       "      <td>2</td>\n",
       "    </tr>\n",
       "    <tr>\n",
       "      <th>5149</th>\n",
       "      <td>인화성입구</td>\n",
       "      <td>90063</td>\n",
       "      <td>2</td>\n",
       "      <td>24</td>\n",
       "      <td>0</td>\n",
       "      <td>24</td>\n",
       "      <td>2</td>\n",
       "      <td>0</td>\n",
       "    </tr>\n",
       "  </tbody>\n",
       "</table>\n",
       "</div>"
      ],
      "text/plain": [
       "         정류소명  정류소아이디  총승차건수  총하차건수  승차건수(카드)  하차건수(카드)  승차건수(현금)  일평균승하차건수\n",
       "917   국화리야영장앞   43843      1     52         0        52         1         1\n",
       "2942   상용진료소앞   90004      2     69         0        69         2         2\n",
       "5149    인화성입구   90063      2     24         0        24         2         0"
      ]
     },
     "execution_count": 240,
     "metadata": {},
     "output_type": "execute_result"
    }
   ],
   "source": [
    "# 승차건수(현금)이 승차건수(카드)보다 많은 정류장\n",
    "df[df['승차건수(현금)'] > df['승차건수(카드)']]\n",
    "# 시리즈 >= 시리즈 : "
   ]
  },
  {
   "cell_type": "code",
   "execution_count": null,
   "id": "d3e56b38-c658-47d7-88c2-fb840ff7c959",
   "metadata": {},
   "outputs": [],
   "source": []
  },
  {
   "cell_type": "code",
   "execution_count": null,
   "id": "6b808836-e5a1-419d-a03c-287554cb833d",
   "metadata": {},
   "outputs": [],
   "source": []
  },
  {
   "cell_type": "code",
   "execution_count": null,
   "id": "77c4d257-b87d-414c-995a-5202a5d01764",
   "metadata": {},
   "outputs": [],
   "source": []
  },
  {
   "cell_type": "code",
   "execution_count": null,
   "id": "191550fa-a74d-48c7-8c20-aa50a2cdcfdc",
   "metadata": {},
   "outputs": [],
   "source": []
  },
  {
   "cell_type": "code",
   "execution_count": null,
   "id": "1d03fc11-259a-4f8a-b01d-392bc3e3e998",
   "metadata": {},
   "outputs": [],
   "source": []
  },
  {
   "cell_type": "code",
   "execution_count": null,
   "id": "4aa2dd11-405d-4f9a-8125-4d1ca6d2bb54",
   "metadata": {},
   "outputs": [],
   "source": []
  },
  {
   "cell_type": "code",
   "execution_count": null,
   "id": "1f9acdfb-5005-45f7-9e28-1a3665f903fa",
   "metadata": {},
   "outputs": [],
   "source": []
  }
 ],
 "metadata": {
  "kernelspec": {
   "display_name": "Python 3 (ipykernel)",
   "language": "python",
   "name": "python3"
  },
  "language_info": {
   "codemirror_mode": {
    "name": "ipython",
    "version": 3
   },
   "file_extension": ".py",
   "mimetype": "text/x-python",
   "name": "python",
   "nbconvert_exporter": "python",
   "pygments_lexer": "ipython3",
   "version": "3.10.18"
  }
 },
 "nbformat": 4,
 "nbformat_minor": 5
}
