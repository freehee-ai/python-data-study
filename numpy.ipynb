{
 "cells": [
  {
   "cell_type": "markdown",
   "id": "05123ba7-6abe-4f9d-8b98-4336d15e5d56",
   "metadata": {},
   "source": [
    "## 3. 넘파이\n",
    "넘파이란? 다차원배열과 수학 함수를 제공하는 모듈(라이브러리)  \n",
    "모듈이란? 필요한 기능을 미리 만들어두고 가져다 쓰는 것"
   ]
  },
  {
   "cell_type": "markdown",
   "id": "03ba07e0-aa46-4876-8924-b040eef476eb",
   "metadata": {},
   "source": [
    "3.1 ndarry  \n",
    "다차원 배열  \n",
    "다차원 배열의 특징:  \n",
    "1. 리스트와 비교했을 때 계산 속도가 빠름  \n",
    "2. 리스트와 달리 모든 요소의 타입이 같음  "
   ]
  },
  {
   "cell_type": "code",
   "execution_count": 2,
   "id": "880ba3f9-d0c7-4ebe-b4b0-ae75baae4529",
   "metadata": {},
   "outputs": [],
   "source": [
    "# 먼저 numpy 모듈 가져오기\n",
    "# 외부에 있는 모듈 파일을 가지고 올때는 import\n",
    "# 모듈의 이름이 길 때는 별칭 붙이기 as np\n",
    "import numpy as np"
   ]
  },
  {
   "cell_type": "code",
   "execution_count": null,
   "id": "0df1d2e4-80ff-4f73-88aa-9cf219491491",
   "metadata": {},
   "outputs": [],
   "source": []
  },
  {
   "cell_type": "code",
   "execution_count": 3,
   "id": "075e20ee-a101-42ee-b833-2e556f0ca5f6",
   "metadata": {},
   "outputs": [
    {
     "data": {
      "text/plain": [
       "array(['a', 'b', 'c'], dtype='<U1')"
      ]
     },
     "execution_count": 3,
     "metadata": {},
     "output_type": "execute_result"
    }
   ],
   "source": [
    "# 넘파이 배열 만들기\n",
    "# 입력값: 리스트\n",
    "a = np.array([1,2,3])\n",
    "a\n",
    "b = np.array(['a','b','c'])\n",
    "b"
   ]
  },
  {
   "cell_type": "markdown",
   "id": "d1fd1be0-7057-4af9-b259-6c68d14c87d1",
   "metadata": {},
   "source": [
    "NumPy 배열의 dtype으로 표시된 '<U1'은 다음 의미를 가집니다.\n",
    "\n",
    "'U'는 Unicode 문자열 데이터 타입을 뜻하며, Python 3의 문자열은 기본적으로 Unicode입니다.\n",
    "\n",
    "숫자 1은 문자열의 최대 길이가 1글자임을 나타냅니다.\n",
    "\n",
    "예를 들어 np.array(['a','b','c'])를 생성하면 각 원소는 한 글자짜리 Unicode 문자열이라 dtype이 '<U1'로 표시됩니다.\n",
    "\n",
    "즉, dtype='<U1'는 이 배열이 길이 1의 유니코드 문자열로 구성된 배열임을 의미합니다.\n",
    "\n",
    "추가로,\n",
    "\n",
    "만약 문자열 길이가 길면, 예를 들어 최대 10글자면 '<U10'로 표시됩니다.\n",
    "\n",
    "숫자와 문자열이 섞이면 타입이 확장되어 더 긴 문자열 형태(dtype)로 변환될 수 있습니다.\n",
    "\n",
    "요약: 배열 내부가 문자형이고 최대 1글자로 제한된 Unicode 문자열 배열임을 의미하는 dtype 표기입니다."
   ]
  },
  {
   "cell_type": "markdown",
   "id": "0bf5047a-894e-4795-a821-21d29a74f89e",
   "metadata": {},
   "source": []
  },
  {
   "cell_type": "code",
   "execution_count": 9,
   "id": "4d1bb9b6-408e-404c-8aad-d389a93e4caf",
   "metadata": {},
   "outputs": [
    {
     "data": {
      "text/plain": [
       "array([[1, 2, 3],\n",
       "       [4, 5, 6],\n",
       "       [7, 8, 9]])"
      ]
     },
     "execution_count": 9,
     "metadata": {},
     "output_type": "execute_result"
    }
   ],
   "source": [
    "# 2차원 배열 생성\n",
    "# 2차원 배열은 1차원 배열의 묶음\n",
    "c = np.array([[1,2,3],[4,5,6]])\n",
    "c\n",
    "# 3행 3열 크기의 2차원 배열 생성\n",
    "d = np.array([[1,2,3],[4,5,6],[7,8,9]])\n",
    "d"
   ]
  },
  {
   "cell_type": "code",
   "execution_count": 12,
   "id": "b498cf77-ed73-4859-8c4d-e5556433be3e",
   "metadata": {},
   "outputs": [
    {
     "data": {
      "text/plain": [
       "array([1, 3, 5, 7, 9])"
      ]
     },
     "execution_count": 12,
     "metadata": {},
     "output_type": "execute_result"
    }
   ],
   "source": [
    "# 주석 단축키 : ctrl + /\n",
    "# arrange : 숫자 여러개를 생성하는 함수\n",
    "# 0부터 연속된 숫자가 입력된 개수만큼 생성\n",
    "a = np.arange(10)\n",
    "# 1부터 10까지 생성\n",
    "b = np.arange(1,11)\n",
    "# 1부터 10까지 2씩 건너뛰면서 생성\n",
    "c = np.arange(1,11,2)\n",
    "c"
   ]
  },
  {
   "cell_type": "markdown",
   "id": "35cdc06d-44a4-492c-8714-5a69c122dcd7",
   "metadata": {},
   "source": [
    "## 연습문제"
   ]
  },
  {
   "cell_type": "code",
   "execution_count": 14,
   "id": "30043bbc-3a93-4cef-b2b2-03bbddaed790",
   "metadata": {},
   "outputs": [
    {
     "data": {
      "text/plain": [
       "array([85, 90, 78, 92, 88])"
      ]
     },
     "execution_count": 14,
     "metadata": {},
     "output_type": "execute_result"
    }
   ],
   "source": [
    "scores = np.array([85,90,78,92,88])\n",
    "scores"
   ]
  },
  {
   "cell_type": "code",
   "execution_count": 16,
   "id": "a07461d2-43a2-4265-9ad6-931c24bb6dbd",
   "metadata": {},
   "outputs": [
    {
     "data": {
      "text/plain": [
       "array([160, 165, 170, 175, 180])"
      ]
     },
     "execution_count": 16,
     "metadata": {},
     "output_type": "execute_result"
    }
   ],
   "source": [
    "heights = np.array([160,165,170,175,180])\n",
    "heights"
   ]
  },
  {
   "cell_type": "code",
   "execution_count": 17,
   "id": "4d86e322-a924-494b-9ae6-f7af939f47c6",
   "metadata": {},
   "outputs": [
    {
     "data": {
      "text/plain": [
       "array([1200, 1500, 1800, 2100])"
      ]
     },
     "execution_count": 17,
     "metadata": {},
     "output_type": "execute_result"
    }
   ],
   "source": [
    "price = np.array([1200,1500,1800,2100])\n",
    "price"
   ]
  },
  {
   "cell_type": "code",
   "execution_count": 18,
   "id": "851ecbf9-4fe0-4661-9cd3-50a2b67dd31f",
   "metadata": {},
   "outputs": [
    {
     "data": {
      "text/plain": [
       "array([20, 22, 19, 25, 30])"
      ]
     },
     "execution_count": 18,
     "metadata": {},
     "output_type": "execute_result"
    }
   ],
   "source": [
    "temps = np.array([20,22,19,25,30])\n",
    "temps"
   ]
  },
  {
   "cell_type": "markdown",
   "id": "b8e4e12b-65e6-4ad0-9a17-41a08e6fdaba",
   "metadata": {},
   "source": [
    "## 연습문제"
   ]
  },
  {
   "cell_type": "code",
   "execution_count": 19,
   "id": "0210e233-20cf-4031-9836-d312d274d7df",
   "metadata": {},
   "outputs": [
    {
     "data": {
      "text/plain": [
       "array([0, 1, 2, 3, 4])"
      ]
     },
     "execution_count": 19,
     "metadata": {},
     "output_type": "execute_result"
    }
   ],
   "source": [
    "array = np.arange(5)\n",
    "array"
   ]
  },
  {
   "cell_type": "code",
   "execution_count": 20,
   "id": "f7da027f-23b9-4f0c-b177-0c656be1927d",
   "metadata": {},
   "outputs": [
    {
     "data": {
      "text/plain": [
       "array([0, 1, 2, 3, 4, 5, 6, 7, 8, 9])"
      ]
     },
     "execution_count": 20,
     "metadata": {},
     "output_type": "execute_result"
    }
   ],
   "source": [
    "array = np.arange(10)\n",
    "array"
   ]
  },
  {
   "cell_type": "code",
   "execution_count": 21,
   "id": "1e649de4-a2e8-4d3a-9858-2e70134160c5",
   "metadata": {},
   "outputs": [
    {
     "data": {
      "text/plain": [
       "array([3, 4, 5, 6, 7])"
      ]
     },
     "execution_count": 21,
     "metadata": {},
     "output_type": "execute_result"
    }
   ],
   "source": [
    "array = np.arange(3,8)\n",
    "array"
   ]
  },
  {
   "cell_type": "code",
   "execution_count": 22,
   "id": "0f61d6a2-58b3-4d8d-8808-ec5f82b0a50b",
   "metadata": {},
   "outputs": [
    {
     "data": {
      "text/plain": [
       "array([-2, -1,  0,  1,  2])"
      ]
     },
     "execution_count": 22,
     "metadata": {},
     "output_type": "execute_result"
    }
   ],
   "source": [
    "array = np.arange(-2,3)\n",
    "array"
   ]
  },
  {
   "cell_type": "code",
   "execution_count": null,
   "id": "2c942131-65b1-4eff-97ca-145da43cbcaa",
   "metadata": {},
   "outputs": [],
   "source": []
  },
  {
   "cell_type": "code",
   "execution_count": 23,
   "id": "adff0835-e16b-4df5-93dc-d7e7cb5a10e4",
   "metadata": {},
   "outputs": [
    {
     "data": {
      "text/plain": [
       "array([[0., 0., 0.],\n",
       "       [0., 0., 0.],\n",
       "       [0., 0., 0.]])"
      ]
     },
     "execution_count": 23,
     "metadata": {},
     "output_type": "execute_result"
    }
   ],
   "source": [
    "# zeros : 배열을 생성하고 값을 0으로 초기화\n",
    "# 10개 크기의 배열 생성\n",
    "np.zeros(10)\n",
    "# 2차원 배열 생성\n",
    "np.zeros((3,3)) # 행 열"
   ]
  },
  {
   "cell_type": "code",
   "execution_count": 24,
   "id": "45d0b71a-6858-4b86-88d3-bf03c1c12a57",
   "metadata": {},
   "outputs": [
    {
     "name": "stdout",
     "output_type": "stream",
     "text": [
      "int64\n",
      "1\n",
      "(3,)\n"
     ]
    }
   ],
   "source": [
    "# 1차원 배열 생성\n",
    "# 파이썬의 리스트와 달리, 넘파이 배열은 모든 원소의 자료형이 같다.\n",
    "a = np.array([1,2,3])\n",
    "# 배열의 정보를 확인\n",
    "print(a.dtype) # 자료형\n",
    "print(a.ndim)  # 차원\n",
    "print(a.shape) # 크기"
   ]
  },
  {
   "cell_type": "code",
   "execution_count": 26,
   "id": "e15fff36-7645-49d0-97c0-7eda85695bc9",
   "metadata": {},
   "outputs": [
    {
     "name": "stdout",
     "output_type": "stream",
     "text": [
      "int64\n",
      "2\n",
      "(2, 3)\n"
     ]
    }
   ],
   "source": [
    "# 2차원 배열 생성\n",
    "# 2행 3열 2차원 배열 생성\n",
    "b = np.array([[1,2,3],[4,5,6]])\n",
    "print(b.dtype)\n",
    "print(b.ndim)\n",
    "print(b.shape)"
   ]
  },
  {
   "cell_type": "code",
   "execution_count": 236,
   "id": "3b14e742-930c-4cdb-8d79-b4f9ac77886f",
   "metadata": {},
   "outputs": [
    {
     "data": {
      "text/plain": [
       "dtype('int32')"
      ]
     },
     "execution_count": 236,
     "metadata": {},
     "output_type": "execute_result"
    }
   ],
   "source": [
    "# 실수형 1차원 배열 생성\n",
    "arr = np.array([1.1, 2.1, 3.1])\n",
    "# 자료형 확인\n",
    "arr.dtype\n",
    "# 배열의 형변환\n",
    "# float -> int\n",
    "arr2 = arr.astype(np.int32)\n",
    "arr2.dtype"
   ]
  },
  {
   "cell_type": "code",
   "execution_count": 31,
   "id": "4b06ee13-844f-4d60-8d16-179ba4a3da31",
   "metadata": {},
   "outputs": [
    {
     "name": "stdout",
     "output_type": "stream",
     "text": [
      "4\n",
      "5\n",
      "6\n"
     ]
    }
   ],
   "source": [
    "# 파이썬의 리스트 생성\n",
    "lis = [1,2,3]\n",
    "# 파이썬의 각 원소에 3씩 더하기\n",
    "# 리스트의 원소에 하나씩 계산하려면 for 반복문을 사용해야 한다.\n",
    "for i in lis :\n",
    "    print(i+3)"
   ]
  },
  {
   "cell_type": "code",
   "execution_count": 33,
   "id": "1a598e95-fa77-41b6-b275-15b6aa451fd0",
   "metadata": {},
   "outputs": [
    {
     "data": {
      "text/plain": [
       "array([4, 5, 6])"
      ]
     },
     "execution_count": 33,
     "metadata": {},
     "output_type": "execute_result"
    }
   ],
   "source": [
    "# 넘파이 배열 생성\n",
    "# 넘파이 배열은 for문 없이 각 원소에 값을 계산할 수 있다.\n",
    "# 넘파이 배열은 자동으로 각 원소에 반복 수행이 된다.\n",
    "a = np.array([1,2,3])\n",
    "# 각 원소에 3씩 더하기\n",
    "a + 3"
   ]
  },
  {
   "cell_type": "code",
   "execution_count": 34,
   "id": "edf66de7-9a4c-494d-a7b3-7b7c1920e569",
   "metadata": {},
   "outputs": [
    {
     "data": {
      "text/plain": [
       "array([False, False, False])"
      ]
     },
     "execution_count": 34,
     "metadata": {},
     "output_type": "execute_result"
    }
   ],
   "source": [
    "a = np.array([1,2,3])\n",
    "b = np.array([4,5,6])\n",
    "# 배열 두개를 비교\n",
    "a > b"
   ]
  },
  {
   "cell_type": "markdown",
   "id": "36e537e6-a118-4be2-9ccd-c486de6b5dd5",
   "metadata": {},
   "source": [
    "## 인덱스와 슬라이스"
   ]
  },
  {
   "cell_type": "code",
   "execution_count": 40,
   "id": "094465d9-e112-48fa-8fb9-6af09fded708",
   "metadata": {},
   "outputs": [
    {
     "name": "stdout",
     "output_type": "stream",
     "text": [
      "[0 1 2 3 4 5 6 7 8 9]\n"
     ]
    },
    {
     "data": {
      "text/plain": [
       "array([ 0, 99,  2, 88, 88, 88,  6,  7,  8,  9])"
      ]
     },
     "execution_count": 40,
     "metadata": {},
     "output_type": "execute_result"
    }
   ],
   "source": [
    "# 0~9 숫자 만들고 1차원 배열 생성\n",
    "a = np.arange(10)\n",
    "print(a)\n",
    "# 배열의 우너소 하나 꺼내기\n",
    "a[1]\n",
    "# 범위로 값 꺼내기 (슬라이스)\n",
    "a[3:6]\n",
    "# 원소 값 변경하기\n",
    "# 두번째 원소의 값 변경하기\n",
    "a[1] = 99\n",
    "a\n",
    "# 특정 범위에 있는 값을 모두 변경하기\n",
    "# 3,4,5 번째 데이터 변경\n",
    "a[3:6] = 88\n",
    "a"
   ]
  },
  {
   "cell_type": "code",
   "execution_count": 41,
   "id": "503a67d6-6492-49a1-9f7b-1c3dcd68dbc5",
   "metadata": {},
   "outputs": [
    {
     "data": {
      "text/plain": [
       "array([ 0, 99,  2, 88, 88, 88,  6,  7,  8,  9])"
      ]
     },
     "execution_count": 41,
     "metadata": {},
     "output_type": "execute_result"
    }
   ],
   "source": [
    "# 배열 전체 선택\n",
    "# a를 출력하는 것과 같다.\n",
    "a[:]"
   ]
  },
  {
   "cell_type": "code",
   "execution_count": 42,
   "id": "0e46bb91-8603-43c3-b6b5-a6cfbe54d03a",
   "metadata": {},
   "outputs": [
    {
     "data": {
      "text/plain": [
       "array([999, 999, 999, 999, 999, 999, 999, 999, 999, 999])"
      ]
     },
     "execution_count": 42,
     "metadata": {},
     "output_type": "execute_result"
    }
   ],
   "source": [
    "# 슬라이스로 배열 전체를 선택하고, 값 변경\n",
    "a[:] = 999\n",
    "a"
   ]
  },
  {
   "cell_type": "markdown",
   "id": "f45fc642-3e8c-4313-9858-80f5d72dc5fb",
   "metadata": {},
   "source": [
    "## 연습문제"
   ]
  },
  {
   "cell_type": "code",
   "execution_count": 44,
   "id": "ef829551-e3be-4084-8ac9-c40b1665b84e",
   "metadata": {},
   "outputs": [
    {
     "data": {
      "text/plain": [
       "np.int64(10)"
      ]
     },
     "execution_count": 44,
     "metadata": {},
     "output_type": "execute_result"
    }
   ],
   "source": [
    "arr = np.array([10,20,30,40,50,])\n",
    "arr[0]"
   ]
  },
  {
   "cell_type": "code",
   "execution_count": 45,
   "id": "b4c2ede7-f76e-4f08-974c-19aa1e676980",
   "metadata": {},
   "outputs": [
    {
     "data": {
      "text/plain": [
       "np.int64(30)"
      ]
     },
     "execution_count": 45,
     "metadata": {},
     "output_type": "execute_result"
    }
   ],
   "source": [
    "arr[2]"
   ]
  },
  {
   "cell_type": "code",
   "execution_count": 46,
   "id": "c45cc0f6-ff56-4886-bf0d-d72a30f00709",
   "metadata": {},
   "outputs": [
    {
     "data": {
      "text/plain": [
       "np.int64(50)"
      ]
     },
     "execution_count": 46,
     "metadata": {},
     "output_type": "execute_result"
    }
   ],
   "source": [
    "arr[-1]"
   ]
  },
  {
   "cell_type": "code",
   "execution_count": 48,
   "id": "8e9ecc35-99d3-4457-8485-0fb1c69fe83d",
   "metadata": {},
   "outputs": [
    {
     "data": {
      "text/plain": [
       "array([ 10, 200,  30,  40,  50])"
      ]
     },
     "execution_count": 48,
     "metadata": {},
     "output_type": "execute_result"
    }
   ],
   "source": [
    "arr[1] = 200\n",
    "arr"
   ]
  },
  {
   "cell_type": "code",
   "execution_count": 49,
   "id": "8d9022c1-2243-4843-9c5e-435eea3c675d",
   "metadata": {},
   "outputs": [
    {
     "data": {
      "text/plain": [
       "array([ 10, 200,  30, 999,  50])"
      ]
     },
     "execution_count": 49,
     "metadata": {},
     "output_type": "execute_result"
    }
   ],
   "source": [
    "arr[3] = 999\n",
    "arr"
   ]
  },
  {
   "cell_type": "code",
   "execution_count": 50,
   "id": "36e98392-ed6d-4629-a312-b70e6784ca29",
   "metadata": {},
   "outputs": [
    {
     "data": {
      "text/plain": [
       "np.str_('나')"
      ]
     },
     "execution_count": 50,
     "metadata": {},
     "output_type": "execute_result"
    }
   ],
   "source": [
    "arr = np.array(['가','나','다','라','마'])\n",
    "arr[1]"
   ]
  },
  {
   "cell_type": "code",
   "execution_count": 51,
   "id": "1a5fd9dd-0856-4bf7-beee-26400fd99a70",
   "metadata": {},
   "outputs": [
    {
     "data": {
      "text/plain": [
       "np.str_('라')"
      ]
     },
     "execution_count": 51,
     "metadata": {},
     "output_type": "execute_result"
    }
   ],
   "source": [
    "arr[3]"
   ]
  },
  {
   "cell_type": "code",
   "execution_count": 52,
   "id": "87705699-6308-40d9-8a14-f15ac2cb92db",
   "metadata": {},
   "outputs": [
    {
     "data": {
      "text/plain": [
       "np.str_('마')"
      ]
     },
     "execution_count": 52,
     "metadata": {},
     "output_type": "execute_result"
    }
   ],
   "source": [
    "arr[-1]"
   ]
  },
  {
   "cell_type": "code",
   "execution_count": 54,
   "id": "bd27e2ec-3503-4754-8298-5fc90d31ef93",
   "metadata": {},
   "outputs": [
    {
     "data": {
      "text/plain": [
       "array(['하', '나', '다', '라', '마'], dtype='<U1')"
      ]
     },
     "execution_count": 54,
     "metadata": {},
     "output_type": "execute_result"
    }
   ],
   "source": [
    "arr[0] = '하'\n",
    "arr"
   ]
  },
  {
   "cell_type": "code",
   "execution_count": 55,
   "id": "1c9f1215-7ffd-4757-930b-8430619fba16",
   "metadata": {},
   "outputs": [
    {
     "data": {
      "text/plain": [
       "array(['하', '나', '호', '라', '마'], dtype='<U1')"
      ]
     },
     "execution_count": 55,
     "metadata": {},
     "output_type": "execute_result"
    }
   ],
   "source": [
    "arr[2] ='호'\n",
    "arr"
   ]
  },
  {
   "cell_type": "code",
   "execution_count": 57,
   "id": "fb793d36-03df-4b62-9fc1-d89509f4b1a1",
   "metadata": {},
   "outputs": [
    {
     "data": {
      "text/plain": [
       "array([10, 20, 30])"
      ]
     },
     "execution_count": 57,
     "metadata": {},
     "output_type": "execute_result"
    }
   ],
   "source": [
    "arr = np.array([10,20,30,40,50,60,70])\n",
    "arr[0:3]"
   ]
  },
  {
   "cell_type": "code",
   "execution_count": 59,
   "id": "26c55645-b27d-4018-9c03-29079def73c8",
   "metadata": {},
   "outputs": [
    {
     "data": {
      "text/plain": [
       "array([40, 50, 60, 70])"
      ]
     },
     "execution_count": 59,
     "metadata": {},
     "output_type": "execute_result"
    }
   ],
   "source": [
    "arr[3:]"
   ]
  },
  {
   "cell_type": "code",
   "execution_count": 61,
   "id": "82e630b7-184d-418f-8c8f-a13fe97a9d57",
   "metadata": {},
   "outputs": [
    {
     "data": {
      "text/plain": [
       "array([20, 30, 40, 50])"
      ]
     },
     "execution_count": 61,
     "metadata": {},
     "output_type": "execute_result"
    }
   ],
   "source": [
    "arr[1:5]"
   ]
  },
  {
   "cell_type": "code",
   "execution_count": 63,
   "id": "1a5c7519-342b-4cc3-b4df-ecdf65baf367",
   "metadata": {},
   "outputs": [
    {
     "data": {
      "text/plain": [
       "array(['a', 'b', 'c'], dtype='<U1')"
      ]
     },
     "execution_count": 63,
     "metadata": {},
     "output_type": "execute_result"
    }
   ],
   "source": [
    "arr = np.array(['a','b','c','d','e','f','g'])\n",
    "arr[0:3]"
   ]
  },
  {
   "cell_type": "code",
   "execution_count": 65,
   "id": "0ee98971-da3b-4837-88d2-3fc9059716a7",
   "metadata": {},
   "outputs": [
    {
     "data": {
      "text/plain": [
       "array(['d', 'e', 'f', 'g'], dtype='<U1')"
      ]
     },
     "execution_count": 65,
     "metadata": {},
     "output_type": "execute_result"
    }
   ],
   "source": [
    "arr[3: ]"
   ]
  },
  {
   "cell_type": "code",
   "execution_count": 67,
   "id": "22a83f48-a318-4dbf-8f3a-7a380c14f371",
   "metadata": {},
   "outputs": [
    {
     "data": {
      "text/plain": [
       "array(['b', 'c', 'd', 'e'], dtype='<U1')"
      ]
     },
     "execution_count": 67,
     "metadata": {},
     "output_type": "execute_result"
    }
   ],
   "source": [
    "arr[1:5]"
   ]
  },
  {
   "cell_type": "markdown",
   "id": "2b62ee5a-60e8-416b-a4c0-685d8235dc13",
   "metadata": {},
   "source": [
    "## 2차원 배열의 인덱싱"
   ]
  },
  {
   "cell_type": "code",
   "execution_count": 5,
   "id": "513235d0-6296-45eb-b26a-eee65ba3a099",
   "metadata": {},
   "outputs": [
    {
     "name": "stdout",
     "output_type": "stream",
     "text": [
      "[[1 2 3]\n",
      " [4 5 6]\n",
      " [7 8 9]]\n"
     ]
    }
   ],
   "source": [
    "# 3행 3열 2차원 배열 생성\n",
    "arr = np.array([[1,2,3],[4,5,6],[7,8,9]])\n",
    "print(arr)"
   ]
  },
  {
   "cell_type": "code",
   "execution_count": 71,
   "id": "2bfd5fea-b9bb-4dcf-bd9d-b86be832345f",
   "metadata": {},
   "outputs": [
    {
     "data": {
      "text/plain": [
       "array([7, 8, 9])"
      ]
     },
     "execution_count": 71,
     "metadata": {},
     "output_type": "execute_result"
    }
   ],
   "source": [
    "# 2차원 배열의 인덱스\n",
    "arr[2]"
   ]
  },
  {
   "cell_type": "code",
   "execution_count": 72,
   "id": "89963add-be63-4719-a8ee-17890c459f3e",
   "metadata": {},
   "outputs": [
    {
     "data": {
      "text/plain": [
       "array([1, 2, 3])"
      ]
     },
     "execution_count": 72,
     "metadata": {},
     "output_type": "execute_result"
    }
   ],
   "source": [
    "# 2차원 배열의 인덱스\n",
    "# 행 (인덱스)  열(컬럼)\n",
    "# 첫번째 행 꺼내기\n",
    "arr[0]"
   ]
  },
  {
   "cell_type": "code",
   "execution_count": 75,
   "id": "5076191f-f9ec-4933-ae9b-0894a6c3af60",
   "metadata": {},
   "outputs": [
    {
     "data": {
      "text/plain": [
       "np.int64(5)"
      ]
     },
     "execution_count": 75,
     "metadata": {},
     "output_type": "execute_result"
    }
   ],
   "source": [
    "# 1 꺼내기\n",
    "arr[0][0]  # [행][열]\n",
    "# 9 꺼내기\n",
    "arr[2][2]\n",
    "# 5 꺼내기\n",
    "arr[1][1]\n",
    "# 간단하게 쓰기\n",
    "arr[1,1]"
   ]
  },
  {
   "cell_type": "code",
   "execution_count": 8,
   "id": "0a4413b8-96bb-421f-be31-d062a8b20667",
   "metadata": {},
   "outputs": [
    {
     "data": {
      "text/plain": [
       "np.int64(6)"
      ]
     },
     "execution_count": 8,
     "metadata": {},
     "output_type": "execute_result"
    }
   ],
   "source": [
    "arr[1, 2]"
   ]
  },
  {
   "cell_type": "code",
   "execution_count": 77,
   "id": "d26d3932-cb23-42e0-bbe6-1deaf3bc09c5",
   "metadata": {},
   "outputs": [
    {
     "data": {
      "text/plain": [
       "array([[0, 2, 3],\n",
       "       [4, 0, 6],\n",
       "       [7, 8, 9]])"
      ]
     },
     "execution_count": 77,
     "metadata": {},
     "output_type": "execute_result"
    }
   ],
   "source": [
    "# 배열 원소의 값 바꾸기\n",
    "# 0 -> 1\n",
    "arr[0,0] = 0\n",
    "arr\n",
    "arr[1][1] = 0\n",
    "arr"
   ]
  },
  {
   "cell_type": "markdown",
   "id": "98d41d12-ad41-4ead-b070-d327cac6143e",
   "metadata": {},
   "source": [
    "## 2차원 배열 슬라이스"
   ]
  },
  {
   "cell_type": "code",
   "execution_count": 79,
   "id": "d4bc83ba-5b67-4f90-9191-2e399d08150e",
   "metadata": {},
   "outputs": [
    {
     "data": {
      "text/plain": [
       "array([[1, 2, 3],\n",
       "       [4, 5, 6],\n",
       "       [7, 8, 9]])"
      ]
     },
     "execution_count": 79,
     "metadata": {},
     "output_type": "execute_result"
    }
   ],
   "source": [
    "arr = np.array([[1,2,3],[4,5,6],[7,8,9]])\n",
    "arr"
   ]
  },
  {
   "cell_type": "code",
   "execution_count": 80,
   "id": "a33eac1f-b9c3-43be-840c-1a56b256be3b",
   "metadata": {},
   "outputs": [
    {
     "data": {
      "text/plain": [
       "array([[1, 2, 3],\n",
       "       [4, 5, 6]])"
      ]
     },
     "execution_count": 80,
     "metadata": {},
     "output_type": "execute_result"
    }
   ],
   "source": [
    "# 행을 기준으로 슬라이스\n",
    "# 처음부터 두번째 행까지\n",
    "arr[ :2]"
   ]
  },
  {
   "cell_type": "code",
   "execution_count": 82,
   "id": "f85c8f4b-ec27-4eaf-9d36-19067e08c002",
   "metadata": {},
   "outputs": [
    {
     "data": {
      "text/plain": [
       "array([[5, 6],\n",
       "       [8, 9]])"
      ]
     },
     "execution_count": 82,
     "metadata": {},
     "output_type": "execute_result"
    }
   ],
   "source": [
    "# 행 : 1번, 2번\n",
    "# 열 : 1번, 2번\n",
    "arr[1:3, 1:3]"
   ]
  },
  {
   "cell_type": "code",
   "execution_count": 83,
   "id": "a6df7ea4-4842-4341-8697-4ef8d9131b72",
   "metadata": {},
   "outputs": [
    {
     "data": {
      "text/plain": [
       "array([[1, 2],\n",
       "       [4, 5]])"
      ]
     },
     "execution_count": 83,
     "metadata": {},
     "output_type": "execute_result"
    }
   ],
   "source": [
    "# 행 : 0,1\n",
    "# 열 : 0,1\n",
    "arr[ :2, :2]"
   ]
  },
  {
   "cell_type": "code",
   "execution_count": 84,
   "id": "aa734b7f-3347-49f0-8883-ac6ac6486e53",
   "metadata": {},
   "outputs": [
    {
     "data": {
      "text/plain": [
       "array([4, 5])"
      ]
     },
     "execution_count": 84,
     "metadata": {},
     "output_type": "execute_result"
    }
   ],
   "source": [
    "# 행 : 1\n",
    "# 열 : 0,1\n",
    "arr[ 1, 0:2]"
   ]
  },
  {
   "cell_type": "code",
   "execution_count": 10,
   "id": "f49ae4c5-208f-4f26-8fc2-3b59015bbbb9",
   "metadata": {},
   "outputs": [
    {
     "data": {
      "text/plain": [
       "array([2, 5, 8])"
      ]
     },
     "execution_count": 10,
     "metadata": {},
     "output_type": "execute_result"
    }
   ],
   "source": [
    "arr[ : , 1]"
   ]
  },
  {
   "cell_type": "code",
   "execution_count": 13,
   "id": "37525160-e11b-44f3-9305-fc7faad23ea7",
   "metadata": {},
   "outputs": [
    {
     "data": {
      "text/plain": [
       "array([[ 1,  2,  3],\n",
       "       [ 4,  5,  6],\n",
       "       [ 7, 88,  9]])"
      ]
     },
     "execution_count": 13,
     "metadata": {},
     "output_type": "execute_result"
    }
   ],
   "source": [
    "arr[2, 1] = 88\n",
    "arr"
   ]
  },
  {
   "cell_type": "code",
   "execution_count": 86,
   "id": "1c663c40-949b-4ba3-9205-f09f0037857a",
   "metadata": {},
   "outputs": [],
   "source": [
    "arr = np.array([[10,20,30],\n",
    "               [40,50,60,],\n",
    "               [70,80,90]])"
   ]
  },
  {
   "cell_type": "code",
   "execution_count": 87,
   "id": "cc66b3fd-2527-4f53-bad0-a53dc7b63c52",
   "metadata": {},
   "outputs": [
    {
     "data": {
      "text/plain": [
       "np.int64(20)"
      ]
     },
     "execution_count": 87,
     "metadata": {},
     "output_type": "execute_result"
    }
   ],
   "source": [
    "arr[0,1]"
   ]
  },
  {
   "cell_type": "code",
   "execution_count": 88,
   "id": "b6fcee8d-f16d-4be7-b006-84d57ac2cf7e",
   "metadata": {},
   "outputs": [
    {
     "data": {
      "text/plain": [
       "np.int64(70)"
      ]
     },
     "execution_count": 88,
     "metadata": {},
     "output_type": "execute_result"
    }
   ],
   "source": [
    "arr[2,0]"
   ]
  },
  {
   "cell_type": "code",
   "execution_count": 90,
   "id": "020ada4c-45b8-4030-8008-6bb6c3127b5f",
   "metadata": {},
   "outputs": [
    {
     "data": {
      "text/plain": [
       "array([40, 50, 60])"
      ]
     },
     "execution_count": 90,
     "metadata": {},
     "output_type": "execute_result"
    }
   ],
   "source": [
    "arr[1]"
   ]
  },
  {
   "cell_type": "code",
   "execution_count": 94,
   "id": "9e72954e-d557-4b59-b868-23ddcbd18383",
   "metadata": {},
   "outputs": [
    {
     "data": {
      "text/plain": [
       "array([20, 50, 80])"
      ]
     },
     "execution_count": 94,
     "metadata": {},
     "output_type": "execute_result"
    }
   ],
   "source": [
    "arr[ :, 1]"
   ]
  },
  {
   "cell_type": "code",
   "execution_count": 97,
   "id": "010082e2-04ef-488b-8c64-bf21f28342d2",
   "metadata": {},
   "outputs": [
    {
     "data": {
      "text/plain": [
       "array([[ 10,  20, 300],\n",
       "       [ 40,  50,  60],\n",
       "       [ 70,  80,  90]])"
      ]
     },
     "execution_count": 97,
     "metadata": {},
     "output_type": "execute_result"
    }
   ],
   "source": [
    "arr[0,2] = 300\n",
    "arr"
   ]
  },
  {
   "cell_type": "code",
   "execution_count": 103,
   "id": "4a623f2b-0a30-46f1-832b-46370ca5fb02",
   "metadata": {},
   "outputs": [],
   "source": [
    "arr = np.array([[1,2,3,4],\n",
    "                [5,6,7,8],\n",
    "                [9,10,11,12],\n",
    "                [13,14,15,16]])"
   ]
  },
  {
   "cell_type": "code",
   "execution_count": 104,
   "id": "2a8f36bb-5520-47b0-b481-25ff28131c4b",
   "metadata": {},
   "outputs": [
    {
     "data": {
      "text/plain": [
       "np.int64(7)"
      ]
     },
     "execution_count": 104,
     "metadata": {},
     "output_type": "execute_result"
    }
   ],
   "source": [
    "arr[1,2]"
   ]
  },
  {
   "cell_type": "code",
   "execution_count": 105,
   "id": "83e475e3-3971-40dd-a056-a3ec403ab9b5",
   "metadata": {},
   "outputs": [
    {
     "data": {
      "text/plain": [
       "np.int64(13)"
      ]
     },
     "execution_count": 105,
     "metadata": {},
     "output_type": "execute_result"
    }
   ],
   "source": [
    "arr[3,0]"
   ]
  },
  {
   "cell_type": "code",
   "execution_count": 107,
   "id": "792015e1-8c03-49bd-9967-7b7a09c157b1",
   "metadata": {},
   "outputs": [
    {
     "data": {
      "text/plain": [
       "array([ 9, 10, 11, 12])"
      ]
     },
     "execution_count": 107,
     "metadata": {},
     "output_type": "execute_result"
    }
   ],
   "source": [
    "arr[2]"
   ]
  },
  {
   "cell_type": "code",
   "execution_count": 108,
   "id": "686a2115-5ae6-42b3-9b18-21296d6a93a8",
   "metadata": {},
   "outputs": [
    {
     "data": {
      "text/plain": [
       "array([ 4,  8, 12, 16])"
      ]
     },
     "execution_count": 108,
     "metadata": {},
     "output_type": "execute_result"
    }
   ],
   "source": [
    "arr[:,3]"
   ]
  },
  {
   "cell_type": "code",
   "execution_count": 110,
   "id": "035905bb-39e5-4540-be84-076e253377dd",
   "metadata": {},
   "outputs": [
    {
     "data": {
      "text/plain": [
       "array([[  1,   2,   3, 100],\n",
       "       [  5,   6,   7,   8],\n",
       "       [  9,  10,  11,  12],\n",
       "       [ 13,  14,  15,  16]])"
      ]
     },
     "execution_count": 110,
     "metadata": {},
     "output_type": "execute_result"
    }
   ],
   "source": [
    "arr[0,3] = 100\n",
    "arr"
   ]
  },
  {
   "cell_type": "code",
   "execution_count": 112,
   "id": "55f48de8-a6ec-45eb-9ec1-59e16fcc5797",
   "metadata": {},
   "outputs": [
    {
     "data": {
      "text/plain": [
       "array([[10, 20, 30],\n",
       "       [40, 50, 60],\n",
       "       [70, 80, 90]])"
      ]
     },
     "execution_count": 112,
     "metadata": {},
     "output_type": "execute_result"
    }
   ],
   "source": [
    "arr = np.array([[10,20,30],\n",
    "                [40,50,60],\n",
    "                [70,80,90]])\n",
    "arr"
   ]
  },
  {
   "cell_type": "code",
   "execution_count": 114,
   "id": "dcd41503-bdd8-4409-b393-aea8eac1efa1",
   "metadata": {},
   "outputs": [
    {
     "data": {
      "text/plain": [
       "array([10, 20])"
      ]
     },
     "execution_count": 114,
     "metadata": {},
     "output_type": "execute_result"
    }
   ],
   "source": [
    "arr[0,:2]"
   ]
  },
  {
   "cell_type": "code",
   "execution_count": 115,
   "id": "05408692-5198-4c50-b5e7-89fbbe555a33",
   "metadata": {},
   "outputs": [
    {
     "data": {
      "text/plain": [
       "array([[40, 50, 60],\n",
       "       [70, 80, 90]])"
      ]
     },
     "execution_count": 115,
     "metadata": {},
     "output_type": "execute_result"
    }
   ],
   "source": [
    "arr[1:3]"
   ]
  },
  {
   "cell_type": "code",
   "execution_count": 118,
   "id": "3d186c5d-fa6d-4bb8-a4ef-40f286af1f6a",
   "metadata": {},
   "outputs": [
    {
     "data": {
      "text/plain": [
       "array([[20, 30],\n",
       "       [50, 60],\n",
       "       [80, 90]])"
      ]
     },
     "execution_count": 118,
     "metadata": {},
     "output_type": "execute_result"
    }
   ],
   "source": [
    "arr[:,1:3]"
   ]
  },
  {
   "cell_type": "markdown",
   "id": "7367c596-7ad3-4b85-8fb4-44f30d25e3c2",
   "metadata": {},
   "source": [
    "## 불리언 인덱스  \n",
    "인덱스란? 데이터의 위치  "
   ]
  },
  {
   "cell_type": "code",
   "execution_count": 156,
   "id": "9ed76223-46a4-4ca4-b132-b06facf074ce",
   "metadata": {},
   "outputs": [],
   "source": [
    "# 학생 배열 생성\n",
    "students = np.array(['철수','영희','민수','철수','철수'])\n",
    "# 학생들의 대출 이력 (책제목, 대출일)\n",
    "books = np.array([['수학의정석', 7], ['해리포터', 10],['파이썬 입문', 5],\n",
    "                  ['한국사', 5],['데미안',12]])"
   ]
  },
  {
   "cell_type": "code",
   "execution_count": 157,
   "id": "0e18d6b8-5280-488f-a9a1-b94f6b711b4f",
   "metadata": {},
   "outputs": [
    {
     "data": {
      "text/plain": [
       "array([ True, False, False,  True,  True])"
      ]
     },
     "execution_count": 157,
     "metadata": {},
     "output_type": "execute_result"
    }
   ],
   "source": [
    "# 철수의 대출 이력\n",
    "# 배열 == '비교값'\n",
    "# 배열 전체에 철수를 비교\n",
    "# 총 5번 비교하고 bool 배열 반환\n",
    "arr = students == '철수'\n",
    "arr"
   ]
  },
  {
   "cell_type": "code",
   "execution_count": 158,
   "id": "ab789a88-cd8e-4eec-be46-9e494ce9306f",
   "metadata": {},
   "outputs": [
    {
     "data": {
      "text/plain": [
       "array([['수학의정석', '7'],\n",
       "       ['한국사', '5'],\n",
       "       ['데미안', '12']], dtype='<U21')"
      ]
     },
     "execution_count": 158,
     "metadata": {},
     "output_type": "execute_result"
    }
   ],
   "source": [
    "# books 배열의 인덱스에 bool 배열 넣기\n",
    "# true 에 해당하는 원소만 반환\n",
    "# 조건에 맞는 원소를 꺼낼 때 사용\n",
    "books[students == '철수']"
   ]
  },
  {
   "cell_type": "code",
   "execution_count": 159,
   "id": "eb8cfc7c-bb85-4d1e-83ad-1ffcab7cd952",
   "metadata": {},
   "outputs": [
    {
     "name": "stdout",
     "output_type": "stream",
     "text": [
      "[False  True  True False False]\n"
     ]
    },
    {
     "data": {
      "text/plain": [
       "array([['해리포터', '10'],\n",
       "       ['파이썬 입문', '5']], dtype='<U21')"
      ]
     },
     "execution_count": 159,
     "metadata": {},
     "output_type": "execute_result"
    }
   ],
   "source": [
    "print(students != '철수')\n",
    "# 철수가 아닌 대출 이력 찾기\n",
    "books[students != '철수']"
   ]
  },
  {
   "cell_type": "code",
   "execution_count": 165,
   "id": "229e92df-65d2-42cc-971d-3c7ac5aabc77",
   "metadata": {},
   "outputs": [
    {
     "name": "stdout",
     "output_type": "stream",
     "text": [
      "[[ True False]\n",
      " [False False]\n",
      " [False False]\n",
      " [False False]\n",
      " [False False]]\n"
     ]
    },
    {
     "data": {
      "text/plain": [
       "array([['수학의정석', '7'],\n",
       "       ['해리포터', '10'],\n",
       "       ['파이썬 입문', '5'],\n",
       "       ['한국사', '5'],\n",
       "       ['데미안', '12']], dtype='<U21')"
      ]
     },
     "execution_count": 165,
     "metadata": {},
     "output_type": "execute_result"
    }
   ],
   "source": [
    "# '수학의 정석' 을 찾아서 제목을 '자바의 정석' 으로 바꾸기\n",
    "print(books == '수학의정석')\n",
    "#\n",
    "books[books == '수학의 정석'] = '자바의 정석'\n",
    "books"
   ]
  },
  {
   "cell_type": "code",
   "execution_count": 141,
   "id": "e7279576-f0b4-40d8-8d67-d0c6745ddb5f",
   "metadata": {},
   "outputs": [
    {
     "data": {
      "text/plain": [
       "array([False,  True,  True, False, False])"
      ]
     },
     "execution_count": 141,
     "metadata": {},
     "output_type": "execute_result"
    }
   ],
   "source": [
    "# 대출이력 중에서 철수가 아닌 항목을 찾고\n",
    "# 행 전체를 7로 바꾸기\n",
    "students != '철수'"
   ]
  },
  {
   "cell_type": "code",
   "execution_count": 144,
   "id": "8ec7206d-e1ee-4a67-a2c8-96bfa02ae7dc",
   "metadata": {},
   "outputs": [
    {
     "data": {
      "text/plain": [
       "array([['수학의정석', '7'],\n",
       "       ['7', '7'],\n",
       "       ['7', '7'],\n",
       "       ['한국사', '5'],\n",
       "       ['데미안', '12']], dtype='<U21')"
      ]
     },
     "execution_count": 144,
     "metadata": {},
     "output_type": "execute_result"
    }
   ],
   "source": [
    "books[students != '철수' ] = 7\n",
    "books"
   ]
  },
  {
   "cell_type": "markdown",
   "id": "eed87b3f-2dd6-4b45-b02e-bb7c42035cb5",
   "metadata": {},
   "source": [
    "## 연습문제"
   ]
  },
  {
   "cell_type": "code",
   "execution_count": 164,
   "id": "e32f0765-2ea8-456e-925c-3bd89ee728bc",
   "metadata": {},
   "outputs": [
    {
     "data": {
      "text/plain": [
       "array([10, 20, 30, 40, 50, 60, 70])"
      ]
     },
     "execution_count": 164,
     "metadata": {},
     "output_type": "execute_result"
    }
   ],
   "source": [
    "arr = np.array([10,20,30,40,50,60,70])\n",
    "arr"
   ]
  },
  {
   "cell_type": "code",
   "execution_count": 163,
   "id": "f6358d7d-9b13-4aed-ac92-bfbb3e37f166",
   "metadata": {},
   "outputs": [
    {
     "data": {
      "text/plain": [
       "array([False, False, False,  True,  True,  True,  True])"
      ]
     },
     "execution_count": 163,
     "metadata": {},
     "output_type": "execute_result"
    }
   ],
   "source": [
    "arr > 30"
   ]
  },
  {
   "cell_type": "code",
   "execution_count": 148,
   "id": "069be715-64e5-48f7-af8a-2dc042aae507",
   "metadata": {},
   "outputs": [
    {
     "data": {
      "text/plain": [
       "array([40, 50, 60, 70])"
      ]
     },
     "execution_count": 148,
     "metadata": {},
     "output_type": "execute_result"
    }
   ],
   "source": [
    "arr[arr > 30]"
   ]
  },
  {
   "cell_type": "code",
   "execution_count": 149,
   "id": "6fe3e90a-86a2-4633-9480-c21f556f2887",
   "metadata": {},
   "outputs": [
    {
     "data": {
      "text/plain": [
       "array([10, 20, 30, 40, 50, 60, 70])"
      ]
     },
     "execution_count": 149,
     "metadata": {},
     "output_type": "execute_result"
    }
   ],
   "source": [
    "arr[arr %2 == 0 ]"
   ]
  },
  {
   "cell_type": "code",
   "execution_count": 150,
   "id": "1c80c37e-4ed0-42b8-8946-884f69de6956",
   "metadata": {},
   "outputs": [
    {
     "data": {
      "text/plain": [
       "array([ 10,  20,  30,  40,  50, 999, 999])"
      ]
     },
     "execution_count": 150,
     "metadata": {},
     "output_type": "execute_result"
    }
   ],
   "source": [
    "arr[arr > 50] = 999\n",
    "arr"
   ]
  },
  {
   "cell_type": "code",
   "execution_count": 151,
   "id": "922f4e5e-6fed-481b-900f-e1301480d50a",
   "metadata": {},
   "outputs": [
    {
     "data": {
      "text/plain": [
       "array([ 10,  20,  30,  40,  50, 999, 999])"
      ]
     },
     "execution_count": 151,
     "metadata": {},
     "output_type": "execute_result"
    }
   ],
   "source": [
    "arr"
   ]
  },
  {
   "cell_type": "code",
   "execution_count": null,
   "id": "1c691bf9-babe-441c-bbdd-c3c0281ad10f",
   "metadata": {},
   "outputs": [],
   "source": []
  },
  {
   "cell_type": "code",
   "execution_count": 166,
   "id": "a48c318f-242e-44d1-8a5b-202858837847",
   "metadata": {},
   "outputs": [],
   "source": [
    "employees = np.array(['짱구','철수','유리','맹구','훈이'])"
   ]
  },
  {
   "cell_type": "code",
   "execution_count": 167,
   "id": "b5ae4c48-7f1c-49c5-9751-5cbdb2cc7689",
   "metadata": {},
   "outputs": [],
   "source": [
    "salaries = np.array([250,320,280,400,150])"
   ]
  },
  {
   "cell_type": "code",
   "execution_count": 168,
   "id": "6ced5b05-68c1-4a03-a444-2a1b417bb848",
   "metadata": {},
   "outputs": [
    {
     "data": {
      "text/plain": [
       "array([False, False, False,  True, False])"
      ]
     },
     "execution_count": 168,
     "metadata": {},
     "output_type": "execute_result"
    }
   ],
   "source": [
    "employees == '맹구'"
   ]
  },
  {
   "cell_type": "code",
   "execution_count": 169,
   "id": "ee144a21-c792-4999-b464-a35c00d3e631",
   "metadata": {},
   "outputs": [
    {
     "data": {
      "text/plain": [
       "array([400])"
      ]
     },
     "execution_count": 169,
     "metadata": {},
     "output_type": "execute_result"
    }
   ],
   "source": [
    "salaries[employees == '맹구']"
   ]
  },
  {
   "cell_type": "code",
   "execution_count": 170,
   "id": "ed6e03ce-72be-4eeb-b714-fdb8c38d30a3",
   "metadata": {},
   "outputs": [
    {
     "data": {
      "text/plain": [
       "array(['철수', '맹구'], dtype='<U2')"
      ]
     },
     "execution_count": 170,
     "metadata": {},
     "output_type": "execute_result"
    }
   ],
   "source": [
    "employees[ salaries >= 300]"
   ]
  },
  {
   "cell_type": "code",
   "execution_count": 172,
   "id": "cf38dc51-7e86-4700-88ed-a9abe0d21df9",
   "metadata": {},
   "outputs": [
    {
     "data": {
      "text/plain": [
       "array([250, 320, 280, 400, 150])"
      ]
     },
     "execution_count": 172,
     "metadata": {},
     "output_type": "execute_result"
    }
   ],
   "source": [
    "salaries[salaries < 200] == 200\n",
    "salaries"
   ]
  },
  {
   "cell_type": "markdown",
   "id": "794ea6f6-d69e-4b1b-a6ed-fef94dccf5e7",
   "metadata": {},
   "source": [
    "## 3.2 배열의 모양 바꾸기"
   ]
  },
  {
   "cell_type": "code",
   "execution_count": 174,
   "id": "98e314a5-0c66-4fe4-a6c9-a95fe0ed1513",
   "metadata": {},
   "outputs": [
    {
     "name": "stdout",
     "output_type": "stream",
     "text": [
      "[1 2 3 4 5 6 7 8 9]\n"
     ]
    },
    {
     "data": {
      "text/plain": [
       "array([[1, 2, 3],\n",
       "       [4, 5, 6],\n",
       "       [7, 8, 9]])"
      ]
     },
     "execution_count": 174,
     "metadata": {},
     "output_type": "execute_result"
    }
   ],
   "source": [
    "# 1~9 숫자가 담긴 1차원 배열 생성\n",
    "# reshape : 배열의 형태를 바꾸는 함수\n",
    "# 1차원 -> 2차원\n",
    "# 3행 3열 크기의 배열로 변환\n",
    "print(np.arange(1,10))\n",
    "arr = np.arange(1,10).reshape(3,3)\n",
    "arr"
   ]
  },
  {
   "cell_type": "code",
   "execution_count": 178,
   "id": "c0685797-df43-4c8f-900f-c9193f338f6c",
   "metadata": {},
   "outputs": [
    {
     "name": "stdout",
     "output_type": "stream",
     "text": [
      "[ 1  2  3  4  5  6  7  8  9 10 11 12 13 14 15 16]\n"
     ]
    },
    {
     "data": {
      "text/plain": [
       "array([[ 1,  2,  3,  4],\n",
       "       [ 5,  6,  7,  8],\n",
       "       [ 9, 10, 11, 12],\n",
       "       [13, 14, 15, 16]])"
      ]
     },
     "execution_count": 178,
     "metadata": {},
     "output_type": "execute_result"
    }
   ],
   "source": [
    "# 1~16 숫자가 담긴 1차원 배열\n",
    "# 1차원 -> 2차원\n",
    "print(np.arange(1,17))\n",
    "a = np.arange(1,17).reshape(4,4)\n",
    "a"
   ]
  },
  {
   "cell_type": "code",
   "execution_count": 180,
   "id": "92f063fa-3d9e-4f05-b83b-8b6a87dc3b5a",
   "metadata": {},
   "outputs": [
    {
     "name": "stdout",
     "output_type": "stream",
     "text": [
      "[ 1  2  3  4  5  6  7  8  9 10 11 12]\n"
     ]
    },
    {
     "data": {
      "text/plain": [
       "array([[ 1,  2,  3,  4],\n",
       "       [ 5,  6,  7,  8],\n",
       "       [ 9, 10, 11, 12]])"
      ]
     },
     "execution_count": 180,
     "metadata": {},
     "output_type": "execute_result"
    }
   ],
   "source": [
    "# 1~12 1차원 배열\n",
    "# 이 배열을 3행 4열 배열로 변환\n",
    "print( np.arange(1,13))\n",
    "a = np.arange(1,13).reshape(3,4)\n",
    "a"
   ]
  },
  {
   "cell_type": "markdown",
   "id": "94818d36-d8b7-4192-91c6-21cc0efc9ad1",
   "metadata": {},
   "source": [
    "## 연습"
   ]
  },
  {
   "cell_type": "code",
   "execution_count": 183,
   "id": "c1b1fdd6-d7ff-4876-a589-0cea230eab8b",
   "metadata": {},
   "outputs": [
    {
     "name": "stdout",
     "output_type": "stream",
     "text": [
      "[ 0  1  2  3  4  5  6  7  8  9 10 11]\n"
     ]
    },
    {
     "data": {
      "text/plain": [
       "array([[ 0,  1,  2,  3],\n",
       "       [ 4,  5,  6,  7],\n",
       "       [ 8,  9, 10, 11]])"
      ]
     },
     "execution_count": 183,
     "metadata": {},
     "output_type": "execute_result"
    }
   ],
   "source": [
    "print(np.arange(12))\n",
    "a = np.arange(12).reshape(3,4)\n",
    "a"
   ]
  },
  {
   "cell_type": "code",
   "execution_count": 184,
   "id": "cbc67af2-e02f-4904-ad28-69b8a6731770",
   "metadata": {},
   "outputs": [
    {
     "name": "stdout",
     "output_type": "stream",
     "text": [
      "[ 1  2  3  4  5  6  7  8  9 10 11 12 13 14 15 16]\n"
     ]
    },
    {
     "data": {
      "text/plain": [
       "array([[ 1,  2,  3,  4],\n",
       "       [ 5,  6,  7,  8],\n",
       "       [ 9, 10, 11, 12],\n",
       "       [13, 14, 15, 16]])"
      ]
     },
     "execution_count": 184,
     "metadata": {},
     "output_type": "execute_result"
    }
   ],
   "source": [
    "print(np.arange(1,17))\n",
    "a = np.arange(1,17).reshape(4,4)\n",
    "a"
   ]
  },
  {
   "cell_type": "code",
   "execution_count": 185,
   "id": "b181ed1f-4f83-4820-b1f0-bd1c9047c074",
   "metadata": {},
   "outputs": [
    {
     "name": "stdout",
     "output_type": "stream",
     "text": [
      "[ 1  2  3  4  5  6  7  8  9 10 11 12 13 14 15 16 17 18 19 20]\n"
     ]
    },
    {
     "data": {
      "text/plain": [
       "array([[ 1,  2,  3,  4],\n",
       "       [ 5,  6,  7,  8],\n",
       "       [ 9, 10, 11, 12],\n",
       "       [13, 14, 15, 16],\n",
       "       [17, 18, 19, 20]])"
      ]
     },
     "execution_count": 185,
     "metadata": {},
     "output_type": "execute_result"
    }
   ],
   "source": [
    "print(np.arange(1,21))\n",
    "a = (np.arange(1,21)).reshape(5,4)\n",
    "a"
   ]
  },
  {
   "cell_type": "code",
   "execution_count": 188,
   "id": "f4632c41-07f6-4051-b6cd-48e4187847b8",
   "metadata": {},
   "outputs": [
    {
     "name": "stdout",
     "output_type": "stream",
     "text": [
      "[10 11 12 13 14 15 16 17 18 19 20 21 22 23 24 25]\n"
     ]
    },
    {
     "data": {
      "text/plain": [
       "array([[10, 11, 12, 13],\n",
       "       [14, 15, 16, 17],\n",
       "       [18, 19, 20, 21],\n",
       "       [22, 23, 24, 25]])"
      ]
     },
     "execution_count": 188,
     "metadata": {},
     "output_type": "execute_result"
    }
   ],
   "source": [
    "print(np.arange(10,26))\n",
    "a = np.arange(10,26).reshape(4,4)\n",
    "a"
   ]
  },
  {
   "cell_type": "markdown",
   "id": "eb884b6f-b12f-466e-af5c-92c208a2b09f",
   "metadata": {},
   "source": [
    "## 3.3 난수를 생성하는 방법\n",
    "난수란? 랜덤값"
   ]
  },
  {
   "cell_type": "code",
   "execution_count": 190,
   "id": "9117a82c-4684-4992-955d-feda0993313b",
   "metadata": {},
   "outputs": [
    {
     "data": {
      "text/plain": [
       "array([-1.86589012, -0.42516576, -1.78764104, -0.17296027, -0.96132173,\n",
       "        0.90972146,  0.71620697,  0.38375484,  0.88314475,  1.2999116 ])"
      ]
     },
     "execution_count": 190,
     "metadata": {},
     "output_type": "execute_result"
    }
   ],
   "source": [
    "# 랜덤값 만들기\n",
    "# 표준 정규 분포 : 표준 편차가 1인 그래프에서 랜덤값을 생성 (-3 ~ 3 )\n",
    "# 랜덤값 10개 생성\n",
    "arr = np.random.standard_normal(size=10)\n",
    "arr"
   ]
  },
  {
   "cell_type": "code",
   "execution_count": 191,
   "id": "38f7b9d9-b344-4135-9d74-1791a35ad1ea",
   "metadata": {},
   "outputs": [
    {
     "data": {
      "text/plain": [
       "array([0.34923668, 0.24297485, 0.98411645, 0.89246863, 0.75625664,\n",
       "       0.04204743, 0.60880747, 0.28317293, 0.01215893, 0.22901874])"
      ]
     },
     "execution_count": 191,
     "metadata": {},
     "output_type": "execute_result"
    }
   ],
   "source": [
    "# 균일 분포 : 범위 0~1. 모든 값이 같은 확률로 나옴\n",
    "arr = np.random.uniform(size=10)\n",
    "arr"
   ]
  },
  {
   "cell_type": "code",
   "execution_count": 192,
   "id": "6e0ac820-8662-441f-ac2a-2e2453061dd1",
   "metadata": {},
   "outputs": [
    {
     "data": {
      "text/plain": [
       "array([-2.00279123, -1.3741257 ,  0.12916407,  1.15598253, -0.08754346])"
      ]
     },
     "execution_count": 192,
     "metadata": {},
     "output_type": "execute_result"
    }
   ],
   "source": [
    "# 표준 정규 분포 에서 랜덤값 5개 생성\n",
    "arr = np.random.standard_normal(size = 5)\n",
    "arr"
   ]
  },
  {
   "cell_type": "code",
   "execution_count": 193,
   "id": "cb08142c-3ba5-4075-bb4d-feb3e392e613",
   "metadata": {},
   "outputs": [
    {
     "data": {
      "text/plain": [
       "array([0.59869991, 0.38720983, 0.95707661, 0.20052683, 0.55384675])"
      ]
     },
     "execution_count": 193,
     "metadata": {},
     "output_type": "execute_result"
    }
   ],
   "source": [
    "# 균일 분포에서 랜덤값 5개 생성\n",
    "arr = np.random.uniform(size = 5)\n",
    "arr"
   ]
  },
  {
   "cell_type": "markdown",
   "id": "ab9fe8da-f577-4097-8a42-c2c08a62d77b",
   "metadata": {},
   "source": [
    "## 3.4 유니버설 함수\n",
    "반복문 없이 배열 전체에 계산을 해주는 함수"
   ]
  },
  {
   "cell_type": "code",
   "execution_count": 194,
   "id": "3c5179c2-6db4-4743-abea-47822f77ab96",
   "metadata": {},
   "outputs": [
    {
     "data": {
      "text/plain": [
       "array([0, 1, 2, 3, 4, 5, 6, 7, 8, 9])"
      ]
     },
     "execution_count": 194,
     "metadata": {},
     "output_type": "execute_result"
    }
   ],
   "source": [
    "# 0~9 숫자가 담긴 1차원 배열 생성\n",
    "arr = np.arange(10)\n",
    "arr"
   ]
  },
  {
   "cell_type": "code",
   "execution_count": 196,
   "id": "36b3a3ee-90fe-48d5-b3d9-0e2c875a25b2",
   "metadata": {},
   "outputs": [
    {
     "data": {
      "text/plain": [
       "array([ 3,  4,  5,  6,  7,  8,  9, 10, 11, 12])"
      ]
     },
     "execution_count": 196,
     "metadata": {},
     "output_type": "execute_result"
    }
   ],
   "source": [
    "# 파이썬의 리스트는 for문을 사용해서 계산해야함\n",
    "# 넘파이의 배열은 for문 없이 계산 가능\n",
    "\n",
    "# 배열 전체에 3 더하기\n",
    "# add : 더하기 (원본데이터, 원본데이터 + 더할 값)\n",
    "np.add(arr, 3)"
   ]
  },
  {
   "cell_type": "code",
   "execution_count": 199,
   "id": "90b3658d-a1bb-4998-82e7-34eade84fb0a",
   "metadata": {},
   "outputs": [
    {
     "data": {
      "text/plain": [
       "array([ 3,  7,  5,  6, 10])"
      ]
     },
     "execution_count": 199,
     "metadata": {},
     "output_type": "execute_result"
    }
   ],
   "source": [
    "a = np.array([1,7,2,4,10])\n",
    "b = np.array([3,4,5,6,7])\n",
    "\n",
    "# 두 배열을 비교하여 더 큰값 저장하기\n",
    "np.maximum(a,b)"
   ]
  },
  {
   "cell_type": "markdown",
   "id": "dbbfcf11-3516-44a0-98e3-14d98bd79a52",
   "metadata": {},
   "source": [
    "## 조건문"
   ]
  },
  {
   "cell_type": "code",
   "execution_count": 201,
   "id": "8843a87a-f04f-4137-965e-6143db0d31bd",
   "metadata": {},
   "outputs": [],
   "source": [
    "# 배열 두개 만들기\n",
    "a = np.array([1,2,3])\n",
    "b = np.array([10,20,30])\n",
    "# 불리언 배열 만들기(조건) -> 개수가 같아야한다\n",
    "cond = np.array([True, True, False])"
   ]
  },
  {
   "cell_type": "code",
   "execution_count": 203,
   "id": "7c5497b4-e180-42ec-91aa-6c9d94e198c8",
   "metadata": {},
   "outputs": [
    {
     "data": {
      "text/plain": [
       "array([ 1,  2, 30])"
      ]
     },
     "execution_count": 203,
     "metadata": {},
     "output_type": "execute_result"
    }
   ],
   "source": [
    "# 조건문 쓰기 : where(조건, 참일때값, 거짓일때값)\n",
    "# 조건이 참이면 a 에서 값을 선택, 거짓이면 b 에서 값을 선택\n",
    "# where 는 삼항 연산자와 비슷\n",
    "result = np.where(cond, a, b)\n",
    "result"
   ]
  },
  {
   "cell_type": "code",
   "execution_count": 209,
   "id": "622095e0-a20d-4902-bbe3-c1c3f4e557de",
   "metadata": {},
   "outputs": [
    {
     "name": "stdout",
     "output_type": "stream",
     "text": [
      "[False False False  True  True]\n"
     ]
    },
    {
     "data": {
      "text/plain": [
       "array(['x', 'x', 'x', 'o', 'o'], dtype='<U1')"
      ]
     },
     "execution_count": 209,
     "metadata": {},
     "output_type": "execute_result"
    }
   ],
   "source": [
    "# 1차원 배열 생성\n",
    "arr = np.array([-2,-1,0,1,2])\n",
    "\n",
    "# 양수면 'o' 음수면 'x' 로 반환\n",
    "# 조건, 참일때값, 거짓일때값\n",
    "print(arr > 0)\n",
    "np.where(arr > 0, 'o','x')"
   ]
  },
  {
   "cell_type": "markdown",
   "id": "6e0d6fec-1c4b-4c7d-b06f-dde5ef7873d7",
   "metadata": {},
   "source": [
    "## 연습문제"
   ]
  },
  {
   "cell_type": "code",
   "execution_count": 211,
   "id": "a29461b6-9a49-4749-b38e-73ab47c92e39",
   "metadata": {},
   "outputs": [
    {
     "data": {
      "text/plain": [
       "array([ 5, 12,  7, 20,  3])"
      ]
     },
     "execution_count": 211,
     "metadata": {},
     "output_type": "execute_result"
    }
   ],
   "source": [
    "arr = np.array([5,12,7,20,3])\n",
    "arr"
   ]
  },
  {
   "cell_type": "code",
   "execution_count": 213,
   "id": "875f212e-515c-4ff3-8aad-3bb789e54b24",
   "metadata": {},
   "outputs": [
    {
     "data": {
      "text/plain": [
       "array(['0', '100', '0', '100', '0'], dtype='<U3')"
      ]
     },
     "execution_count": 213,
     "metadata": {},
     "output_type": "execute_result"
    }
   ],
   "source": [
    "np.where(arr > 10, '100', '0')"
   ]
  },
  {
   "cell_type": "code",
   "execution_count": 214,
   "id": "894a7162-5abb-48f2-9a55-a1ece777da0f",
   "metadata": {},
   "outputs": [
    {
     "data": {
      "text/plain": [
       "array([15,  8, 22,  6, 13])"
      ]
     },
     "execution_count": 214,
     "metadata": {},
     "output_type": "execute_result"
    }
   ],
   "source": [
    "arr = np.array([15,8,22,6,13])\n",
    "arr"
   ]
  },
  {
   "cell_type": "code",
   "execution_count": 215,
   "id": "0175e276-2bf1-4aac-8d07-11057b4b09c0",
   "metadata": {},
   "outputs": [
    {
     "data": {
      "text/plain": [
       "array([-1,  1,  1,  1, -1])"
      ]
     },
     "execution_count": 215,
     "metadata": {},
     "output_type": "execute_result"
    }
   ],
   "source": [
    "np.where(arr % 2 == 0, 1, -1)"
   ]
  },
  {
   "cell_type": "code",
   "execution_count": 216,
   "id": "2b69dbb5-09ec-41e9-b0e1-00a9c34fdaba",
   "metadata": {},
   "outputs": [
    {
     "data": {
      "text/plain": [
       "array([10, 20,  3,  4, 50])"
      ]
     },
     "execution_count": 216,
     "metadata": {},
     "output_type": "execute_result"
    }
   ],
   "source": [
    "arr = np.array([10,20,30,40,50])\n",
    "arr2 = np.array([1,2,3,4,5])\n",
    "cond = np.array([True, True, False, False, True])\n",
    "np.where(cond == True, arr, arr2)"
   ]
  },
  {
   "cell_type": "markdown",
   "id": "753aa661-aca3-4110-a5f7-9682de8b7dcd",
   "metadata": {},
   "source": [
    "## 통계를 구할 때 자주 사용하는 함수들\n",
    "(최대 최소 합계 평균)"
   ]
  },
  {
   "cell_type": "code",
   "execution_count": 217,
   "id": "9a11d1f1-de35-4c2d-9660-02a2e1652bec",
   "metadata": {},
   "outputs": [
    {
     "name": "stdout",
     "output_type": "stream",
     "text": [
      "15\n",
      "3.0\n"
     ]
    }
   ],
   "source": [
    "# 파이썬의 리스트 생성\n",
    "lis = [1,2,3,4,5]\n",
    "# 리스트의 총합을 구하세요\n",
    "sum = 0\n",
    "for i in lis:\n",
    "    sum = sum +i\n",
    "print(sum)\n",
    "# 리스트의 평균을 구하세요\n",
    "print(sum/len(lis))"
   ]
  },
  {
   "cell_type": "code",
   "execution_count": 221,
   "id": "e2697069-cc1a-4e42-ac01-d68ac547ccad",
   "metadata": {},
   "outputs": [
    {
     "name": "stdout",
     "output_type": "stream",
     "text": [
      "15\n",
      "3.0\n",
      "5\n",
      "1\n"
     ]
    }
   ],
   "source": [
    "# 넘파이 배열로 합계와 평균 구하기\n",
    "arr = np.array([1,2,3,4,5])\n",
    "print(np.sum(arr))\n",
    "print(np.average(arr))\n",
    "# 배열에서 제일 큰 값\n",
    "print(np.max(arr))\n",
    "# 배열에서 제일 작은 값\n",
    "print(np.min(arr))"
   ]
  },
  {
   "cell_type": "code",
   "execution_count": 223,
   "id": "708f080c-5682-48db-8271-4fc41769f869",
   "metadata": {},
   "outputs": [
    {
     "name": "stdout",
     "output_type": "stream",
     "text": [
      "2000\n",
      "500.0\n",
      "800\n",
      "250\n"
     ]
    }
   ],
   "source": [
    "arr = np.array([250,550,400,800])\n",
    "print(np.sum(arr))\n",
    "print(np.average(arr))\n",
    "print(np.max(arr))\n",
    "print(np.min(arr))"
   ]
  },
  {
   "cell_type": "markdown",
   "id": "3515e2c5-91a3-4394-8e75-0d11679f65a2",
   "metadata": {},
   "source": [
    "## 행/열 단위로 합계 구하기"
   ]
  },
  {
   "cell_type": "code",
   "execution_count": 227,
   "id": "5eedee7c-787b-483c-aecb-bc94b87b7653",
   "metadata": {},
   "outputs": [
    {
     "name": "stdout",
     "output_type": "stream",
     "text": [
      "[[1 2 3]\n",
      " [4 5 6]\n",
      " [7 8 9]]\n"
     ]
    },
    {
     "data": {
      "text/plain": [
       "array([ 6, 15, 24])"
      ]
     },
     "execution_count": 227,
     "metadata": {},
     "output_type": "execute_result"
    }
   ],
   "source": [
    "arr = np.arange(1,10).reshape(3,3)\n",
    "print(arr)\n",
    "\n",
    "# 배열의 합계 구하기\n",
    "arr.sum()\n",
    "# 2차원 배열에서 행 또는 열 방향으로 합 구하기\n",
    "# axis = 0 : 세로 방향으로 합 계산\n",
    "# axis = 1 : 가로 방향으로 합 계산\n",
    "arr.sum(axis=0)\n",
    "arr.sum(axis=1)"
   ]
  },
  {
   "cell_type": "code",
   "execution_count": 230,
   "id": "1aa9e0cd-5cd0-404d-bb96-3d2622b33e98",
   "metadata": {},
   "outputs": [
    {
     "name": "stdout",
     "output_type": "stream",
     "text": [
      "15\n"
     ]
    },
    {
     "data": {
      "text/plain": [
       "array([ 1,  3,  6, 10, 15])"
      ]
     },
     "execution_count": 230,
     "metadata": {},
     "output_type": "execute_result"
    }
   ],
   "source": [
    "# 누적값 구하기\n",
    "# 합을 구하는 중간 과정을 보여줌\n",
    "arr = np.array([1,2,3,4,5])\n",
    "print(arr.sum())\n",
    "arr.cumsum()"
   ]
  },
  {
   "cell_type": "code",
   "execution_count": 235,
   "id": "cb2faf89-a210-4998-af60-02e5db3ae804",
   "metadata": {},
   "outputs": [
    {
     "name": "stdout",
     "output_type": "stream",
     "text": [
      "[[0 1 2]\n",
      " [3 4 5]\n",
      " [6 7 8]]\n",
      "[[ 0  1  2]\n",
      " [ 3  5  7]\n",
      " [ 9 12 15]]\n",
      "[[ 0  1  3]\n",
      " [ 3  7 12]\n",
      " [ 6 13 21]]\n"
     ]
    }
   ],
   "source": [
    "# 3행 3열 2차원 배열 생성\n",
    "arr = np.array([[0,1,2],[3,4,5],[6,7,8]])\n",
    "print(arr)\n",
    "# 2차원 배열의 누적값 구하기\n",
    "# 기준 설정\n",
    "print(arr.cumsum(axis=0))\n",
    "#\n",
    "print(arr.cumsum(axis=1))"
   ]
  },
  {
   "cell_type": "code",
   "execution_count": null,
   "id": "65eb5479-b9e3-401d-a63d-41270b6c46c0",
   "metadata": {},
   "outputs": [],
   "source": []
  },
  {
   "cell_type": "code",
   "execution_count": 3,
   "id": "e2f863d2-7a91-4d40-8dd1-1b569aaebfc2",
   "metadata": {},
   "outputs": [],
   "source": []
  },
  {
   "cell_type": "code",
   "execution_count": null,
   "id": "0ab5650f-f5e8-47f9-bff2-00a267e10f6e",
   "metadata": {},
   "outputs": [],
   "source": []
  },
  {
   "cell_type": "code",
   "execution_count": null,
   "id": "4f52c903-771b-40df-88ee-85c6a69a3c2a",
   "metadata": {},
   "outputs": [],
   "source": []
  },
  {
   "cell_type": "code",
   "execution_count": null,
   "id": "38da298b-9c8d-4af6-a06f-855c06795a36",
   "metadata": {},
   "outputs": [],
   "source": []
  },
  {
   "cell_type": "code",
   "execution_count": null,
   "id": "44d632f5-2d75-4c66-bb2c-407e929115d6",
   "metadata": {},
   "outputs": [],
   "source": []
  }
 ],
 "metadata": {
  "kernelspec": {
   "display_name": "Python 3 (ipykernel)",
   "language": "python",
   "name": "python3"
  },
  "language_info": {
   "codemirror_mode": {
    "name": "ipython",
    "version": 3
   },
   "file_extension": ".py",
   "mimetype": "text/x-python",
   "name": "python",
   "nbconvert_exporter": "python",
   "pygments_lexer": "ipython3",
   "version": "3.10.18"
  }
 },
 "nbformat": 4,
 "nbformat_minor": 5
}
