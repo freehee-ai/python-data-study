{
 "cells": [
  {
   "cell_type": "markdown",
   "id": "c3c4071e-773c-4d2b-afe7-b469cc1dbc97",
   "metadata": {},
   "source": [
    "# 데이터 합치기와 재구성\n",
    "## 멀티 인덱스"
   ]
  },
  {
   "cell_type": "code",
   "execution_count": 10,
   "id": "f4eb748d-4dbc-4f02-bbf6-8a8cfb81d859",
   "metadata": {},
   "outputs": [],
   "source": [
    "# 모듈 불러오기\n",
    "import numpy as np\n",
    "import pandas as pd"
   ]
  },
  {
   "cell_type": "code",
   "execution_count": 7,
   "id": "d7e66392-491d-4747-81e5-1fa6d38154fd",
   "metadata": {},
   "outputs": [
    {
     "data": {
      "text/plain": [
       "1학년  a반    85\n",
       "     a반    90\n",
       "     b반    78\n",
       "2학년  a반    92\n",
       "     b반    88\n",
       "     a반    75\n",
       "dtype: int64"
      ]
     },
     "execution_count": 7,
     "metadata": {},
     "output_type": "execute_result"
    }
   ],
   "source": [
    "# 학생 점수를 시리즈로 생성\n",
    "# pd.Series(리스트, [인덱스])\n",
    "# 멀티 인덱스 첫번째:학년 두번째: 반\n",
    "s = pd.Series(\n",
    "    [85,90,78,92,88,75],\n",
    "               # 2차원 배열(두개의리스트)\n",
    "    index=[['1학년','1학년','1학년','2학년','2학년','2학년'],\n",
    "           ['a반','a반','b반','a반','b반','a반']])\n",
    "s"
   ]
  },
  {
   "cell_type": "code",
   "execution_count": null,
   "id": "027b97d1-2850-4c29-aa31-97bd4a3781be",
   "metadata": {
    "scrolled": true
   },
   "outputs": [],
   "source": [
    "s['1학년']\n",
    "s.index\n",
    "s.loc[ {'1학년', 'a반')]\n",
    "s.loc[('1학년', ['a반','b반'])\n",
    "    "
   ]
  },
  {
   "cell_type": "markdown",
   "id": "e315c5fe-4395-4e48-87d2-88279e32d033",
   "metadata": {},
   "source": [
    "### 연습문제"
   ]
  },
  {
   "cell_type": "code",
   "execution_count": 53,
   "id": "583beda5-b716-4648-8ac7-79884f175b3e",
   "metadata": {},
   "outputs": [
    {
     "data": {
      "text/plain": [
       "서울  강남점     120\n",
       "    강북점     100\n",
       "부산  해운대점     90\n",
       "    서면점      80\n",
       "dtype: int64"
      ]
     },
     "execution_count": 53,
     "metadata": {},
     "output_type": "execute_result"
    }
   ],
   "source": [
    "# 매출 데이터를 담은 시리즈 생성\n",
    "# 데이터 : 매출\n",
    "# 인덱스 : (멀티) 지역-지점\n",
    "# 1단계는 지역\n",
    "# 2단계는 지점\n",
    "\n",
    "s = pd.Series([120,100,90,80],\n",
    "             index = [ ['서울','서울','부산','부산'],\n",
    "                       ['강남점','강북점','해운대점','서면점'] ]\n",
    "             )\n",
    "s"
   ]
  },
  {
   "cell_type": "code",
   "execution_count": 56,
   "id": "7f2e6e7f-ae99-4855-8d9b-1be47e766872",
   "metadata": {
    "scrolled": true
   },
   "outputs": [
    {
     "name": "stdout",
     "output_type": "stream",
     "text": [
      "MultiIndex([('서울',  '강남점'),\n",
      "            ('서울',  '강북점'),\n",
      "            ('부산', '해운대점'),\n",
      "            ('부산',  '서면점')],\n",
      "           )\n",
      "강남점    120\n",
      "강북점    100\n",
      "dtype: int64\n",
      "해운대점    90\n",
      "서면점     80\n",
      "dtype: int64\n"
     ]
    },
    {
     "data": {
      "text/plain": [
       "np.int64(90)"
      ]
     },
     "execution_count": 56,
     "metadata": {},
     "output_type": "execute_result"
    }
   ],
   "source": [
    "print(s.index)\n",
    "print(s['서울'])\n",
    "print(s['부산'])\n",
    "s.loc[('부산','해운대점')] # 튜틀"
   ]
  },
  {
   "cell_type": "code",
   "execution_count": 31,
   "id": "5ab02fbd-6b75-42f3-a3b9-9b357c2a2e61",
   "metadata": {},
   "outputs": [
    {
     "data": {
      "text/plain": [
       "전자제품  노트북    300\n",
       "      휴대폰    250\n",
       "식품    라면     500\n",
       "      과자     400\n",
       "dtype: int64"
      ]
     },
     "execution_count": 31,
     "metadata": {},
     "output_type": "execute_result"
    }
   ],
   "source": [
    "s = pd.Series([300,250,500,400],\n",
    "              index=[['전자제품', '전자제품', '식품', '식품'],\n",
    "                     ['노트북', '휴대폰', '라면', '과자']]\n",
    "             )\n",
    "s"
   ]
  },
  {
   "cell_type": "code",
   "execution_count": 33,
   "id": "41e0d53a-3d8f-4c0e-a080-dbd56bc68622",
   "metadata": {},
   "outputs": [
    {
     "name": "stdout",
     "output_type": "stream",
     "text": [
      "550\n"
     ]
    },
    {
     "data": {
      "text/plain": [
       "np.int64(500)"
      ]
     },
     "execution_count": 33,
     "metadata": {},
     "output_type": "execute_result"
    }
   ],
   "source": [
    "print(s['전자제품'].sum())\n",
    "s.loc[('식품','라면')]"
   ]
  },
  {
   "cell_type": "code",
   "execution_count": 34,
   "id": "fce7e8e3-b900-40a9-bfd9-09c5472f6a68",
   "metadata": {},
   "outputs": [
    {
     "data": {
      "text/plain": [
       "1학년  국어    40\n",
       "     수학    35\n",
       "2학년  국어    50\n",
       "     수학    45\n",
       "dtype: int64"
      ]
     },
     "execution_count": 34,
     "metadata": {},
     "output_type": "execute_result"
    }
   ],
   "source": [
    "s = pd.Series([40,35,50,45],\n",
    "              index=[['1학년', '1학년', '2학년', '2학년'],\n",
    "                     ['국어','수학','국어','수학']]\n",
    "             )\n",
    "s"
   ]
  },
  {
   "cell_type": "code",
   "execution_count": 29,
   "id": "a4699221-21e0-424f-a550-ac6156beb235",
   "metadata": {},
   "outputs": [
    {
     "data": {
      "text/plain": [
       "np.int64(45)"
      ]
     },
     "execution_count": 29,
     "metadata": {},
     "output_type": "execute_result"
    }
   ],
   "source": [
    "s['1학년'].sum()\n",
    "s.loc[('2학년','수학')]"
   ]
  },
  {
   "cell_type": "markdown",
   "id": "ef7dad2b-68fd-46be-8909-b38dfb3397ba",
   "metadata": {},
   "source": [
    "# 데이터프레임의 멀티 인덱스"
   ]
  },
  {
   "cell_type": "code",
   "execution_count": 43,
   "id": "486564df-d0e8-45fa-a1df-fb9497817b48",
   "metadata": {},
   "outputs": [
    {
     "data": {
      "text/html": [
       "<div>\n",
       "<style scoped>\n",
       "    .dataframe tbody tr th:only-of-type {\n",
       "        vertical-align: middle;\n",
       "    }\n",
       "\n",
       "    .dataframe tbody tr th {\n",
       "        vertical-align: top;\n",
       "    }\n",
       "\n",
       "    .dataframe thead th {\n",
       "        text-align: right;\n",
       "    }\n",
       "</style>\n",
       "<table border=\"1\" class=\"dataframe\">\n",
       "  <thead>\n",
       "    <tr style=\"text-align: right;\">\n",
       "      <th></th>\n",
       "      <th></th>\n",
       "      <th>제품1</th>\n",
       "      <th>제품2</th>\n",
       "    </tr>\n",
       "  </thead>\n",
       "  <tbody>\n",
       "    <tr>\n",
       "      <th rowspan=\"2\" valign=\"top\">2020년</th>\n",
       "      <th>구월점</th>\n",
       "      <td>50</td>\n",
       "      <td>60</td>\n",
       "    </tr>\n",
       "    <tr>\n",
       "      <th>부평점</th>\n",
       "      <td>70</td>\n",
       "      <td>80</td>\n",
       "    </tr>\n",
       "    <tr>\n",
       "      <th rowspan=\"2\" valign=\"top\">2021년</th>\n",
       "      <th>구월점</th>\n",
       "      <td>100</td>\n",
       "      <td>110</td>\n",
       "    </tr>\n",
       "    <tr>\n",
       "      <th>부평점</th>\n",
       "      <td>120</td>\n",
       "      <td>130</td>\n",
       "    </tr>\n",
       "  </tbody>\n",
       "</table>\n",
       "</div>"
      ],
      "text/plain": [
       "           제품1  제품2\n",
       "2020년 구월점   50   60\n",
       "      부평점   70   80\n",
       "2021년 구월점  100  110\n",
       "      부평점  120  130"
      ]
     },
     "execution_count": 43,
     "metadata": {},
     "output_type": "execute_result"
    }
   ],
   "source": [
    "# Series : 한줄짜리 데이터\n",
    "# DataFrame : 표 모양의 데이터\n",
    "\n",
    "# 상품 판매 데이터를 데이터프레임으로 생성\n",
    "# df = pd.DataFrame(2차원배열데이터)\n",
    "# df = pd.DataFrame(데이터,[행인덱스],[컬럼])\n",
    "# 데이터 : 4행 2열의 배열(판매데이터)\n",
    "# 행인덱스 : 멀티(연도-지점)\n",
    "# 열 컬럼 : 제품\n",
    "df = pd.DataFrame([[50,60],[70,80],[100,110],[120,130]],\n",
    "                 index=[['2020년','2020년','2021년','2021년'],\n",
    "                       ['구월점','부평점','구월점','부평점']],\n",
    "                 columns=['제품1','제품2']\n",
    "                 )\n",
    "df"
   ]
  },
  {
   "cell_type": "code",
   "execution_count": 51,
   "id": "37b3b65f-08e2-4c9f-a16f-f8ff035a9836",
   "metadata": {},
   "outputs": [
    {
     "name": "stdout",
     "output_type": "stream",
     "text": [
      "MultiIndex([('2020년', '구월점'),\n",
      "            ('2020년', '부평점'),\n",
      "            ('2021년', '구월점'),\n",
      "            ('2021년', '부평점')],\n",
      "           )\n",
      "Index(['제품1', '제품2'], dtype='object')\n"
     ]
    },
    {
     "data": {
      "text/html": [
       "<div>\n",
       "<style scoped>\n",
       "    .dataframe tbody tr th:only-of-type {\n",
       "        vertical-align: middle;\n",
       "    }\n",
       "\n",
       "    .dataframe tbody tr th {\n",
       "        vertical-align: top;\n",
       "    }\n",
       "\n",
       "    .dataframe thead th {\n",
       "        text-align: right;\n",
       "    }\n",
       "</style>\n",
       "<table border=\"1\" class=\"dataframe\">\n",
       "  <thead>\n",
       "    <tr style=\"text-align: right;\">\n",
       "      <th></th>\n",
       "      <th>제품1</th>\n",
       "      <th>제품2</th>\n",
       "    </tr>\n",
       "  </thead>\n",
       "  <tbody>\n",
       "    <tr>\n",
       "      <th>구월점</th>\n",
       "      <td>50</td>\n",
       "      <td>60</td>\n",
       "    </tr>\n",
       "    <tr>\n",
       "      <th>부평점</th>\n",
       "      <td>70</td>\n",
       "      <td>80</td>\n",
       "    </tr>\n",
       "  </tbody>\n",
       "</table>\n",
       "</div>"
      ],
      "text/plain": [
       "     제품1  제품2\n",
       "구월점   50   60\n",
       "부평점   70   80"
      ]
     },
     "execution_count": 51,
     "metadata": {},
     "output_type": "execute_result"
    }
   ],
   "source": [
    "print(df.index)\n",
    "print(df.columns)\n",
    "df.loc['2020년'] # 열 생략 가능"
   ]
  },
  {
   "cell_type": "code",
   "execution_count": null,
   "id": "5731c057-130f-42dc-8ff2-1c31de72ddc3",
   "metadata": {},
   "outputs": [],
   "source": [
    "df.loc[('2020년','구월점')] # 튜플"
   ]
  },
  {
   "cell_type": "code",
   "execution_count": 55,
   "id": "a4da284a-d2c9-4520-807e-89477c852738",
   "metadata": {},
   "outputs": [
    {
     "data": {
      "text/plain": [
       "np.int64(130)"
      ]
     },
     "execution_count": 55,
     "metadata": {},
     "output_type": "execute_result"
    }
   ],
   "source": [
    "df.loc[('2021년','부평점'), '제품2']"
   ]
  },
  {
   "cell_type": "code",
   "execution_count": 57,
   "id": "a0476b5f-fc48-4e1e-bf98-c16d4399786b",
   "metadata": {},
   "outputs": [
    {
     "data": {
      "text/html": [
       "<div>\n",
       "<style scoped>\n",
       "    .dataframe tbody tr th:only-of-type {\n",
       "        vertical-align: middle;\n",
       "    }\n",
       "\n",
       "    .dataframe tbody tr th {\n",
       "        vertical-align: top;\n",
       "    }\n",
       "\n",
       "    .dataframe thead th {\n",
       "        text-align: right;\n",
       "    }\n",
       "</style>\n",
       "<table border=\"1\" class=\"dataframe\">\n",
       "  <thead>\n",
       "    <tr style=\"text-align: right;\">\n",
       "      <th></th>\n",
       "      <th></th>\n",
       "      <th>소설</th>\n",
       "      <th>과학</th>\n",
       "    </tr>\n",
       "  </thead>\n",
       "  <tbody>\n",
       "    <tr>\n",
       "      <th rowspan=\"2\" valign=\"top\">중앙도서관</th>\n",
       "      <th>1월</th>\n",
       "      <td>120</td>\n",
       "      <td>45</td>\n",
       "    </tr>\n",
       "    <tr>\n",
       "      <th>2월</th>\n",
       "      <td>95</td>\n",
       "      <td>60</td>\n",
       "    </tr>\n",
       "    <tr>\n",
       "      <th rowspan=\"2\" valign=\"top\">시립도서관</th>\n",
       "      <th>1월</th>\n",
       "      <td>150</td>\n",
       "      <td>70</td>\n",
       "    </tr>\n",
       "    <tr>\n",
       "      <th>2월</th>\n",
       "      <td>110</td>\n",
       "      <td>55</td>\n",
       "    </tr>\n",
       "  </tbody>\n",
       "</table>\n",
       "</div>"
      ],
      "text/plain": [
       "           소설  과학\n",
       "중앙도서관 1월  120  45\n",
       "      2월   95  60\n",
       "시립도서관 1월  150  70\n",
       "      2월  110  55"
      ]
     },
     "execution_count": 57,
     "metadata": {},
     "output_type": "execute_result"
    }
   ],
   "source": [
    "df = pd.DataFrame([[120,45],[95,60],[150,70],[110,55]],\n",
    "                  index=[['중앙도서관','중앙도서관','시립도서관','시립도서관'],\n",
    "                         ['1월','2월','1월','2월']],\n",
    "                  columns=['소설','과학']\n",
    "                 )\n",
    "df"
   ]
  },
  {
   "cell_type": "code",
   "execution_count": 61,
   "id": "e0fc8cd8-2656-46ba-956f-d099dd095676",
   "metadata": {},
   "outputs": [
    {
     "data": {
      "text/html": [
       "<div>\n",
       "<style scoped>\n",
       "    .dataframe tbody tr th:only-of-type {\n",
       "        vertical-align: middle;\n",
       "    }\n",
       "\n",
       "    .dataframe tbody tr th {\n",
       "        vertical-align: top;\n",
       "    }\n",
       "\n",
       "    .dataframe thead th {\n",
       "        text-align: right;\n",
       "    }\n",
       "</style>\n",
       "<table border=\"1\" class=\"dataframe\">\n",
       "  <thead>\n",
       "    <tr style=\"text-align: right;\">\n",
       "      <th></th>\n",
       "      <th>소설</th>\n",
       "      <th>과학</th>\n",
       "    </tr>\n",
       "  </thead>\n",
       "  <tbody>\n",
       "    <tr>\n",
       "      <th>1월</th>\n",
       "      <td>120</td>\n",
       "      <td>45</td>\n",
       "    </tr>\n",
       "    <tr>\n",
       "      <th>2월</th>\n",
       "      <td>95</td>\n",
       "      <td>60</td>\n",
       "    </tr>\n",
       "  </tbody>\n",
       "</table>\n",
       "</div>"
      ],
      "text/plain": [
       "     소설  과학\n",
       "1월  120  45\n",
       "2월   95  60"
      ]
     },
     "execution_count": 61,
     "metadata": {},
     "output_type": "execute_result"
    }
   ],
   "source": [
    "df.loc['중앙도서관']"
   ]
  },
  {
   "cell_type": "code",
   "execution_count": 62,
   "id": "739dd403-0e01-4cdb-b707-918d80d19018",
   "metadata": {},
   "outputs": [
    {
     "data": {
      "text/plain": [
       "np.int64(55)"
      ]
     },
     "execution_count": 62,
     "metadata": {},
     "output_type": "execute_result"
    }
   ],
   "source": [
    "df.loc[('시립도서관','2월'),'과학']"
   ]
  },
  {
   "cell_type": "code",
   "execution_count": 64,
   "id": "fc141d19-5940-4552-8ae1-9203ec3ae69c",
   "metadata": {},
   "outputs": [
    {
     "data": {
      "text/html": [
       "<div>\n",
       "<style scoped>\n",
       "    .dataframe tbody tr th:only-of-type {\n",
       "        vertical-align: middle;\n",
       "    }\n",
       "\n",
       "    .dataframe tbody tr th {\n",
       "        vertical-align: top;\n",
       "    }\n",
       "\n",
       "    .dataframe thead th {\n",
       "        text-align: right;\n",
       "    }\n",
       "</style>\n",
       "<table border=\"1\" class=\"dataframe\">\n",
       "  <thead>\n",
       "    <tr style=\"text-align: right;\">\n",
       "      <th></th>\n",
       "      <th></th>\n",
       "      <th>1분기</th>\n",
       "      <th>2분기</th>\n",
       "    </tr>\n",
       "  </thead>\n",
       "  <tbody>\n",
       "    <tr>\n",
       "      <th rowspan=\"2\" valign=\"top\">2022년</th>\n",
       "      <th>SUV</th>\n",
       "      <td>320</td>\n",
       "      <td>280</td>\n",
       "    </tr>\n",
       "    <tr>\n",
       "      <th>세단</th>\n",
       "      <td>210</td>\n",
       "      <td>230</td>\n",
       "    </tr>\n",
       "    <tr>\n",
       "      <th rowspan=\"2\" valign=\"top\">2023년</th>\n",
       "      <th>SUV</th>\n",
       "      <td>400</td>\n",
       "      <td>390</td>\n",
       "    </tr>\n",
       "    <tr>\n",
       "      <th>세단</th>\n",
       "      <td>180</td>\n",
       "      <td>200</td>\n",
       "    </tr>\n",
       "  </tbody>\n",
       "</table>\n",
       "</div>"
      ],
      "text/plain": [
       "           1분기  2분기\n",
       "2022년 SUV  320  280\n",
       "      세단   210  230\n",
       "2023년 SUV  400  390\n",
       "      세단   180  200"
      ]
     },
     "execution_count": 64,
     "metadata": {},
     "output_type": "execute_result"
    }
   ],
   "source": [
    "df = pd.DataFrame([[320,280],[210,230],[400,390],[180,200]],\n",
    "                  index=[['2022년','2022년','2023년','2023년'],\n",
    "                         ['SUV','세단','SUV','세단']],\n",
    "                  columns=['1분기','2분기']\n",
    "                 )\n",
    "df"
   ]
  },
  {
   "cell_type": "code",
   "execution_count": 67,
   "id": "1e812dc9-8545-4848-9c1a-97b59296b998",
   "metadata": {},
   "outputs": [
    {
     "data": {
      "text/html": [
       "<div>\n",
       "<style scoped>\n",
       "    .dataframe tbody tr th:only-of-type {\n",
       "        vertical-align: middle;\n",
       "    }\n",
       "\n",
       "    .dataframe tbody tr th {\n",
       "        vertical-align: top;\n",
       "    }\n",
       "\n",
       "    .dataframe thead th {\n",
       "        text-align: right;\n",
       "    }\n",
       "</style>\n",
       "<table border=\"1\" class=\"dataframe\">\n",
       "  <thead>\n",
       "    <tr style=\"text-align: right;\">\n",
       "      <th></th>\n",
       "      <th>1분기</th>\n",
       "      <th>2분기</th>\n",
       "    </tr>\n",
       "  </thead>\n",
       "  <tbody>\n",
       "    <tr>\n",
       "      <th>SUV</th>\n",
       "      <td>320</td>\n",
       "      <td>280</td>\n",
       "    </tr>\n",
       "    <tr>\n",
       "      <th>세단</th>\n",
       "      <td>210</td>\n",
       "      <td>230</td>\n",
       "    </tr>\n",
       "  </tbody>\n",
       "</table>\n",
       "</div>"
      ],
      "text/plain": [
       "     1분기  2분기\n",
       "SUV  320  280\n",
       "세단   210  230"
      ]
     },
     "execution_count": 67,
     "metadata": {},
     "output_type": "execute_result"
    }
   ],
   "source": [
    "df.loc['2022년']"
   ]
  },
  {
   "cell_type": "code",
   "execution_count": 68,
   "id": "c24fd184-8102-4164-ae1d-1c27be4f8d81",
   "metadata": {},
   "outputs": [
    {
     "data": {
      "text/plain": [
       "np.int64(200)"
      ]
     },
     "execution_count": 68,
     "metadata": {},
     "output_type": "execute_result"
    }
   ],
   "source": [
    "df.loc[('2023년','세단'), '2분기']"
   ]
  },
  {
   "cell_type": "code",
   "execution_count": 70,
   "id": "babece2b-e868-44bc-8480-10acf48a4f1b",
   "metadata": {},
   "outputs": [
    {
     "data": {
      "text/html": [
       "<div>\n",
       "<style scoped>\n",
       "    .dataframe tbody tr th:only-of-type {\n",
       "        vertical-align: middle;\n",
       "    }\n",
       "\n",
       "    .dataframe tbody tr th {\n",
       "        vertical-align: top;\n",
       "    }\n",
       "\n",
       "    .dataframe thead th {\n",
       "        text-align: right;\n",
       "    }\n",
       "</style>\n",
       "<table border=\"1\" class=\"dataframe\">\n",
       "  <thead>\n",
       "    <tr style=\"text-align: right;\">\n",
       "      <th></th>\n",
       "      <th></th>\n",
       "      <th>싱글룸</th>\n",
       "      <th>더블룸</th>\n",
       "    </tr>\n",
       "    <tr>\n",
       "      <th>지점</th>\n",
       "      <th>월</th>\n",
       "      <th></th>\n",
       "      <th></th>\n",
       "    </tr>\n",
       "  </thead>\n",
       "  <tbody>\n",
       "    <tr>\n",
       "      <th rowspan=\"2\" valign=\"top\">서울지점</th>\n",
       "      <th>7월</th>\n",
       "      <td>45</td>\n",
       "      <td>30</td>\n",
       "    </tr>\n",
       "    <tr>\n",
       "      <th>8월</th>\n",
       "      <td>50</td>\n",
       "      <td>35</td>\n",
       "    </tr>\n",
       "    <tr>\n",
       "      <th rowspan=\"2\" valign=\"top\">부산지점</th>\n",
       "      <th>7월</th>\n",
       "      <td>60</td>\n",
       "      <td>40</td>\n",
       "    </tr>\n",
       "    <tr>\n",
       "      <th>8월</th>\n",
       "      <td>55</td>\n",
       "      <td>38</td>\n",
       "    </tr>\n",
       "  </tbody>\n",
       "</table>\n",
       "</div>"
      ],
      "text/plain": [
       "         싱글룸  더블룸\n",
       "지점   월           \n",
       "서울지점 7월   45   30\n",
       "     8월   50   35\n",
       "부산지점 7월   60   40\n",
       "     8월   55   38"
      ]
     },
     "execution_count": 70,
     "metadata": {},
     "output_type": "execute_result"
    }
   ],
   "source": [
    "arrays = [\n",
    "    ['서울지점', '서울지점', '부산지점', '부산지점'],\n",
    "    ['7월', '8월', '7월', '8월']\n",
    "]\n",
    "index = pd.MultiIndex.from_arrays(arrays, names=('지점', '월'))\n",
    "columns = ['싱글룸','더블룸']\n",
    "\n",
    "data = [[45,30],[50,35],[60,40],[55,38]]\n",
    "df = pd.DataFrame(data, index=index, columns=columns)\n",
    "df"
   ]
  },
  {
   "cell_type": "code",
   "execution_count": 71,
   "id": "9f255b62-d2ea-49f0-b083-5a74cd50ccd2",
   "metadata": {},
   "outputs": [
    {
     "data": {
      "text/html": [
       "<div>\n",
       "<style scoped>\n",
       "    .dataframe tbody tr th:only-of-type {\n",
       "        vertical-align: middle;\n",
       "    }\n",
       "\n",
       "    .dataframe tbody tr th {\n",
       "        vertical-align: top;\n",
       "    }\n",
       "\n",
       "    .dataframe thead th {\n",
       "        text-align: right;\n",
       "    }\n",
       "</style>\n",
       "<table border=\"1\" class=\"dataframe\">\n",
       "  <thead>\n",
       "    <tr style=\"text-align: right;\">\n",
       "      <th></th>\n",
       "      <th>싱글룸</th>\n",
       "      <th>더블룸</th>\n",
       "    </tr>\n",
       "    <tr>\n",
       "      <th>월</th>\n",
       "      <th></th>\n",
       "      <th></th>\n",
       "    </tr>\n",
       "  </thead>\n",
       "  <tbody>\n",
       "    <tr>\n",
       "      <th>7월</th>\n",
       "      <td>45</td>\n",
       "      <td>30</td>\n",
       "    </tr>\n",
       "    <tr>\n",
       "      <th>8월</th>\n",
       "      <td>50</td>\n",
       "      <td>35</td>\n",
       "    </tr>\n",
       "  </tbody>\n",
       "</table>\n",
       "</div>"
      ],
      "text/plain": [
       "    싱글룸  더블룸\n",
       "월           \n",
       "7월   45   30\n",
       "8월   50   35"
      ]
     },
     "execution_count": 71,
     "metadata": {},
     "output_type": "execute_result"
    }
   ],
   "source": [
    "df.loc['서울지점']"
   ]
  },
  {
   "cell_type": "code",
   "execution_count": 72,
   "id": "7a31606e-340a-4d20-9d13-be6369e3e2b9",
   "metadata": {},
   "outputs": [
    {
     "data": {
      "text/plain": [
       "np.int64(38)"
      ]
     },
     "execution_count": 72,
     "metadata": {},
     "output_type": "execute_result"
    }
   ],
   "source": [
    "df.loc[('부산지점','8월'),'더블룸']"
   ]
  },
  {
   "cell_type": "code",
   "execution_count": 73,
   "id": "22a68796-a156-4114-801b-870e4c7a89fe",
   "metadata": {},
   "outputs": [
    {
     "data": {
      "text/html": [
       "<div>\n",
       "<style scoped>\n",
       "    .dataframe tbody tr th:only-of-type {\n",
       "        vertical-align: middle;\n",
       "    }\n",
       "\n",
       "    .dataframe tbody tr th {\n",
       "        vertical-align: top;\n",
       "    }\n",
       "\n",
       "    .dataframe thead th {\n",
       "        text-align: right;\n",
       "    }\n",
       "</style>\n",
       "<table border=\"1\" class=\"dataframe\">\n",
       "  <thead>\n",
       "    <tr style=\"text-align: right;\">\n",
       "      <th></th>\n",
       "      <th></th>\n",
       "      <th>1월</th>\n",
       "      <th>2월</th>\n",
       "    </tr>\n",
       "    <tr>\n",
       "      <th>가전</th>\n",
       "      <th>식품</th>\n",
       "      <th></th>\n",
       "      <th></th>\n",
       "    </tr>\n",
       "  </thead>\n",
       "  <tbody>\n",
       "    <tr>\n",
       "      <th rowspan=\"2\" valign=\"top\">가전</th>\n",
       "      <th>노트북</th>\n",
       "      <td>120</td>\n",
       "      <td>140</td>\n",
       "    </tr>\n",
       "    <tr>\n",
       "      <th>청소기</th>\n",
       "      <td>80</td>\n",
       "      <td>95</td>\n",
       "    </tr>\n",
       "    <tr>\n",
       "      <th rowspan=\"2\" valign=\"top\">식품</th>\n",
       "      <th>라면</th>\n",
       "      <td>200</td>\n",
       "      <td>220</td>\n",
       "    </tr>\n",
       "    <tr>\n",
       "      <th>과자</th>\n",
       "      <td>150</td>\n",
       "      <td>160</td>\n",
       "    </tr>\n",
       "  </tbody>\n",
       "</table>\n",
       "</div>"
      ],
      "text/plain": [
       "         1월   2월\n",
       "가전 식품           \n",
       "가전 노트북  120  140\n",
       "   청소기   80   95\n",
       "식품 라면   200  220\n",
       "   과자   150  160"
      ]
     },
     "execution_count": 73,
     "metadata": {},
     "output_type": "execute_result"
    }
   ],
   "source": [
    "arrays = [\n",
    "    ['가전', '가전', '식품', '식품'],\n",
    "    ['노트북', '청소기', '라면', '과자']\n",
    "]\n",
    "index = pd.MultiIndex.from_arrays(arrays, names=('가전', '식품'))\n",
    "columns = ['1월','2월']\n",
    "\n",
    "data = [[120,140],[80,95],[200,220],[150,160]]\n",
    "df = pd.DataFrame(data, index=index, columns=columns)\n",
    "df"
   ]
  },
  {
   "cell_type": "code",
   "execution_count": 74,
   "id": "5ff6fd7c-aeb8-4d87-aa0e-dde9fa298d6d",
   "metadata": {},
   "outputs": [
    {
     "data": {
      "text/html": [
       "<div>\n",
       "<style scoped>\n",
       "    .dataframe tbody tr th:only-of-type {\n",
       "        vertical-align: middle;\n",
       "    }\n",
       "\n",
       "    .dataframe tbody tr th {\n",
       "        vertical-align: top;\n",
       "    }\n",
       "\n",
       "    .dataframe thead th {\n",
       "        text-align: right;\n",
       "    }\n",
       "</style>\n",
       "<table border=\"1\" class=\"dataframe\">\n",
       "  <thead>\n",
       "    <tr style=\"text-align: right;\">\n",
       "      <th></th>\n",
       "      <th>1월</th>\n",
       "      <th>2월</th>\n",
       "    </tr>\n",
       "    <tr>\n",
       "      <th>식품</th>\n",
       "      <th></th>\n",
       "      <th></th>\n",
       "    </tr>\n",
       "  </thead>\n",
       "  <tbody>\n",
       "    <tr>\n",
       "      <th>노트북</th>\n",
       "      <td>120</td>\n",
       "      <td>140</td>\n",
       "    </tr>\n",
       "    <tr>\n",
       "      <th>청소기</th>\n",
       "      <td>80</td>\n",
       "      <td>95</td>\n",
       "    </tr>\n",
       "  </tbody>\n",
       "</table>\n",
       "</div>"
      ],
      "text/plain": [
       "      1월   2월\n",
       "식품           \n",
       "노트북  120  140\n",
       "청소기   80   95"
      ]
     },
     "execution_count": 74,
     "metadata": {},
     "output_type": "execute_result"
    }
   ],
   "source": [
    "df.loc['가전']"
   ]
  },
  {
   "cell_type": "code",
   "execution_count": 75,
   "id": "546b5b24-a9ce-4802-8293-feeef114df44",
   "metadata": {},
   "outputs": [
    {
     "data": {
      "text/plain": [
       "np.int64(220)"
      ]
     },
     "execution_count": 75,
     "metadata": {},
     "output_type": "execute_result"
    }
   ],
   "source": [
    "df.loc[('식품','라면'),'2월']"
   ]
  },
  {
   "cell_type": "code",
   "execution_count": null,
   "id": "0938796f-e3eb-48b2-bb24-61db005d8ac4",
   "metadata": {},
   "outputs": [],
   "source": []
  },
  {
   "cell_type": "code",
   "execution_count": null,
   "id": "9c26f4b2-468a-49ca-bc87-45a3cd42062f",
   "metadata": {},
   "outputs": [],
   "source": []
  },
  {
   "cell_type": "code",
   "execution_count": null,
   "id": "f5d7bd13-ff0a-4c4e-906f-dd0f967450eb",
   "metadata": {},
   "outputs": [],
   "source": []
  }
 ],
 "metadata": {
  "kernelspec": {
   "display_name": "Python 3 (ipykernel)",
   "language": "python",
   "name": "python3"
  },
  "language_info": {
   "codemirror_mode": {
    "name": "ipython",
    "version": 3
   },
   "file_extension": ".py",
   "mimetype": "text/x-python",
   "name": "python",
   "nbconvert_exporter": "python",
   "pygments_lexer": "ipython3",
   "version": "3.10.18"
  }
 },
 "nbformat": 4,
 "nbformat_minor": 5
}
