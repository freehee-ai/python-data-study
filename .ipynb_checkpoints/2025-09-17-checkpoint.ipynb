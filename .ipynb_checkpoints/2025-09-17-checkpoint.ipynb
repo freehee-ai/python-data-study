{
 "cells": [
  {
   "cell_type": "markdown",
   "id": "780cba6b-410c-4b28-9d4b-b007299f810a",
   "metadata": {},
   "source": [
    "# 데이터 탐색과 전처리"
   ]
  },
  {
   "cell_type": "code",
   "execution_count": 1,
   "id": "9b023e30-f83f-4295-b5ea-967bf22e9ad0",
   "metadata": {},
   "outputs": [],
   "source": [
    "# 모듈 불러오기\n",
    "import numpy as np\n",
    "import pandas as pd"
   ]
  },
  {
   "cell_type": "markdown",
   "id": "5b637d43-fe82-49e8-8f65-ce9016a23ee6",
   "metadata": {},
   "source": [
    "## 데이터 탐색하기"
   ]
  },
  {
   "cell_type": "markdown",
   "id": "5e368d4b-6ed3-46f9-b3b0-54b1d463a4df",
   "metadata": {},
   "source": [
    "서울 마포구 코로나 확진자 현황 보기  \n",
    "- nan : 빈값"
   ]
  },
  {
   "cell_type": "code",
   "execution_count": 9,
   "id": "d1725bdf-e0c2-42eb-8936-02212d874823",
   "metadata": {},
   "outputs": [
    {
     "data": {
      "text/html": [
       "<div>\n",
       "<style scoped>\n",
       "    .dataframe tbody tr th:only-of-type {\n",
       "        vertical-align: middle;\n",
       "    }\n",
       "\n",
       "    .dataframe tbody tr th {\n",
       "        vertical-align: top;\n",
       "    }\n",
       "\n",
       "    .dataframe thead th {\n",
       "        text-align: right;\n",
       "    }\n",
       "</style>\n",
       "<table border=\"1\" class=\"dataframe\">\n",
       "  <thead>\n",
       "    <tr style=\"text-align: right;\">\n",
       "      <th></th>\n",
       "      <th>기준연도</th>\n",
       "      <th>기준월</th>\n",
       "      <th>시도명</th>\n",
       "      <th>시군구명</th>\n",
       "      <th>법정동</th>\n",
       "      <th>확진자수</th>\n",
       "    </tr>\n",
       "  </thead>\n",
       "  <tbody>\n",
       "    <tr>\n",
       "      <th>0</th>\n",
       "      <td>2020</td>\n",
       "      <td>1</td>\n",
       "      <td>서울특별시</td>\n",
       "      <td>마포구</td>\n",
       "      <td>공덕동</td>\n",
       "      <td>0.0</td>\n",
       "    </tr>\n",
       "    <tr>\n",
       "      <th>1</th>\n",
       "      <td>2020</td>\n",
       "      <td>2</td>\n",
       "      <td>서울특별시</td>\n",
       "      <td>마포구</td>\n",
       "      <td>공덕동</td>\n",
       "      <td>0.0</td>\n",
       "    </tr>\n",
       "    <tr>\n",
       "      <th>2</th>\n",
       "      <td>2020</td>\n",
       "      <td>3</td>\n",
       "      <td>NaN</td>\n",
       "      <td>NaN</td>\n",
       "      <td>NaN</td>\n",
       "      <td>2.0</td>\n",
       "    </tr>\n",
       "    <tr>\n",
       "      <th>3</th>\n",
       "      <td>2020</td>\n",
       "      <td>4</td>\n",
       "      <td>서울특별시</td>\n",
       "      <td>마포구</td>\n",
       "      <td>공덕동</td>\n",
       "      <td>NaN</td>\n",
       "    </tr>\n",
       "    <tr>\n",
       "      <th>4</th>\n",
       "      <td>2020</td>\n",
       "      <td>5</td>\n",
       "      <td>서울특별시</td>\n",
       "      <td>마포구</td>\n",
       "      <td>공덕동</td>\n",
       "      <td>NaN</td>\n",
       "    </tr>\n",
       "    <tr>\n",
       "      <th>...</th>\n",
       "      <td>...</td>\n",
       "      <td>...</td>\n",
       "      <td>...</td>\n",
       "      <td>...</td>\n",
       "      <td>...</td>\n",
       "      <td>...</td>\n",
       "    </tr>\n",
       "    <tr>\n",
       "      <th>679</th>\n",
       "      <td>2022</td>\n",
       "      <td>8</td>\n",
       "      <td>서울특별시</td>\n",
       "      <td>마포구</td>\n",
       "      <td>염리동</td>\n",
       "      <td>1053.0</td>\n",
       "    </tr>\n",
       "    <tr>\n",
       "      <th>680</th>\n",
       "      <td>2022</td>\n",
       "      <td>9</td>\n",
       "      <td>서울특별시</td>\n",
       "      <td>마포구</td>\n",
       "      <td>염리동</td>\n",
       "      <td>423.0</td>\n",
       "    </tr>\n",
       "    <tr>\n",
       "      <th>681</th>\n",
       "      <td>2022</td>\n",
       "      <td>10</td>\n",
       "      <td>서울특별시</td>\n",
       "      <td>마포구</td>\n",
       "      <td>염리동</td>\n",
       "      <td>289.0</td>\n",
       "    </tr>\n",
       "    <tr>\n",
       "      <th>682</th>\n",
       "      <td>2022</td>\n",
       "      <td>11</td>\n",
       "      <td>서울특별시</td>\n",
       "      <td>마포구</td>\n",
       "      <td>염리동</td>\n",
       "      <td>502.0</td>\n",
       "    </tr>\n",
       "    <tr>\n",
       "      <th>683</th>\n",
       "      <td>2022</td>\n",
       "      <td>12</td>\n",
       "      <td>서울특별시</td>\n",
       "      <td>마포구</td>\n",
       "      <td>염리동</td>\n",
       "      <td>669.0</td>\n",
       "    </tr>\n",
       "  </tbody>\n",
       "</table>\n",
       "<p>684 rows × 6 columns</p>\n",
       "</div>"
      ],
      "text/plain": [
       "     기준연도  기준월    시도명 시군구명  법정동    확진자수\n",
       "0    2020    1  서울특별시  마포구  공덕동     0.0\n",
       "1    2020    2  서울특별시  마포구  공덕동     0.0\n",
       "2    2020    3    NaN  NaN  NaN     2.0\n",
       "3    2020    4  서울특별시  마포구  공덕동     NaN\n",
       "4    2020    5  서울특별시  마포구  공덕동     NaN\n",
       "..    ...  ...    ...  ...  ...     ...\n",
       "679  2022    8  서울특별시  마포구  염리동  1053.0\n",
       "680  2022    9  서울특별시  마포구  염리동   423.0\n",
       "681  2022   10  서울특별시  마포구  염리동   289.0\n",
       "682  2022   11  서울특별시  마포구  염리동   502.0\n",
       "683  2022   12  서울특별시  마포구  염리동   669.0\n",
       "\n",
       "[684 rows x 6 columns]"
      ]
     },
     "execution_count": 9,
     "metadata": {},
     "output_type": "execute_result"
    }
   ],
   "source": [
    "data = pd.read_csv('0917\\서울특별시 마포구_법정동별_월별_코로나19 확진자 현황.csv',\n",
    "                 encoding='euc-kr')\n",
    "data"
   ]
  },
  {
   "cell_type": "markdown",
   "id": "65d4a29d-f6fb-4068-b679-ddef55a095aa",
   "metadata": {},
   "source": [
    "### 필요한 컬럼만 선택하기"
   ]
  },
  {
   "cell_type": "code",
   "execution_count": 13,
   "id": "58e510f8-4697-4a6d-9845-70d454cf6bfd",
   "metadata": {},
   "outputs": [
    {
     "data": {
      "text/plain": [
       "pandas.core.frame.DataFrame"
      ]
     },
     "execution_count": 13,
     "metadata": {},
     "output_type": "execute_result"
    }
   ],
   "source": [
    "# 컬럼 하나 선택\n",
    "data['확진자수']\n",
    "type(data['확진자수'])\n",
    "# 필요한 컬럼만 저장\n",
    "# 여러 컬럼 선택 (바깥대괄호: 인덱스 / 안쪽대괄호: 리스트)\n",
    "df = data[['기준연도','기준월','법정동','확진자수']]\n",
    "type(df)\n",
    "# 열하나는 Series, 열 여러개는 dataframe"
   ]
  },
  {
   "cell_type": "markdown",
   "id": "faffc0d5-2e23-4216-8203-0b72e27fa222",
   "metadata": {},
   "source": [
    "### 시리즈 탐색하기\n",
    "- head : 데이터 앞부분만 확인\n",
    "- count : 데이터 개수\n",
    "- unique : 고유한 값만 확인\n",
    "- value_count : 데이터별 개수 확인"
   ]
  },
  {
   "cell_type": "code",
   "execution_count": 20,
   "id": "639ccacd-b385-4c43-833e-e44d04a0fe2a",
   "metadata": {},
   "outputs": [
    {
     "data": {
      "text/plain": [
       "확진자수\n",
       "0.0       160\n",
       "1.0        41\n",
       "2.0        28\n",
       "3.0        22\n",
       "4.0        15\n",
       "         ... \n",
       "1053.0      1\n",
       "423.0       1\n",
       "289.0       1\n",
       "502.0       1\n",
       "669.0       1\n",
       "Name: count, Length: 244, dtype: int64"
      ]
     },
     "execution_count": 20,
     "metadata": {},
     "output_type": "execute_result"
    }
   ],
   "source": [
    "# 데이터 앞 부분만 확인(5개)\n",
    "df.head()\n",
    "# 데이터 개수 확인. 빈값 포함 안됨\n",
    "df.count()\n",
    "# 중복 제거한 고유값 확인\n",
    "# 확진자수 에는 nan 빈값이 포함되어 있어, 결과가 이상해짐\n",
    "df['확진자수'].unique()\n",
    "df['확진자수'].value_counts()"
   ]
  },
  {
   "cell_type": "code",
   "execution_count": null,
   "id": "a2bd948f-ef0c-449c-8d32-f9a78dc8272e",
   "metadata": {},
   "outputs": [],
   "source": [
    "# 주민등록인구 현황 데이터 탐색하기"
   ]
  },
  {
   "cell_type": "code",
   "execution_count": 30,
   "id": "8548f199-6710-4c68-9807-b0d8bd15ead7",
   "metadata": {},
   "outputs": [
    {
     "data": {
      "text/html": [
       "<div>\n",
       "<style scoped>\n",
       "    .dataframe tbody tr th:only-of-type {\n",
       "        vertical-align: middle;\n",
       "    }\n",
       "\n",
       "    .dataframe tbody tr th {\n",
       "        vertical-align: top;\n",
       "    }\n",
       "\n",
       "    .dataframe thead th {\n",
       "        text-align: right;\n",
       "    }\n",
       "</style>\n",
       "<table border=\"1\" class=\"dataframe\">\n",
       "  <thead>\n",
       "    <tr style=\"text-align: right;\">\n",
       "      <th></th>\n",
       "      <th>행정구역</th>\n",
       "      <th>2025년08월_총인구수</th>\n",
       "      <th>2025년08월_남자 인구수</th>\n",
       "      <th>2025년08월_여자 인구수</th>\n",
       "      <th>2025년08월_남여 비율</th>\n",
       "    </tr>\n",
       "  </thead>\n",
       "  <tbody>\n",
       "    <tr>\n",
       "      <th>0</th>\n",
       "      <td>서울특별시</td>\n",
       "      <td>9,321,863</td>\n",
       "      <td>4,494,474</td>\n",
       "      <td>4,827,389</td>\n",
       "      <td>0.93</td>\n",
       "    </tr>\n",
       "    <tr>\n",
       "      <th>1</th>\n",
       "      <td>부산광역시</td>\n",
       "      <td>3,249,975</td>\n",
       "      <td>1,580,238</td>\n",
       "      <td>1,669,737</td>\n",
       "      <td>0.95</td>\n",
       "    </tr>\n",
       "    <tr>\n",
       "      <th>2</th>\n",
       "      <td>대구광역시</td>\n",
       "      <td>2,356,667</td>\n",
       "      <td>1,154,753</td>\n",
       "      <td>1,201,914</td>\n",
       "      <td>0.96</td>\n",
       "    </tr>\n",
       "    <tr>\n",
       "      <th>3</th>\n",
       "      <td>인천광역시</td>\n",
       "      <td>3,043,162</td>\n",
       "      <td>NaN</td>\n",
       "      <td>1,523,062</td>\n",
       "      <td>1.00</td>\n",
       "    </tr>\n",
       "    <tr>\n",
       "      <th>4</th>\n",
       "      <td>광주광역시</td>\n",
       "      <td>1,397,772</td>\n",
       "      <td>689,731</td>\n",
       "      <td>708,041</td>\n",
       "      <td>0.97</td>\n",
       "    </tr>\n",
       "    <tr>\n",
       "      <th>5</th>\n",
       "      <td>대전광역시</td>\n",
       "      <td>1,441,596</td>\n",
       "      <td>718,458</td>\n",
       "      <td>723,138</td>\n",
       "      <td>0.99</td>\n",
       "    </tr>\n",
       "    <tr>\n",
       "      <th>6</th>\n",
       "      <td>울산광역시</td>\n",
       "      <td>1,092,989</td>\n",
       "      <td>563,014</td>\n",
       "      <td>529,975</td>\n",
       "      <td>1.06</td>\n",
       "    </tr>\n",
       "    <tr>\n",
       "      <th>7</th>\n",
       "      <td>세종특별자치시</td>\n",
       "      <td>391,984</td>\n",
       "      <td>NaN</td>\n",
       "      <td>196,832</td>\n",
       "      <td>0.99</td>\n",
       "    </tr>\n",
       "    <tr>\n",
       "      <th>8</th>\n",
       "      <td>경기도</td>\n",
       "      <td>13,720,015</td>\n",
       "      <td>6,891,841</td>\n",
       "      <td>6,828,174</td>\n",
       "      <td>1.01</td>\n",
       "    </tr>\n",
       "    <tr>\n",
       "      <th>9</th>\n",
       "      <td>강원특별자치도</td>\n",
       "      <td>1,509,670</td>\n",
       "      <td>759,037</td>\n",
       "      <td>750,633</td>\n",
       "      <td>1.01</td>\n",
       "    </tr>\n",
       "    <tr>\n",
       "      <th>10</th>\n",
       "      <td>충청북도</td>\n",
       "      <td>1,591,965</td>\n",
       "      <td>811,165</td>\n",
       "      <td>780,800</td>\n",
       "      <td>1.04</td>\n",
       "    </tr>\n",
       "    <tr>\n",
       "      <th>11</th>\n",
       "      <td>충청남도</td>\n",
       "      <td>2,136,195</td>\n",
       "      <td>1,096,586</td>\n",
       "      <td>1,039,609</td>\n",
       "      <td>1.05</td>\n",
       "    </tr>\n",
       "    <tr>\n",
       "      <th>12</th>\n",
       "      <td>전북특별자치도</td>\n",
       "      <td>1,728,330</td>\n",
       "      <td>861,131</td>\n",
       "      <td>867,199</td>\n",
       "      <td>0.99</td>\n",
       "    </tr>\n",
       "    <tr>\n",
       "      <th>13</th>\n",
       "      <td>전라남도</td>\n",
       "      <td>1,780,646</td>\n",
       "      <td>899,345</td>\n",
       "      <td>881,301</td>\n",
       "      <td>1.02</td>\n",
       "    </tr>\n",
       "    <tr>\n",
       "      <th>14</th>\n",
       "      <td>경상북도</td>\n",
       "      <td>2,514,198</td>\n",
       "      <td>1,272,463</td>\n",
       "      <td>1,241,735</td>\n",
       "      <td>1.02</td>\n",
       "    </tr>\n",
       "    <tr>\n",
       "      <th>15</th>\n",
       "      <td>경상남도</td>\n",
       "      <td>3,212,001</td>\n",
       "      <td>NaN</td>\n",
       "      <td>1,592,375</td>\n",
       "      <td>1.02</td>\n",
       "    </tr>\n",
       "    <tr>\n",
       "      <th>16</th>\n",
       "      <td>제주특별자치도</td>\n",
       "      <td>665,953</td>\n",
       "      <td>332,675</td>\n",
       "      <td>333,278</td>\n",
       "      <td>1.00</td>\n",
       "    </tr>\n",
       "  </tbody>\n",
       "</table>\n",
       "</div>"
      ],
      "text/plain": [
       "       행정구역 2025년08월_총인구수 2025년08월_남자 인구수 2025년08월_여자 인구수  2025년08월_남여 비율\n",
       "0     서울특별시     9,321,863       4,494,474       4,827,389            0.93\n",
       "1     부산광역시     3,249,975       1,580,238       1,669,737            0.95\n",
       "2     대구광역시     2,356,667       1,154,753       1,201,914            0.96\n",
       "3     인천광역시     3,043,162             NaN       1,523,062            1.00\n",
       "4     광주광역시     1,397,772         689,731         708,041            0.97\n",
       "5     대전광역시     1,441,596         718,458         723,138            0.99\n",
       "6     울산광역시     1,092,989         563,014         529,975            1.06\n",
       "7   세종특별자치시       391,984             NaN         196,832            0.99\n",
       "8       경기도    13,720,015       6,891,841       6,828,174            1.01\n",
       "9   강원특별자치도     1,509,670         759,037         750,633            1.01\n",
       "10     충청북도     1,591,965         811,165         780,800            1.04\n",
       "11     충청남도     2,136,195       1,096,586       1,039,609            1.05\n",
       "12  전북특별자치도     1,728,330         861,131         867,199            0.99\n",
       "13     전라남도     1,780,646         899,345         881,301            1.02\n",
       "14     경상북도     2,514,198       1,272,463       1,241,735            1.02\n",
       "15     경상남도     3,212,001             NaN       1,592,375            1.02\n",
       "16  제주특별자치도       665,953         332,675         333,278            1.00"
      ]
     },
     "execution_count": 30,
     "metadata": {},
     "output_type": "execute_result"
    }
   ],
   "source": [
    "data = pd.read_csv('0917/주민등록인구및세대현황.csv',\n",
    "                  encoding='euc-kr')\n",
    "data\n",
    "# 필요한 컬럼만선택\n",
    "df = data[['행정구역','2025년08월_총인구수','2025년08월_남자 인구수','2025년08월_여자 인구수','2025년08월_남여 비율']]\n",
    "df"
   ]
  },
  {
   "cell_type": "code",
   "execution_count": 26,
   "id": "963395de-4607-4631-90ca-e52de376a3bb",
   "metadata": {},
   "outputs": [
    {
     "data": {
      "text/plain": [
       "0    서울특별시\n",
       "1    부산광역시\n",
       "2    대구광역시\n",
       "3    인천광역시\n",
       "4    광주광역시\n",
       "Name: 행정구역, dtype: object"
      ]
     },
     "execution_count": 26,
     "metadata": {},
     "output_type": "execute_result"
    }
   ],
   "source": [
    "df['행정구역'].head()"
   ]
  },
  {
   "cell_type": "code",
   "execution_count": 27,
   "id": "ee9b6629-c684-4091-8494-f149745ef291",
   "metadata": {},
   "outputs": [
    {
     "data": {
      "text/plain": [
       "np.int64(17)"
      ]
     },
     "execution_count": 27,
     "metadata": {},
     "output_type": "execute_result"
    }
   ],
   "source": [
    "df['행정구역'].count()"
   ]
  },
  {
   "cell_type": "code",
   "execution_count": 33,
   "id": "c7e29fa0-f90d-4a4b-b91f-7698073d882b",
   "metadata": {},
   "outputs": [
    {
     "name": "stdout",
     "output_type": "stream",
     "text": [
      "[0.93 0.95 0.96 1.   0.97 0.99 1.06 1.01 1.04 1.05 1.02]\n",
      "2025년08월_남여 비율\n",
      "0.99    3\n",
      "1.02    3\n",
      "1.01    2\n",
      "1.00    2\n",
      "0.96    1\n",
      "0.93    1\n",
      "0.95    1\n",
      "1.06    1\n",
      "0.97    1\n",
      "1.04    1\n",
      "1.05    1\n",
      "Name: count, dtype: int64\n"
     ]
    }
   ],
   "source": [
    "print(df['2025년08월_남여 비율'].unique())\n",
    "print(df['2025년08월_남여 비율'].value_counts())"
   ]
  },
  {
   "cell_type": "code",
   "execution_count": 37,
   "id": "0c45d164-f24c-42fa-999c-806c6a75c03b",
   "metadata": {},
   "outputs": [
    {
     "data": {
      "text/plain": [
       "0    내부순환로\n",
       "1    내부순환로\n",
       "2    내부순환로\n",
       "3    내부순환로\n",
       "4    내부순환로\n",
       "Name: 노선, dtype: object"
      ]
     },
     "execution_count": 37,
     "metadata": {},
     "output_type": "execute_result"
    }
   ],
   "source": [
    "data = pd.read_csv('0917/서울시설공단_서울도시고속도로 노선별 시간대별 교통량.csv',\n",
    "                   encoding='euc-kr')\n",
    "df = data['노선']\n",
    "df.head()"
   ]
  },
  {
   "cell_type": "code",
   "execution_count": 38,
   "id": "f4c973ef-4825-4158-a972-4beaf07af9bb",
   "metadata": {},
   "outputs": [
    {
     "data": {
      "text/plain": [
       "np.int64(384)"
      ]
     },
     "execution_count": 38,
     "metadata": {},
     "output_type": "execute_result"
    }
   ],
   "source": [
    "df.count()"
   ]
  },
  {
   "cell_type": "code",
   "execution_count": 39,
   "id": "4973ac65-78b0-44ab-8f75-c5404c6f18b2",
   "metadata": {},
   "outputs": [
    {
     "data": {
      "text/plain": [
       "array(['내부순환로', '강변북로', '북부간선도로', '올림픽대로', '동부간선도로', '분당수서로', '경부고속도로',\n",
       "       '강남순환로'], dtype=object)"
      ]
     },
     "execution_count": 39,
     "metadata": {},
     "output_type": "execute_result"
    }
   ],
   "source": [
    "df.unique()"
   ]
  },
  {
   "cell_type": "code",
   "execution_count": 40,
   "id": "7d602ed1-1a84-4525-8e37-03e2c2b3d4a5",
   "metadata": {},
   "outputs": [
    {
     "data": {
      "text/plain": [
       "노선\n",
       "내부순환로     48\n",
       "강변북로      48\n",
       "북부간선도로    48\n",
       "올림픽대로     48\n",
       "동부간선도로    48\n",
       "분당수서로     48\n",
       "경부고속도로    48\n",
       "강남순환로     48\n",
       "Name: count, dtype: int64"
      ]
     },
     "execution_count": 40,
     "metadata": {},
     "output_type": "execute_result"
    }
   ],
   "source": [
    "df.value_counts()"
   ]
  },
  {
   "cell_type": "code",
   "execution_count": 43,
   "id": "70187837-a1e4-4a64-a882-06c3f1105750",
   "metadata": {},
   "outputs": [
    {
     "data": {
      "text/html": [
       "<div>\n",
       "<style scoped>\n",
       "    .dataframe tbody tr th:only-of-type {\n",
       "        vertical-align: middle;\n",
       "    }\n",
       "\n",
       "    .dataframe tbody tr th {\n",
       "        vertical-align: top;\n",
       "    }\n",
       "\n",
       "    .dataframe thead th {\n",
       "        text-align: right;\n",
       "    }\n",
       "</style>\n",
       "<table border=\"1\" class=\"dataframe\">\n",
       "  <thead>\n",
       "    <tr style=\"text-align: right;\">\n",
       "      <th></th>\n",
       "      <th>노선번호</th>\n",
       "      <th>노선명</th>\n",
       "      <th>표준버스정류장ID</th>\n",
       "      <th>역명</th>\n",
       "      <th>승차총승객수</th>\n",
       "      <th>하차총승객수</th>\n",
       "    </tr>\n",
       "  </thead>\n",
       "  <tbody>\n",
       "    <tr>\n",
       "      <th>0</th>\n",
       "      <td>741</td>\n",
       "      <td>741번(진관차고지~헌인릉입구)</td>\n",
       "      <td>100000001</td>\n",
       "      <td>종로2가사거리(00073)</td>\n",
       "      <td>107</td>\n",
       "      <td>310</td>\n",
       "    </tr>\n",
       "    <tr>\n",
       "      <th>1</th>\n",
       "      <td>N37</td>\n",
       "      <td>N37번(송파공영차고지~진관공영차고지)</td>\n",
       "      <td>100000001</td>\n",
       "      <td>종로2가사거리(00032)</td>\n",
       "      <td>23</td>\n",
       "      <td>23</td>\n",
       "    </tr>\n",
       "    <tr>\n",
       "      <th>2</th>\n",
       "      <td>470</td>\n",
       "      <td>470번(상암차고지~안골마을)</td>\n",
       "      <td>100000001</td>\n",
       "      <td>NaN</td>\n",
       "      <td>210</td>\n",
       "      <td>327</td>\n",
       "    </tr>\n",
       "    <tr>\n",
       "      <th>3</th>\n",
       "      <td>N37</td>\n",
       "      <td>N37번(진관공영차고지~송파공영차고지)</td>\n",
       "      <td>100000001</td>\n",
       "      <td>종로2가사거리(00089)</td>\n",
       "      <td>26</td>\n",
       "      <td>9</td>\n",
       "    </tr>\n",
       "    <tr>\n",
       "      <th>4</th>\n",
       "      <td>100</td>\n",
       "      <td>100번(하계동~용산구청)</td>\n",
       "      <td>100000002</td>\n",
       "      <td>창경궁.서울대학교병원(00031)</td>\n",
       "      <td>118</td>\n",
       "      <td>74</td>\n",
       "    </tr>\n",
       "    <tr>\n",
       "      <th>...</th>\n",
       "      <td>...</td>\n",
       "      <td>...</td>\n",
       "      <td>...</td>\n",
       "      <td>...</td>\n",
       "      <td>...</td>\n",
       "      <td>...</td>\n",
       "    </tr>\n",
       "    <tr>\n",
       "      <th>40408</th>\n",
       "      <td>654</td>\n",
       "      <td>654번(방화동~노들역)</td>\n",
       "      <td>999800002</td>\n",
       "      <td>김포교통(종점가상)(00105)</td>\n",
       "      <td>0</td>\n",
       "      <td>1</td>\n",
       "    </tr>\n",
       "    <tr>\n",
       "      <th>40409</th>\n",
       "      <td>6629</td>\n",
       "      <td>6629번(방화동~영등포)</td>\n",
       "      <td>999800002</td>\n",
       "      <td>김포교통(종점가상)(00097)</td>\n",
       "      <td>0</td>\n",
       "      <td>1</td>\n",
       "    </tr>\n",
       "    <tr>\n",
       "      <th>40410</th>\n",
       "      <td>9404</td>\n",
       "      <td>9404번(분당구미~신사역)</td>\n",
       "      <td>999800004</td>\n",
       "      <td>구미동차고지(종점가상)(00062)</td>\n",
       "      <td>0</td>\n",
       "      <td>2</td>\n",
       "    </tr>\n",
       "    <tr>\n",
       "      <th>40411</th>\n",
       "      <td>9707</td>\n",
       "      <td>9707번(고양 가좌동~영등포역)</td>\n",
       "      <td>999800005</td>\n",
       "      <td>가좌동종점(종점가상)(00078)</td>\n",
       "      <td>0</td>\n",
       "      <td>2</td>\n",
       "    </tr>\n",
       "    <tr>\n",
       "      <th>40412</th>\n",
       "      <td>707</td>\n",
       "      <td>707번(가좌동~서울역)</td>\n",
       "      <td>999800005</td>\n",
       "      <td>가좌동종점(종점가상)(00127)</td>\n",
       "      <td>0</td>\n",
       "      <td>11</td>\n",
       "    </tr>\n",
       "  </tbody>\n",
       "</table>\n",
       "<p>40413 rows × 6 columns</p>\n",
       "</div>"
      ],
      "text/plain": [
       "       노선번호                    노선명  표준버스정류장ID                   역명  승차총승객수  \\\n",
       "0       741      741번(진관차고지~헌인릉입구)  100000001       종로2가사거리(00073)     107   \n",
       "1       N37  N37번(송파공영차고지~진관공영차고지)  100000001       종로2가사거리(00032)      23   \n",
       "2       470       470번(상암차고지~안골마을)  100000001                  NaN     210   \n",
       "3       N37  N37번(진관공영차고지~송파공영차고지)  100000001       종로2가사거리(00089)      26   \n",
       "4       100         100번(하계동~용산구청)  100000002   창경궁.서울대학교병원(00031)     118   \n",
       "...     ...                    ...        ...                  ...     ...   \n",
       "40408   654          654번(방화동~노들역)  999800002    김포교통(종점가상)(00105)       0   \n",
       "40409  6629         6629번(방화동~영등포)  999800002    김포교통(종점가상)(00097)       0   \n",
       "40410  9404        9404번(분당구미~신사역)  999800004  구미동차고지(종점가상)(00062)       0   \n",
       "40411  9707     9707번(고양 가좌동~영등포역)  999800005   가좌동종점(종점가상)(00078)       0   \n",
       "40412   707          707번(가좌동~서울역)  999800005   가좌동종점(종점가상)(00127)       0   \n",
       "\n",
       "       하차총승객수  \n",
       "0         310  \n",
       "1          23  \n",
       "2         327  \n",
       "3           9  \n",
       "4          74  \n",
       "...       ...  \n",
       "40408       1  \n",
       "40409       1  \n",
       "40410       2  \n",
       "40411       2  \n",
       "40412      11  \n",
       "\n",
       "[40413 rows x 6 columns]"
      ]
     },
     "execution_count": 43,
     "metadata": {},
     "output_type": "execute_result"
    }
   ],
   "source": [
    "data = pd.read_csv('0917/서울시 버스노선별 정류장별 승하차 인원 정보.csv',\n",
    "                   encoding='euc-kr')\n",
    "df = data[['노선번호', '노선명', '표준버스정류장ID', '역명', '승차총승객수',\n",
    "           '하차총승객수']]\n",
    "df"
   ]
  },
  {
   "cell_type": "code",
   "execution_count": 44,
   "id": "a9c3d8a5-c757-4cb2-bb48-b9b7ef07669f",
   "metadata": {},
   "outputs": [
    {
     "data": {
      "text/plain": [
       "0    100000001\n",
       "1    100000001\n",
       "2    100000001\n",
       "3    100000001\n",
       "4    100000002\n",
       "Name: 표준버스정류장ID, dtype: int64"
      ]
     },
     "execution_count": 44,
     "metadata": {},
     "output_type": "execute_result"
    }
   ],
   "source": [
    "df['표준버스정류장ID'].head()"
   ]
  },
  {
   "cell_type": "code",
   "execution_count": 45,
   "id": "cc743c86-f68d-4279-92de-dd647ecb0294",
   "metadata": {},
   "outputs": [
    {
     "data": {
      "text/plain": [
       "np.int64(40413)"
      ]
     },
     "execution_count": 45,
     "metadata": {},
     "output_type": "execute_result"
    }
   ],
   "source": [
    "df['표준버스정류장ID'].count()"
   ]
  },
  {
   "cell_type": "code",
   "execution_count": 46,
   "id": "78ba931e-a414-424f-b90d-09b39c251c17",
   "metadata": {},
   "outputs": [
    {
     "data": {
      "text/plain": [
       "array([100000001, 100000002, 100000003, ..., 999800002, 999800004,\n",
       "       999800005])"
      ]
     },
     "execution_count": 46,
     "metadata": {},
     "output_type": "execute_result"
    }
   ],
   "source": [
    "df['표준버스정류장ID'].unique()"
   ]
  },
  {
   "cell_type": "code",
   "execution_count": 47,
   "id": "a8f50b83-52a1-4b95-a3c9-9cd66b59dbcf",
   "metadata": {},
   "outputs": [
    {
     "data": {
      "text/plain": [
       "표준버스정류장ID\n",
       "113000421    30\n",
       "113000422    29\n",
       "100000367    29\n",
       "105000030    28\n",
       "113000416    28\n",
       "             ..\n",
       "117900100     1\n",
       "103900198     1\n",
       "117900102     1\n",
       "117900103     1\n",
       "121900302     1\n",
       "Name: count, Length: 12325, dtype: int64"
      ]
     },
     "execution_count": 47,
     "metadata": {},
     "output_type": "execute_result"
    }
   ],
   "source": [
    "df['표준버스정류장ID'].value_counts()"
   ]
  },
  {
   "cell_type": "markdown",
   "id": "e96547cb-7a9b-4deb-8dee-0be912895fe3",
   "metadata": {},
   "source": [
    "## NAN 처리하기\n",
    "- nan : csv에서 빈셀을 의미. 값이 없다"
   ]
  },
  {
   "cell_type": "markdown",
   "id": "4316808b-b28d-496f-942b-3081c387948a",
   "metadata": {},
   "source": [
    "### 빈값이 있는지 확인하기\n",
    "- isnull : 빈값이 있는지 확인\n",
    "- isnull.sum : 빈값의 개수"
   ]
  },
  {
   "cell_type": "code",
   "execution_count": 52,
   "id": "f9a23c3f-4048-447f-acb9-4fce473d194d",
   "metadata": {},
   "outputs": [
    {
     "data": {
      "text/plain": [
       "np.int64(2)"
      ]
     },
     "execution_count": 52,
     "metadata": {},
     "output_type": "execute_result"
    }
   ],
   "source": [
    "# 서울 마포구 코로나 현황\n",
    "data = pd.read_csv('0917\\서울특별시 마포구_법정동별_월별_코로나19 확진자 현황.csv',\n",
    "                 encoding='euc-kr')\n",
    "df = data[['기준연도', '기준월', '법정동', '확진자수']]\n",
    "# 확진자수에 빈값이 있는지 확인\n",
    "df['확진자수'].isnull()\n",
    "# 빈값 개수 세기\n",
    "# bool -> int\n",
    "# false : 0 / true : 1\n",
    "df['확진자수'].isnull().sum()"
   ]
  },
  {
   "cell_type": "code",
   "execution_count": null,
   "id": "0c5368d6-3504-4e61-b5f7-27169a850e44",
   "metadata": {},
   "outputs": [],
   "source": []
  },
  {
   "cell_type": "code",
   "execution_count": null,
   "id": "b258dcb0-a970-4e61-aa76-6c52396de57f",
   "metadata": {},
   "outputs": [],
   "source": []
  },
  {
   "cell_type": "code",
   "execution_count": null,
   "id": "9446d52b-5b06-4e58-a240-c9e3d8da6560",
   "metadata": {},
   "outputs": [],
   "source": []
  },
  {
   "cell_type": "code",
   "execution_count": null,
   "id": "e12462d7-0906-4f86-a300-5efa47f20aa1",
   "metadata": {},
   "outputs": [],
   "source": []
  },
  {
   "cell_type": "code",
   "execution_count": null,
   "id": "c282cb5c-d428-422f-ae2d-9f1962ab0a85",
   "metadata": {},
   "outputs": [],
   "source": []
  }
 ],
 "metadata": {
  "kernelspec": {
   "display_name": "Python 3 (ipykernel)",
   "language": "python",
   "name": "python3"
  },
  "language_info": {
   "codemirror_mode": {
    "name": "ipython",
    "version": 3
   },
   "file_extension": ".py",
   "mimetype": "text/x-python",
   "name": "python",
   "nbconvert_exporter": "python",
   "pygments_lexer": "ipython3",
   "version": "3.10.18"
  }
 },
 "nbformat": 4,
 "nbformat_minor": 5
}
