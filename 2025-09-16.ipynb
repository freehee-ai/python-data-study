{
 "cells": [
  {
   "cell_type": "markdown",
   "id": "7d381254-2f94-4010-ae1f-a7e635c54a8a",
   "metadata": {},
   "source": [
    "## 4.4 데이터 탐색  \n",
    "데이터의 상태나 특징을 파악하는 작업  "
   ]
  },
  {
   "cell_type": "code",
   "execution_count": 3,
   "id": "96d44dd2-d5f5-49d8-ae38-91df0d977018",
   "metadata": {},
   "outputs": [],
   "source": [
    "import numpy as np\n",
    "import pandas as pd"
   ]
  },
  {
   "cell_type": "code",
   "execution_count": 4,
   "id": "98421c7b-a300-4695-ad5e-1436225880d9",
   "metadata": {},
   "outputs": [
    {
     "data": {
      "text/plain": [
       "0     사과\n",
       "1      배\n",
       "2     사과\n",
       "3      배\n",
       "4    바나나\n",
       "dtype: object"
      ]
     },
     "execution_count": 4,
     "metadata": {},
     "output_type": "execute_result"
    }
   ],
   "source": [
    "# 과일 목록을 담은 시리즈 생성\n",
    "s = pd.Series(['사과','배','사과','배','바나나'])\n",
    "s"
   ]
  },
  {
   "cell_type": "code",
   "execution_count": 5,
   "id": "6eda5c6c-4f3d-4c55-bccf-92be0144138e",
   "metadata": {},
   "outputs": [
    {
     "data": {
      "text/plain": [
       "array(['사과', '배', '바나나'], dtype=object)"
      ]
     },
     "execution_count": 5,
     "metadata": {},
     "output_type": "execute_result"
    }
   ],
   "source": [
    "# 중복을 제거하고 유니크한 값만 남기기\n",
    "s.unique()"
   ]
  },
  {
   "cell_type": "code",
   "execution_count": 6,
   "id": "f8d9e8bd-a0bc-4f0d-a331-72b903d1c0e9",
   "metadata": {},
   "outputs": [
    {
     "data": {
      "text/plain": [
       "사과     2\n",
       "배      2\n",
       "바나나    1\n",
       "Name: count, dtype: int64"
      ]
     },
     "execution_count": 6,
     "metadata": {},
     "output_type": "execute_result"
    }
   ],
   "source": [
    "# 원소별 개수 세기\n",
    "s.value_counts()"
   ]
  },
  {
   "cell_type": "markdown",
   "id": "e9a95fb1-534d-4bdc-877f-1400501ebd42",
   "metadata": {},
   "source": [
    "### 연습문제"
   ]
  },
  {
   "cell_type": "code",
   "execution_count": 8,
   "id": "1976d6d7-9f6e-4eb7-84d6-d56660547a9c",
   "metadata": {},
   "outputs": [
    {
     "data": {
      "text/plain": [
       "0    서울\n",
       "1    부산\n",
       "2    서울\n",
       "3    대구\n",
       "4    부산\n",
       "5    광주\n",
       "6    서울\n",
       "dtype: object"
      ]
     },
     "execution_count": 8,
     "metadata": {},
     "output_type": "execute_result"
    }
   ],
   "source": [
    "r = pd.Series(['서울', '부산', '서울', '대구', '부산', '광주', '서울'])\n",
    "r"
   ]
  },
  {
   "cell_type": "code",
   "execution_count": 9,
   "id": "cafdf97b-ace3-4810-8055-0b99c1af51a8",
   "metadata": {},
   "outputs": [
    {
     "data": {
      "text/plain": [
       "array(['서울', '부산', '대구', '광주'], dtype=object)"
      ]
     },
     "execution_count": 9,
     "metadata": {},
     "output_type": "execute_result"
    }
   ],
   "source": [
    "r.unique()"
   ]
  },
  {
   "cell_type": "code",
   "execution_count": 10,
   "id": "d1549b0f-186f-4e75-aba7-eb50ac96fcb5",
   "metadata": {},
   "outputs": [
    {
     "data": {
      "text/plain": [
       "서울    3\n",
       "부산    2\n",
       "대구    1\n",
       "광주    1\n",
       "Name: count, dtype: int64"
      ]
     },
     "execution_count": 10,
     "metadata": {},
     "output_type": "execute_result"
    }
   ],
   "source": [
    "r.value_counts()"
   ]
  },
  {
   "cell_type": "code",
   "execution_count": 11,
   "id": "5fd8def1-dd85-47cf-b83f-a10beb00a966",
   "metadata": {},
   "outputs": [
    {
     "data": {
      "text/plain": [
       "0    민수\n",
       "1    지연\n",
       "2    철수\n",
       "3    민수\n",
       "4    영희\n",
       "5    민수\n",
       "6    지연\n",
       "dtype: object"
      ]
     },
     "execution_count": 11,
     "metadata": {},
     "output_type": "execute_result"
    }
   ],
   "source": [
    "n = pd.Series(['민수', '지연', '철수', '민수', '영희', '민수', '지연'])\n",
    "n"
   ]
  },
  {
   "cell_type": "code",
   "execution_count": 12,
   "id": "0c2b9045-995f-41ef-9e03-6bc11d2f5bca",
   "metadata": {},
   "outputs": [
    {
     "data": {
      "text/plain": [
       "array(['민수', '지연', '철수', '영희'], dtype=object)"
      ]
     },
     "execution_count": 12,
     "metadata": {},
     "output_type": "execute_result"
    }
   ],
   "source": [
    "n.unique()"
   ]
  },
  {
   "cell_type": "code",
   "execution_count": 17,
   "id": "d1250c0a-d6bb-4add-9022-5db839e2521c",
   "metadata": {},
   "outputs": [
    {
     "name": "stdout",
     "output_type": "stream",
     "text": [
      "민수    3\n",
      "지연    2\n",
      "철수    1\n",
      "영희    1\n",
      "Name: count, dtype: int64\n",
      "<class 'pandas.core.series.Series'>\n"
     ]
    },
    {
     "data": {
      "text/plain": [
       "3"
      ]
     },
     "execution_count": 17,
     "metadata": {},
     "output_type": "execute_result"
    }
   ],
   "source": [
    "result = n.value_counts()\n",
    "print(result)\n",
    "print(type(result))\n",
    "# 판다스의 Series 는 통계함수를 사용할 수 있다\n",
    "# sum mean max min\n",
    "result.max()"
   ]
  },
  {
   "cell_type": "code",
   "execution_count": null,
   "id": "c442be2a-68f5-42f2-92e4-7c912f0aeb09",
   "metadata": {},
   "outputs": [],
   "source": []
  },
  {
   "cell_type": "code",
   "execution_count": null,
   "id": "19d7b947-ccc8-4feb-90db-9de90c994fd9",
   "metadata": {},
   "outputs": [],
   "source": []
  }
 ],
 "metadata": {
  "kernelspec": {
   "display_name": "Python 3 (ipykernel)",
   "language": "python",
   "name": "python3"
  },
  "language_info": {
   "codemirror_mode": {
    "name": "ipython",
    "version": 3
   },
   "file_extension": ".py",
   "mimetype": "text/x-python",
   "name": "python",
   "nbconvert_exporter": "python",
   "pygments_lexer": "ipython3",
   "version": "3.10.18"
  }
 },
 "nbformat": 4,
 "nbformat_minor": 5
}
