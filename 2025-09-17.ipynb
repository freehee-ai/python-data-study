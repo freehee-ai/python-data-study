{
 "cells": [
  {
   "cell_type": "markdown",
   "id": "780cba6b-410c-4b28-9d4b-b007299f810a",
   "metadata": {},
   "source": [
    "# 데이터 탐색과 전처리"
   ]
  },
  {
   "cell_type": "code",
   "execution_count": null,
   "id": "9b023e30-f83f-4295-b5ea-967bf22e9ad0",
   "metadata": {},
   "outputs": [],
   "source": [
    "# 모듈 불러오기\n",
    "import numpy as np\n",
    "import pandas as pd"
   ]
  },
  {
   "cell_type": "markdown",
   "id": "5b637d43-fe82-49e8-8f65-ce9016a23ee6",
   "metadata": {},
   "source": [
    "## 데이터 탐색하기"
   ]
  },
  {
   "cell_type": "markdown",
   "id": "5e368d4b-6ed3-46f9-b3b0-54b1d463a4df",
   "metadata": {},
   "source": [
    "서울 마포구 코로나 확진자 현황 보기  \n",
    "- nan : 빈값"
   ]
  },
  {
   "cell_type": "code",
   "execution_count": null,
   "id": "d1725bdf-e0c2-42eb-8936-02212d874823",
   "metadata": {},
   "outputs": [],
   "source": [
    "data = pd.read_csv('0917\\서울특별시 마포구_법정동별_월별_코로나19 확진자 현황.csv',\n",
    "                 encoding='euc-kr')\n",
    "data"
   ]
  },
  {
   "cell_type": "markdown",
   "id": "65d4a29d-f6fb-4068-b679-ddef55a095aa",
   "metadata": {},
   "source": [
    "### 필요한 컬럼만 선택하기"
   ]
  },
  {
   "cell_type": "code",
   "execution_count": null,
   "id": "58e510f8-4697-4a6d-9845-70d454cf6bfd",
   "metadata": {},
   "outputs": [],
   "source": [
    "# 컬럼 하나 선택\n",
    "data['확진자수']\n",
    "type(data['확진자수'])\n",
    "# 필요한 컬럼만 저장\n",
    "# 여러 컬럼 선택 (바깥대괄호: 인덱스 / 안쪽대괄호: 리스트)\n",
    "df = data[['기준연도','기준월','법정동','확진자수']]\n",
    "type(df)\n",
    "# 열하나는 Series, 열 여러개는 dataframe"
   ]
  },
  {
   "cell_type": "markdown",
   "id": "faffc0d5-2e23-4216-8203-0b72e27fa222",
   "metadata": {},
   "source": [
    "### 시리즈 탐색하기\n",
    "- head : 데이터 앞부분만 확인\n",
    "- count : 데이터 개수\n",
    "- unique : 고유한 값만 확인\n",
    "- value_count : 데이터별 개수 확인"
   ]
  },
  {
   "cell_type": "code",
   "execution_count": null,
   "id": "639ccacd-b385-4c43-833e-e44d04a0fe2a",
   "metadata": {},
   "outputs": [],
   "source": [
    "# 데이터 앞 부분만 확인(5개)\n",
    "df.head()\n",
    "# 데이터 개수 확인. 빈값 포함 안됨\n",
    "df.count()\n",
    "# 중복 제거한 고유값 확인\n",
    "# 확진자수 에는 nan 빈값이 포함되어 있어, 결과가 이상해짐\n",
    "df['확진자수'].unique()\n",
    "df['확진자수'].value_counts()"
   ]
  },
  {
   "cell_type": "code",
   "execution_count": null,
   "id": "a2bd948f-ef0c-449c-8d32-f9a78dc8272e",
   "metadata": {},
   "outputs": [],
   "source": [
    "# 주민등록인구 현황 데이터 탐색하기"
   ]
  },
  {
   "cell_type": "code",
   "execution_count": null,
   "id": "8548f199-6710-4c68-9807-b0d8bd15ead7",
   "metadata": {},
   "outputs": [],
   "source": [
    "data = pd.read_csv('0917/주민등록인구및세대현황.csv',\n",
    "                  encoding='euc-kr')\n",
    "data\n",
    "# 필요한 컬럼만선택\n",
    "df = data[['행정구역','2025년08월_총인구수','2025년08월_남자 인구수','2025년08월_여자 인구수','2025년08월_남여 비율']]\n",
    "df"
   ]
  },
  {
   "cell_type": "code",
   "execution_count": null,
   "id": "963395de-4607-4631-90ca-e52de376a3bb",
   "metadata": {},
   "outputs": [],
   "source": [
    "df['행정구역'].head()"
   ]
  },
  {
   "cell_type": "code",
   "execution_count": null,
   "id": "ee9b6629-c684-4091-8494-f149745ef291",
   "metadata": {},
   "outputs": [],
   "source": [
    "df['행정구역'].count()"
   ]
  },
  {
   "cell_type": "code",
   "execution_count": null,
   "id": "c7e29fa0-f90d-4a4b-b91f-7698073d882b",
   "metadata": {},
   "outputs": [],
   "source": [
    "print(df['2025년08월_남여 비율'].unique())\n",
    "print(df['2025년08월_남여 비율'].value_counts())"
   ]
  },
  {
   "cell_type": "code",
   "execution_count": null,
   "id": "0c45d164-f24c-42fa-999c-806c6a75c03b",
   "metadata": {},
   "outputs": [],
   "source": [
    "data = pd.read_csv('0917/서울시설공단_서울도시고속도로 노선별 시간대별 교통량.csv',\n",
    "                   encoding='euc-kr')\n",
    "df = data['노선']\n",
    "df.head()"
   ]
  },
  {
   "cell_type": "code",
   "execution_count": null,
   "id": "f4c973ef-4825-4158-a972-4beaf07af9bb",
   "metadata": {},
   "outputs": [],
   "source": [
    "df.count()"
   ]
  },
  {
   "cell_type": "code",
   "execution_count": null,
   "id": "4973ac65-78b0-44ab-8f75-c5404c6f18b2",
   "metadata": {},
   "outputs": [],
   "source": [
    "df.unique()"
   ]
  },
  {
   "cell_type": "code",
   "execution_count": null,
   "id": "7d602ed1-1a84-4525-8e37-03e2c2b3d4a5",
   "metadata": {},
   "outputs": [],
   "source": [
    "df.value_counts()"
   ]
  },
  {
   "cell_type": "code",
   "execution_count": null,
   "id": "70187837-a1e4-4a64-a882-06c3f1105750",
   "metadata": {},
   "outputs": [],
   "source": [
    "data = pd.read_csv('0917/서울시 버스노선별 정류장별 승하차 인원 정보.csv',\n",
    "                   encoding='euc-kr')\n",
    "df = data[['노선번호', '노선명', '표준버스정류장ID', '역명', '승차총승객수',\n",
    "           '하차총승객수']]\n",
    "df"
   ]
  },
  {
   "cell_type": "code",
   "execution_count": null,
   "id": "a9c3d8a5-c757-4cb2-bb48-b9b7ef07669f",
   "metadata": {},
   "outputs": [],
   "source": [
    "df['표준버스정류장ID'].head()"
   ]
  },
  {
   "cell_type": "code",
   "execution_count": null,
   "id": "cc743c86-f68d-4279-92de-dd647ecb0294",
   "metadata": {},
   "outputs": [],
   "source": [
    "df['표준버스정류장ID'].count()"
   ]
  },
  {
   "cell_type": "code",
   "execution_count": null,
   "id": "78ba931e-a414-424f-b90d-09b39c251c17",
   "metadata": {},
   "outputs": [],
   "source": [
    "df['표준버스정류장ID'].unique()"
   ]
  },
  {
   "cell_type": "code",
   "execution_count": null,
   "id": "a8f50b83-52a1-4b95-a3c9-9cd66b59dbcf",
   "metadata": {},
   "outputs": [],
   "source": [
    "df['표준버스정류장ID'].value_counts()"
   ]
  },
  {
   "cell_type": "markdown",
   "id": "e96547cb-7a9b-4deb-8dee-0be912895fe3",
   "metadata": {},
   "source": [
    "## NAN 처리하기\n",
    "- nan : csv에서 빈셀을 의미. 값이 없다"
   ]
  },
  {
   "cell_type": "markdown",
   "id": "4316808b-b28d-496f-942b-3081c387948a",
   "metadata": {},
   "source": [
    "### 빈값이 있는지 확인하기\n",
    "- isnull : 빈값이 있는지 확인\n",
    "- isnull.sum : 빈값의 개수"
   ]
  },
  {
   "cell_type": "code",
   "execution_count": null,
   "id": "36ef70c5-23c3-4de6-b63e-9420c08c50b7",
   "metadata": {},
   "outputs": [],
   "source": [
    "# 서울 마포구 코로나 현황\n",
    "data = pd.read_csv('0917\\서울특별시 마포구_법정동별_월별_코로나19 확진자 현황.csv',\n",
    "                 encoding='euc-kr')\n",
    "df = data[['기준연도', '기준월', '법정동', '확진자수']]"
   ]
  },
  {
   "cell_type": "code",
   "execution_count": null,
   "id": "f9a23c3f-4048-447f-acb9-4fce473d194d",
   "metadata": {},
   "outputs": [],
   "source": [
    "# 서울 마포구 코로나 현황\n",
    "data = pd.read_csv('0917\\서울특별시 마포구_법정동별_월별_코로나19 확진자 현황.csv',\n",
    "                 encoding='euc-kr')\n",
    "df = data[['기준연도', '기준월', '법정동', '확진자수']]\n",
    "# 확진자수에 빈값이 있는지 확인\n",
    "df['확진자수'].isnull()\n",
    "# 빈값 개수 세기\n",
    "# bool -> int\n",
    "# false : 0 / true : 1\n",
    "df['확진자수'].isnull().sum()"
   ]
  },
  {
   "cell_type": "markdown",
   "id": "5adeaa9c-409b-416c-b40f-bdad4cc586f8",
   "metadata": {},
   "source": [
    "## 빈값 삭제하기\n",
    "- dropna : 빈값이 있는 행을 삭제\n",
    "- dropna ( subset = ['컬럼'] ) : 빈값이 있는지 특정 컬럼만 검사한 뒤 삭제"
   ]
  },
  {
   "cell_type": "code",
   "execution_count": null,
   "id": "e8b47a4f-88f0-4735-83ad-65b4c644fe6c",
   "metadata": {},
   "outputs": [],
   "source": [
    "# 빈값이 있는 행을 모두 제외하고 보여주기\n",
    "# 원본데이터는 영향 없다\n",
    "df.dropna()\n",
    "df.dropna(subset=['확진자수'])\n",
    "df"
   ]
  },
  {
   "cell_type": "markdown",
   "id": "6fa109b2-fe8f-43cf-afb4-2bb134c7bc22",
   "metadata": {},
   "source": [
    "## 빈값을 다른값으로 대체하기\n",
    "- fillna(새로운값) : 컬럼 하나만 처리\n",
    "- fillna ( { 컬럼1 : 새로운값, 컬럼2 : 새로운값 } ) : 여러컬럼을 한번에 처리"
   ]
  },
  {
   "cell_type": "code",
   "execution_count": null,
   "id": "db574e57-af9a-4245-936d-a50c70efe11c",
   "metadata": {},
   "outputs": [],
   "source": [
    "df\n",
    "# 법정동에 빈값이 있으면 '모름'으로 표시\n",
    "df['법정동'].fillna('모름')\n",
    "# 확진자수에 빈값이 있으면 0으로 표시\n",
    "df['확진자수'].fillna(0)\n",
    "#  원본 영향 없음\n",
    "\n",
    "# 여러 컬럼 한번에 교체\n",
    "# 법정동과 확진자수의 빈값을 한번에 처리\n",
    "df.fillna({'법정동' : '모름', '확진자수' : 0})\n",
    "df"
   ]
  },
  {
   "cell_type": "code",
   "execution_count": null,
   "id": "8181152a-142c-4131-a873-5091ce76a699",
   "metadata": {},
   "outputs": [],
   "source": [
    "# 원본데이터를 변경하기\n",
    "df['법정동'] = df['법정동'].fillna('모름')\n",
    "df"
   ]
  },
  {
   "cell_type": "code",
   "execution_count": null,
   "id": "0c5368d6-3504-4e61-b5f7-27169a850e44",
   "metadata": {},
   "outputs": [],
   "source": [
    "df"
   ]
  },
  {
   "cell_type": "code",
   "execution_count": null,
   "id": "b258dcb0-a970-4e61-aa76-6c52396de57f",
   "metadata": {},
   "outputs": [],
   "source": [
    "data = pd.read_csv('0917/주민등록인구및세대현황.csv',\n",
    "                   encoding='euc-kr')\n",
    "data\n",
    "print(data.index)\n",
    "print(data.columns)"
   ]
  },
  {
   "cell_type": "code",
   "execution_count": null,
   "id": "dd36dc46-b672-41fc-a459-1deabd423a80",
   "metadata": {},
   "outputs": [],
   "source": [
    "df = data[['행정구역','총인구수','남자 인구수','여자 인구수', '남여 비율']]\n",
    "df\n",
    "# 남자 인구수가 없는 행 개수 확인\n",
    "df['남자 인구수'].isnull().sum()"
   ]
  },
  {
   "cell_type": "code",
   "execution_count": null,
   "id": "ad2a5b19-e7a3-47fb-884d-ad2965797989",
   "metadata": {},
   "outputs": [],
   "source": [
    "data"
   ]
  },
  {
   "cell_type": "code",
   "execution_count": null,
   "id": "9f98db24-424e-4ac7-9929-55c73ddb4d8e",
   "metadata": {},
   "outputs": [],
   "source": [
    "# 세대당 인구가 없는 행을 제거\n",
    "# 특정 컬럼만 검사\n",
    "data.dropna(subset=['세대당 인구'])\n",
    "data"
   ]
  },
  {
   "cell_type": "code",
   "execution_count": null,
   "id": "bad3194a-6eed-43c1-9d8b-8522b3bd104b",
   "metadata": {},
   "outputs": [],
   "source": [
    "# 남자인구수가 없으면 999로 교체\n",
    "df['남자 인구수'].fillna(999)"
   ]
  },
  {
   "cell_type": "code",
   "execution_count": null,
   "id": "dd982d34-6360-46d1-8e76-0933dfb78281",
   "metadata": {},
   "outputs": [],
   "source": [
    "data.fillna({'세대당 인구':0,'남자 인구수':999})\n",
    "data"
   ]
  },
  {
   "cell_type": "code",
   "execution_count": null,
   "id": "10614a5e-2a02-4783-8967-ac91ef7c2481",
   "metadata": {},
   "outputs": [],
   "source": [
    "data = pd.read_csv('0917/서울시설공단_서울도시고속도로 노선별 시간대별 교통량.csv',\n",
    "                   encoding='euc-kr')\n",
    "df = data\n",
    "df"
   ]
  },
  {
   "cell_type": "code",
   "execution_count": null,
   "id": "cf81ff3c-1bca-4483-9b70-c003169efdf4",
   "metadata": {},
   "outputs": [],
   "source": [
    "df['교통량'].isnull().sum()"
   ]
  },
  {
   "cell_type": "code",
   "execution_count": null,
   "id": "118a0e44-7e6c-4264-836c-c216b127dec5",
   "metadata": {},
   "outputs": [],
   "source": [
    "df.dropna(subset = ['방향'])"
   ]
  },
  {
   "cell_type": "code",
   "execution_count": null,
   "id": "0b5c395a-9435-44e9-90ac-9f9958dc970d",
   "metadata": {},
   "outputs": [],
   "source": [
    "df['교통량'].fillna(100)"
   ]
  },
  {
   "cell_type": "code",
   "execution_count": null,
   "id": "06f4a0d4-4002-40a2-a442-72638c611298",
   "metadata": {},
   "outputs": [],
   "source": []
  },
  {
   "cell_type": "code",
   "execution_count": null,
   "id": "0679f768-cac7-498a-b0c7-b669fcf8fb4f",
   "metadata": {},
   "outputs": [],
   "source": [
    "data = pd.read_csv('0917/서울시설공단_서울도시고속도로 노선별 시간대별 교통량.csv',\n",
    "                   encoding='euc-kr')\n",
    "df = data\n",
    "df"
   ]
  },
  {
   "cell_type": "code",
   "execution_count": null,
   "id": "31c49c23-5880-4930-8cb4-61dd78de181d",
   "metadata": {},
   "outputs": [],
   "source": [
    "df[df['노선'] == '강변북로']"
   ]
  },
  {
   "cell_type": "code",
   "execution_count": null,
   "id": "911307ed-2d6a-4c2c-9b8d-5ca30560e4a5",
   "metadata": {},
   "outputs": [],
   "source": [
    "df[df['시간대'] == 1]"
   ]
  },
  {
   "cell_type": "code",
   "execution_count": null,
   "id": "ec57ce40-d15d-41bf-a15f-216f9f6e9fb1",
   "metadata": {
    "scrolled": true
   },
   "outputs": [],
   "source": [
    "df[df['방향'] == '동향']"
   ]
  },
  {
   "cell_type": "code",
   "execution_count": null,
   "id": "3ac70a78-7760-4c62-bb5b-56684f2724a4",
   "metadata": {},
   "outputs": [],
   "source": [
    "data = pd.read_csv('0917/서울시 버스노선별 정류장별 승하차 인원 정보.csv',\n",
    "                   encoding='euc-kr')\n",
    "df = data"
   ]
  },
  {
   "cell_type": "code",
   "execution_count": null,
   "id": "a959df5e-8ca1-42ec-97a5-c4ae2df3a476",
   "metadata": {
    "scrolled": true
   },
   "outputs": [],
   "source": [
    "df[df['노선명'] == '201번(구리~서울역)']"
   ]
  },
  {
   "cell_type": "code",
   "execution_count": null,
   "id": "14547d85-8709-4658-9469-be36320230b8",
   "metadata": {},
   "outputs": [],
   "source": [
    "df[df['승차총승객수'] >= 2000]"
   ]
  },
  {
   "cell_type": "code",
   "execution_count": null,
   "id": "940fc19c-20a9-4890-9d70-40f3d3db7662",
   "metadata": {},
   "outputs": [],
   "source": [
    "# 전처리 : 데이터에 빈값 있을 경우 먼저 처리\n",
    "df = df.fillna({'역명':'모름'})\n",
    "df[df['역명'].str.contains('병원')]"
   ]
  },
  {
   "cell_type": "markdown",
   "id": "82bd5d98-4213-4c38-ad91-b8273d70ef7c",
   "metadata": {},
   "source": [
    "## 집계 및 변형\n",
    "- groupby : 특정 컬럼을 기준으로 행 묶기  \n",
    "  데이터를 그룹화 한 후에 합계, 평균을 구할 수 있다"
   ]
  },
  {
   "cell_type": "code",
   "execution_count": 138,
   "id": "dc1f4736-0c97-4ded-b001-a1f96c00bfcf",
   "metadata": {},
   "outputs": [
    {
     "data": {
      "text/html": [
       "<div>\n",
       "<style scoped>\n",
       "    .dataframe tbody tr th:only-of-type {\n",
       "        vertical-align: middle;\n",
       "    }\n",
       "\n",
       "    .dataframe tbody tr th {\n",
       "        vertical-align: top;\n",
       "    }\n",
       "\n",
       "    .dataframe thead th {\n",
       "        text-align: right;\n",
       "    }\n",
       "</style>\n",
       "<table border=\"1\" class=\"dataframe\">\n",
       "  <thead>\n",
       "    <tr style=\"text-align: right;\">\n",
       "      <th></th>\n",
       "      <th>기준연도</th>\n",
       "      <th>법정동</th>\n",
       "      <th>확진자수</th>\n",
       "    </tr>\n",
       "  </thead>\n",
       "  <tbody>\n",
       "    <tr>\n",
       "      <th>0</th>\n",
       "      <td>2020</td>\n",
       "      <td>공덕동</td>\n",
       "      <td>0.0</td>\n",
       "    </tr>\n",
       "    <tr>\n",
       "      <th>1</th>\n",
       "      <td>2020</td>\n",
       "      <td>공덕동</td>\n",
       "      <td>0.0</td>\n",
       "    </tr>\n",
       "    <tr>\n",
       "      <th>2</th>\n",
       "      <td>2020</td>\n",
       "      <td>NaN</td>\n",
       "      <td>2.0</td>\n",
       "    </tr>\n",
       "    <tr>\n",
       "      <th>3</th>\n",
       "      <td>2020</td>\n",
       "      <td>공덕동</td>\n",
       "      <td>NaN</td>\n",
       "    </tr>\n",
       "    <tr>\n",
       "      <th>4</th>\n",
       "      <td>2020</td>\n",
       "      <td>공덕동</td>\n",
       "      <td>NaN</td>\n",
       "    </tr>\n",
       "    <tr>\n",
       "      <th>...</th>\n",
       "      <td>...</td>\n",
       "      <td>...</td>\n",
       "      <td>...</td>\n",
       "    </tr>\n",
       "    <tr>\n",
       "      <th>679</th>\n",
       "      <td>2022</td>\n",
       "      <td>염리동</td>\n",
       "      <td>1053.0</td>\n",
       "    </tr>\n",
       "    <tr>\n",
       "      <th>680</th>\n",
       "      <td>2022</td>\n",
       "      <td>염리동</td>\n",
       "      <td>423.0</td>\n",
       "    </tr>\n",
       "    <tr>\n",
       "      <th>681</th>\n",
       "      <td>2022</td>\n",
       "      <td>염리동</td>\n",
       "      <td>289.0</td>\n",
       "    </tr>\n",
       "    <tr>\n",
       "      <th>682</th>\n",
       "      <td>2022</td>\n",
       "      <td>염리동</td>\n",
       "      <td>502.0</td>\n",
       "    </tr>\n",
       "    <tr>\n",
       "      <th>683</th>\n",
       "      <td>2022</td>\n",
       "      <td>염리동</td>\n",
       "      <td>669.0</td>\n",
       "    </tr>\n",
       "  </tbody>\n",
       "</table>\n",
       "<p>684 rows × 3 columns</p>\n",
       "</div>"
      ],
      "text/plain": [
       "     기준연도  법정동    확진자수\n",
       "0    2020  공덕동     0.0\n",
       "1    2020  공덕동     0.0\n",
       "2    2020  NaN     2.0\n",
       "3    2020  공덕동     NaN\n",
       "4    2020  공덕동     NaN\n",
       "..    ...  ...     ...\n",
       "679  2022  염리동  1053.0\n",
       "680  2022  염리동   423.0\n",
       "681  2022  염리동   289.0\n",
       "682  2022  염리동   502.0\n",
       "683  2022  염리동   669.0\n",
       "\n",
       "[684 rows x 3 columns]"
      ]
     },
     "execution_count": 138,
     "metadata": {},
     "output_type": "execute_result"
    }
   ],
   "source": [
    "# 코로나 데이터 가져오기\n",
    "data = pd.read_csv('0917\\서울특별시 마포구_법정동별_월별_코로나19 확진자 현황.csv',\n",
    "                 encoding='euc-kr')\n",
    "df = data[['기준연도', '법정동', '확진자수']]\n",
    "df"
   ]
  },
  {
   "cell_type": "code",
   "execution_count": 143,
   "id": "a84a2d4d-cedb-4ac9-95c6-9cfade02c0ef",
   "metadata": {},
   "outputs": [
    {
     "name": "stdout",
     "output_type": "stream",
     "text": [
      "법정동\n",
      "공덕동     20999.0\n",
      "구수동       407.0\n",
      "노고산동     3587.0\n",
      "당인동       516.0\n",
      "대흥동      9352.0\n",
      "도화동     12354.0\n",
      "동교동      2397.0\n",
      "마포동      1593.0\n",
      "망원동     20679.0\n",
      "상수동      4366.0\n",
      "상암동     17682.0\n",
      "서교동     11013.0\n",
      "성산동     26589.0\n",
      "신공덕동     7067.0\n",
      "신수동      9049.0\n",
      "신정동       909.0\n",
      "아현동     13779.0\n",
      "연남동      7867.0\n",
      "염리동     10381.0\n",
      "Name: 확진자수, dtype: float64\n"
     ]
    },
    {
     "data": {
      "text/plain": [
       "np.float64(20999.0)"
      ]
     },
     "execution_count": 143,
     "metadata": {},
     "output_type": "execute_result"
    }
   ],
   "source": [
    "# 동별 총 확진자수 구하기\n",
    "# 그룹핑을 하면 기준컬럼이 인덱스가 된다\n",
    "result = df.groupby('법정동').sum()\n",
    "print(result['확진자수'])\n",
    "# 여기서 공덕동의 값만 확인\n",
    "type(result['확진자수'])\n",
    "result['확진자수']['공덕동']"
   ]
  },
  {
   "cell_type": "markdown",
   "id": "e7447385-d127-41e3-8741-e48f4d8f4391",
   "metadata": {},
   "source": [
    "## 컬럼의 자료형 확인하기\n",
    "- type : 컬럼의 객체 타입 확인  \n",
    "- .dtype : 원소의 타입 확인  \n",
    "- info : 데이터프레임의 모든 컬럼 정보 확인  "
   ]
  },
  {
   "cell_type": "code",
   "execution_count": 145,
   "id": "fbbd31cd-cef2-42f2-bb89-aed727c64535",
   "metadata": {},
   "outputs": [
    {
     "name": "stdout",
     "output_type": "stream",
     "text": [
      "<class 'pandas.core.series.Series'>\n",
      "float64\n"
     ]
    }
   ],
   "source": [
    "# 데이터프레임에서 열 하나 꺼내기\n",
    "df['확진자수']\n",
    "# 1. 자료구조 타입 2. 원소 타입 확인해보기\n",
    "# 열의 자료구조\n",
    "print(type(df['확진자수']))\n",
    "# 원소의 자료형\n",
    "print(df['확진자수'].dtype)"
   ]
  },
  {
   "cell_type": "code",
   "execution_count": 146,
   "id": "a67fdc9e-a76a-4de2-8b8a-ca66355ba870",
   "metadata": {},
   "outputs": [
    {
     "name": "stdout",
     "output_type": "stream",
     "text": [
      "<class 'pandas.core.frame.DataFrame'>\n",
      "RangeIndex: 684 entries, 0 to 683\n",
      "Data columns (total 3 columns):\n",
      " #   Column  Non-Null Count  Dtype  \n",
      "---  ------  --------------  -----  \n",
      " 0   기준연도    684 non-null    int64  \n",
      " 1   법정동     683 non-null    object \n",
      " 2   확진자수    682 non-null    float64\n",
      "dtypes: float64(1), int64(1), object(1)\n",
      "memory usage: 16.2+ KB\n"
     ]
    }
   ],
   "source": [
    "# 데이터프레임의 모든 컬럼 정보\n",
    "df.info()\n",
    "# 법정동 -> str(문자열) -> object 로 표시됨"
   ]
  },
  {
   "cell_type": "markdown",
   "id": "9242d2f9-76d7-4891-a204-9684b3e1d2fb",
   "metadata": {},
   "source": [
    "## 컬럼의 타입 변경하기\n",
    "- astype({ 컬럼: 새타입})  "
   ]
  },
  {
   "cell_type": "code",
   "execution_count": 153,
   "id": "06b8f98a-ed8c-48bd-b1da-3bc36c2aaee6",
   "metadata": {},
   "outputs": [
    {
     "data": {
      "text/html": [
       "<div>\n",
       "<style scoped>\n",
       "    .dataframe tbody tr th:only-of-type {\n",
       "        vertical-align: middle;\n",
       "    }\n",
       "\n",
       "    .dataframe tbody tr th {\n",
       "        vertical-align: top;\n",
       "    }\n",
       "\n",
       "    .dataframe thead th {\n",
       "        text-align: right;\n",
       "    }\n",
       "</style>\n",
       "<table border=\"1\" class=\"dataframe\">\n",
       "  <thead>\n",
       "    <tr style=\"text-align: right;\">\n",
       "      <th></th>\n",
       "      <th>기준연도</th>\n",
       "      <th>법정동</th>\n",
       "      <th>확진자수</th>\n",
       "    </tr>\n",
       "  </thead>\n",
       "  <tbody>\n",
       "    <tr>\n",
       "      <th>0</th>\n",
       "      <td>2020</td>\n",
       "      <td>공덕동</td>\n",
       "      <td>0</td>\n",
       "    </tr>\n",
       "    <tr>\n",
       "      <th>1</th>\n",
       "      <td>2020</td>\n",
       "      <td>공덕동</td>\n",
       "      <td>0</td>\n",
       "    </tr>\n",
       "    <tr>\n",
       "      <th>5</th>\n",
       "      <td>2020</td>\n",
       "      <td>공덕동</td>\n",
       "      <td>3</td>\n",
       "    </tr>\n",
       "    <tr>\n",
       "      <th>6</th>\n",
       "      <td>2020</td>\n",
       "      <td>공덕동</td>\n",
       "      <td>2</td>\n",
       "    </tr>\n",
       "    <tr>\n",
       "      <th>7</th>\n",
       "      <td>2020</td>\n",
       "      <td>공덕동</td>\n",
       "      <td>7</td>\n",
       "    </tr>\n",
       "    <tr>\n",
       "      <th>...</th>\n",
       "      <td>...</td>\n",
       "      <td>...</td>\n",
       "      <td>...</td>\n",
       "    </tr>\n",
       "    <tr>\n",
       "      <th>679</th>\n",
       "      <td>2022</td>\n",
       "      <td>염리동</td>\n",
       "      <td>1053</td>\n",
       "    </tr>\n",
       "    <tr>\n",
       "      <th>680</th>\n",
       "      <td>2022</td>\n",
       "      <td>염리동</td>\n",
       "      <td>423</td>\n",
       "    </tr>\n",
       "    <tr>\n",
       "      <th>681</th>\n",
       "      <td>2022</td>\n",
       "      <td>염리동</td>\n",
       "      <td>289</td>\n",
       "    </tr>\n",
       "    <tr>\n",
       "      <th>682</th>\n",
       "      <td>2022</td>\n",
       "      <td>염리동</td>\n",
       "      <td>502</td>\n",
       "    </tr>\n",
       "    <tr>\n",
       "      <th>683</th>\n",
       "      <td>2022</td>\n",
       "      <td>염리동</td>\n",
       "      <td>669</td>\n",
       "    </tr>\n",
       "  </tbody>\n",
       "</table>\n",
       "<p>681 rows × 3 columns</p>\n",
       "</div>"
      ],
      "text/plain": [
       "     기준연도  법정동  확진자수\n",
       "0    2020  공덕동     0\n",
       "1    2020  공덕동     0\n",
       "5    2020  공덕동     3\n",
       "6    2020  공덕동     2\n",
       "7    2020  공덕동     7\n",
       "..    ...  ...   ...\n",
       "679  2022  염리동  1053\n",
       "680  2022  염리동   423\n",
       "681  2022  염리동   289\n",
       "682  2022  염리동   502\n",
       "683  2022  염리동   669\n",
       "\n",
       "[681 rows x 3 columns]"
      ]
     },
     "execution_count": 153,
     "metadata": {},
     "output_type": "execute_result"
    }
   ],
   "source": [
    "# 코로나 확진자수는 사람 수인데, float 으로 표시됨\n",
    "# float -> int 형변환\n",
    "df['확진자수']\n",
    "# 빈값 삭제 dropna : 원본 데이터 영향x\n",
    "# 옵션 x = > 전체 / 옵션 o => 특정 컬럼만\n",
    "df = df.dropna()\n",
    "df = df.astype({'확진자수':'int64'})\n",
    "df"
   ]
  },
  {
   "cell_type": "markdown",
   "id": "2f7228c7-288c-4b43-9736-47d7b887f05c",
   "metadata": {},
   "source": [
    "#### 연습문제"
   ]
  },
  {
   "cell_type": "code",
   "execution_count": 156,
   "id": "54be9289-6699-423c-9329-feaf218360c6",
   "metadata": {},
   "outputs": [
    {
     "data": {
      "text/html": [
       "<div>\n",
       "<style scoped>\n",
       "    .dataframe tbody tr th:only-of-type {\n",
       "        vertical-align: middle;\n",
       "    }\n",
       "\n",
       "    .dataframe tbody tr th {\n",
       "        vertical-align: top;\n",
       "    }\n",
       "\n",
       "    .dataframe thead th {\n",
       "        text-align: right;\n",
       "    }\n",
       "</style>\n",
       "<table border=\"1\" class=\"dataframe\">\n",
       "  <thead>\n",
       "    <tr style=\"text-align: right;\">\n",
       "      <th></th>\n",
       "      <th>노선</th>\n",
       "      <th>방향</th>\n",
       "      <th>시간대</th>\n",
       "      <th>교통량</th>\n",
       "    </tr>\n",
       "  </thead>\n",
       "  <tbody>\n",
       "    <tr>\n",
       "      <th>0</th>\n",
       "      <td>내부순환로</td>\n",
       "      <td>동향</td>\n",
       "      <td>0.0</td>\n",
       "      <td>1508.0</td>\n",
       "    </tr>\n",
       "    <tr>\n",
       "      <th>1</th>\n",
       "      <td>내부순환로</td>\n",
       "      <td>동향</td>\n",
       "      <td>1.0</td>\n",
       "      <td>1075.0</td>\n",
       "    </tr>\n",
       "    <tr>\n",
       "      <th>2</th>\n",
       "      <td>내부순환로</td>\n",
       "      <td>동향</td>\n",
       "      <td>2.0</td>\n",
       "      <td>852.0</td>\n",
       "    </tr>\n",
       "    <tr>\n",
       "      <th>3</th>\n",
       "      <td>내부순환로</td>\n",
       "      <td>동향</td>\n",
       "      <td>3.0</td>\n",
       "      <td>NaN</td>\n",
       "    </tr>\n",
       "    <tr>\n",
       "      <th>4</th>\n",
       "      <td>내부순환로</td>\n",
       "      <td>NaN</td>\n",
       "      <td>NaN</td>\n",
       "      <td>1138.0</td>\n",
       "    </tr>\n",
       "    <tr>\n",
       "      <th>...</th>\n",
       "      <td>...</td>\n",
       "      <td>...</td>\n",
       "      <td>...</td>\n",
       "      <td>...</td>\n",
       "    </tr>\n",
       "    <tr>\n",
       "      <th>379</th>\n",
       "      <td>강남순환로</td>\n",
       "      <td>서향</td>\n",
       "      <td>19.0</td>\n",
       "      <td>5503.0</td>\n",
       "    </tr>\n",
       "    <tr>\n",
       "      <th>380</th>\n",
       "      <td>강남순환로</td>\n",
       "      <td>서향</td>\n",
       "      <td>20.0</td>\n",
       "      <td>4087.0</td>\n",
       "    </tr>\n",
       "    <tr>\n",
       "      <th>381</th>\n",
       "      <td>강남순환로</td>\n",
       "      <td>서향</td>\n",
       "      <td>21.0</td>\n",
       "      <td>3193.0</td>\n",
       "    </tr>\n",
       "    <tr>\n",
       "      <th>382</th>\n",
       "      <td>강남순환로</td>\n",
       "      <td>서향</td>\n",
       "      <td>22.0</td>\n",
       "      <td>2849.0</td>\n",
       "    </tr>\n",
       "    <tr>\n",
       "      <th>383</th>\n",
       "      <td>강남순환로</td>\n",
       "      <td>서향</td>\n",
       "      <td>23.0</td>\n",
       "      <td>1838.0</td>\n",
       "    </tr>\n",
       "  </tbody>\n",
       "</table>\n",
       "<p>384 rows × 4 columns</p>\n",
       "</div>"
      ],
      "text/plain": [
       "        노선   방향   시간대     교통량\n",
       "0    내부순환로   동향   0.0  1508.0\n",
       "1    내부순환로   동향   1.0  1075.0\n",
       "2    내부순환로   동향   2.0   852.0\n",
       "3    내부순환로   동향   3.0     NaN\n",
       "4    내부순환로  NaN   NaN  1138.0\n",
       "..     ...  ...   ...     ...\n",
       "379  강남순환로   서향  19.0  5503.0\n",
       "380  강남순환로   서향  20.0  4087.0\n",
       "381  강남순환로   서향  21.0  3193.0\n",
       "382  강남순환로   서향  22.0  2849.0\n",
       "383  강남순환로   서향  23.0  1838.0\n",
       "\n",
       "[384 rows x 4 columns]"
      ]
     },
     "execution_count": 156,
     "metadata": {},
     "output_type": "execute_result"
    }
   ],
   "source": [
    "data = pd.read_csv('0917/서울시설공단_서울도시고속도로 노선별 시간대별 교통량.csv',\n",
    "                   encoding='euc-kr')\n",
    "df = data\n",
    "df"
   ]
  },
  {
   "cell_type": "code",
   "execution_count": 176,
   "id": "8889827f-2984-497e-8e0b-dd3647ea5006",
   "metadata": {},
   "outputs": [
    {
     "name": "stdout",
     "output_type": "stream",
     "text": [
      "노선\n",
      "강남순환로     155980.0\n",
      "강변북로      217199.0\n",
      "경부고속도로    188838.0\n",
      "내부순환로     132672.0\n",
      "동부간선도로    135370.0\n",
      "북부간선도로    109329.0\n",
      "분당수서로     133729.0\n",
      "올림픽대로     243177.0\n",
      "Name: 교통량, dtype: float64\n",
      "164536.75\n",
      "방향\n",
      "남향    225601.0\n",
      "동향    414409.0\n",
      "북향    232336.0\n",
      "서향    442810.0\n",
      "Name: 교통량, dtype: float64\n",
      "54798.166666666664\n"
     ]
    }
   ],
   "source": [
    "result = df.groupby('노선').sum()\n",
    "print(result['교통량'])\n",
    "print(result['교통량'].mean())\n",
    "\n",
    "result2 = df.groupby('방향').sum()\n",
    "print(result2['교통량'])\n",
    "\n",
    "result3 = df.groupby('시간대').sum()\n",
    "print(result3['교통량'].mean())\n",
    "\n",
    "\n"
   ]
  },
  {
   "cell_type": "code",
   "execution_count": null,
   "id": "50bb62c6-73a7-4782-8ec9-6dad91bcfa11",
   "metadata": {},
   "outputs": [],
   "source": []
  },
  {
   "cell_type": "code",
   "execution_count": 180,
   "id": "dc52f121-dc70-473a-b02d-00a1bbc5ef89",
   "metadata": {},
   "outputs": [
    {
     "data": {
      "text/html": [
       "<div>\n",
       "<style scoped>\n",
       "    .dataframe tbody tr th:only-of-type {\n",
       "        vertical-align: middle;\n",
       "    }\n",
       "\n",
       "    .dataframe tbody tr th {\n",
       "        vertical-align: top;\n",
       "    }\n",
       "\n",
       "    .dataframe thead th {\n",
       "        text-align: right;\n",
       "    }\n",
       "</style>\n",
       "<table border=\"1\" class=\"dataframe\">\n",
       "  <thead>\n",
       "    <tr style=\"text-align: right;\">\n",
       "      <th></th>\n",
       "      <th>사용일자</th>\n",
       "      <th>노선번호</th>\n",
       "      <th>노선명</th>\n",
       "      <th>표준버스정류장ID</th>\n",
       "      <th>버스정류장ARS번호</th>\n",
       "      <th>역명</th>\n",
       "      <th>승차총승객수</th>\n",
       "      <th>하차총승객수</th>\n",
       "    </tr>\n",
       "  </thead>\n",
       "  <tbody>\n",
       "    <tr>\n",
       "      <th>0</th>\n",
       "      <td>20250913</td>\n",
       "      <td>741</td>\n",
       "      <td>741번(진관차고지~헌인릉입구)</td>\n",
       "      <td>100000001</td>\n",
       "      <td>1001</td>\n",
       "      <td>종로2가사거리(00073)</td>\n",
       "      <td>107</td>\n",
       "      <td>310</td>\n",
       "    </tr>\n",
       "    <tr>\n",
       "      <th>1</th>\n",
       "      <td>20250913</td>\n",
       "      <td>N37</td>\n",
       "      <td>N37번(송파공영차고지~진관공영차고지)</td>\n",
       "      <td>100000001</td>\n",
       "      <td>1001</td>\n",
       "      <td>종로2가사거리(00032)</td>\n",
       "      <td>23</td>\n",
       "      <td>23</td>\n",
       "    </tr>\n",
       "    <tr>\n",
       "      <th>2</th>\n",
       "      <td>20250913</td>\n",
       "      <td>470</td>\n",
       "      <td>470번(상암차고지~안골마을)</td>\n",
       "      <td>100000001</td>\n",
       "      <td>1001</td>\n",
       "      <td>NaN</td>\n",
       "      <td>210</td>\n",
       "      <td>327</td>\n",
       "    </tr>\n",
       "    <tr>\n",
       "      <th>3</th>\n",
       "      <td>20250913</td>\n",
       "      <td>N37</td>\n",
       "      <td>N37번(진관공영차고지~송파공영차고지)</td>\n",
       "      <td>100000001</td>\n",
       "      <td>1001</td>\n",
       "      <td>종로2가사거리(00089)</td>\n",
       "      <td>26</td>\n",
       "      <td>9</td>\n",
       "    </tr>\n",
       "    <tr>\n",
       "      <th>4</th>\n",
       "      <td>20250913</td>\n",
       "      <td>100</td>\n",
       "      <td>100번(하계동~용산구청)</td>\n",
       "      <td>100000002</td>\n",
       "      <td>1002</td>\n",
       "      <td>창경궁.서울대학교병원(00031)</td>\n",
       "      <td>118</td>\n",
       "      <td>74</td>\n",
       "    </tr>\n",
       "    <tr>\n",
       "      <th>...</th>\n",
       "      <td>...</td>\n",
       "      <td>...</td>\n",
       "      <td>...</td>\n",
       "      <td>...</td>\n",
       "      <td>...</td>\n",
       "      <td>...</td>\n",
       "      <td>...</td>\n",
       "      <td>...</td>\n",
       "    </tr>\n",
       "    <tr>\n",
       "      <th>40408</th>\n",
       "      <td>20250913</td>\n",
       "      <td>654</td>\n",
       "      <td>654번(방화동~노들역)</td>\n",
       "      <td>999800002</td>\n",
       "      <td>~</td>\n",
       "      <td>김포교통(종점가상)(00105)</td>\n",
       "      <td>0</td>\n",
       "      <td>1</td>\n",
       "    </tr>\n",
       "    <tr>\n",
       "      <th>40409</th>\n",
       "      <td>20250913</td>\n",
       "      <td>6629</td>\n",
       "      <td>6629번(방화동~영등포)</td>\n",
       "      <td>999800002</td>\n",
       "      <td>~</td>\n",
       "      <td>김포교통(종점가상)(00097)</td>\n",
       "      <td>0</td>\n",
       "      <td>1</td>\n",
       "    </tr>\n",
       "    <tr>\n",
       "      <th>40410</th>\n",
       "      <td>20250913</td>\n",
       "      <td>9404</td>\n",
       "      <td>9404번(분당구미~신사역)</td>\n",
       "      <td>999800004</td>\n",
       "      <td>~</td>\n",
       "      <td>구미동차고지(종점가상)(00062)</td>\n",
       "      <td>0</td>\n",
       "      <td>2</td>\n",
       "    </tr>\n",
       "    <tr>\n",
       "      <th>40411</th>\n",
       "      <td>20250913</td>\n",
       "      <td>9707</td>\n",
       "      <td>9707번(고양 가좌동~영등포역)</td>\n",
       "      <td>999800005</td>\n",
       "      <td>~</td>\n",
       "      <td>가좌동종점(종점가상)(00078)</td>\n",
       "      <td>0</td>\n",
       "      <td>2</td>\n",
       "    </tr>\n",
       "    <tr>\n",
       "      <th>40412</th>\n",
       "      <td>20250913</td>\n",
       "      <td>707</td>\n",
       "      <td>707번(가좌동~서울역)</td>\n",
       "      <td>999800005</td>\n",
       "      <td>~</td>\n",
       "      <td>가좌동종점(종점가상)(00127)</td>\n",
       "      <td>0</td>\n",
       "      <td>11</td>\n",
       "    </tr>\n",
       "  </tbody>\n",
       "</table>\n",
       "<p>40413 rows × 8 columns</p>\n",
       "</div>"
      ],
      "text/plain": [
       "           사용일자  노선번호                    노선명  표준버스정류장ID 버스정류장ARS번호  \\\n",
       "0      20250913   741      741번(진관차고지~헌인릉입구)  100000001       1001   \n",
       "1      20250913   N37  N37번(송파공영차고지~진관공영차고지)  100000001       1001   \n",
       "2      20250913   470       470번(상암차고지~안골마을)  100000001       1001   \n",
       "3      20250913   N37  N37번(진관공영차고지~송파공영차고지)  100000001       1001   \n",
       "4      20250913   100         100번(하계동~용산구청)  100000002       1002   \n",
       "...         ...   ...                    ...        ...        ...   \n",
       "40408  20250913   654          654번(방화동~노들역)  999800002          ~   \n",
       "40409  20250913  6629         6629번(방화동~영등포)  999800002          ~   \n",
       "40410  20250913  9404        9404번(분당구미~신사역)  999800004          ~   \n",
       "40411  20250913  9707     9707번(고양 가좌동~영등포역)  999800005          ~   \n",
       "40412  20250913   707          707번(가좌동~서울역)  999800005          ~   \n",
       "\n",
       "                        역명  승차총승객수  하차총승객수  \n",
       "0           종로2가사거리(00073)     107     310  \n",
       "1           종로2가사거리(00032)      23      23  \n",
       "2                      NaN     210     327  \n",
       "3           종로2가사거리(00089)      26       9  \n",
       "4       창경궁.서울대학교병원(00031)     118      74  \n",
       "...                    ...     ...     ...  \n",
       "40408    김포교통(종점가상)(00105)       0       1  \n",
       "40409    김포교통(종점가상)(00097)       0       1  \n",
       "40410  구미동차고지(종점가상)(00062)       0       2  \n",
       "40411   가좌동종점(종점가상)(00078)       0       2  \n",
       "40412   가좌동종점(종점가상)(00127)       0      11  \n",
       "\n",
       "[40413 rows x 8 columns]"
      ]
     },
     "execution_count": 180,
     "metadata": {},
     "output_type": "execute_result"
    }
   ],
   "source": [
    "data = pd.read_csv('0917/서울시 버스노선별 정류장별 승하차 인원 정보.csv',\n",
    "                   encoding='euc-kr')\n",
    "df = data\n",
    "df"
   ]
  },
  {
   "cell_type": "code",
   "execution_count": null,
   "id": "696d4c09-a22a-41ce-9e86-4d0fcde10c87",
   "metadata": {},
   "outputs": [],
   "source": [
    "#1 #2\n",
    "result1 = df.groupby('노선번호').sum()\n",
    "print(result1['승차총승객수'])\n",
    "print(result1['하차총승객수'])"
   ]
  },
  {
   "cell_type": "code",
   "execution_count": null,
   "id": "cada96e9-6609-4b48-a999-2f643bbbbd07",
   "metadata": {},
   "outputs": [],
   "source": [
    "#3\n",
    "result2 = df.groupby('역명').sum()['승차총승객수']\n",
    "print(result2)"
   ]
  },
  {
   "cell_type": "code",
   "execution_count": 211,
   "id": "1e22262c-02e5-459b-9ba4-ce4025b18990",
   "metadata": {
    "scrolled": true
   },
   "outputs": [
    {
     "data": {
      "text/html": [
       "<div>\n",
       "<style scoped>\n",
       "    .dataframe tbody tr th:only-of-type {\n",
       "        vertical-align: middle;\n",
       "    }\n",
       "\n",
       "    .dataframe tbody tr th {\n",
       "        vertical-align: top;\n",
       "    }\n",
       "\n",
       "    .dataframe thead th {\n",
       "        text-align: right;\n",
       "    }\n",
       "</style>\n",
       "<table border=\"1\" class=\"dataframe\">\n",
       "  <thead>\n",
       "    <tr style=\"text-align: right;\">\n",
       "      <th></th>\n",
       "      <th>사용일자</th>\n",
       "      <th>노선번호</th>\n",
       "      <th>노선명</th>\n",
       "      <th>버스정류장ARS번호</th>\n",
       "      <th>역명</th>\n",
       "      <th>승차총승객수</th>\n",
       "      <th>하차총승객수</th>\n",
       "      <th>총이용객수</th>\n",
       "    </tr>\n",
       "    <tr>\n",
       "      <th>표준버스정류장ID</th>\n",
       "      <th></th>\n",
       "      <th></th>\n",
       "      <th></th>\n",
       "      <th></th>\n",
       "      <th></th>\n",
       "      <th></th>\n",
       "      <th></th>\n",
       "      <th></th>\n",
       "    </tr>\n",
       "  </thead>\n",
       "  <tbody>\n",
       "    <tr>\n",
       "      <th>100000001</th>\n",
       "      <td>20250913</td>\n",
       "      <td>741</td>\n",
       "      <td>741번(진관차고지~헌인릉입구)</td>\n",
       "      <td>1001</td>\n",
       "      <td>종로2가사거리(00073)</td>\n",
       "      <td>107</td>\n",
       "      <td>310</td>\n",
       "      <td>417</td>\n",
       "    </tr>\n",
       "    <tr>\n",
       "      <th>100000004</th>\n",
       "      <td>20250913</td>\n",
       "      <td>741</td>\n",
       "      <td>741번(진관차고지~헌인릉입구)</td>\n",
       "      <td>1004</td>\n",
       "      <td>종로2가.삼일교(00025)</td>\n",
       "      <td>290</td>\n",
       "      <td>214</td>\n",
       "      <td>504</td>\n",
       "    </tr>\n",
       "    <tr>\n",
       "      <th>100000028</th>\n",
       "      <td>20250913</td>\n",
       "      <td>741</td>\n",
       "      <td>741번(진관차고지~헌인릉입구)</td>\n",
       "      <td>1123</td>\n",
       "      <td>서울역사박물관.강북삼성병원(00077)</td>\n",
       "      <td>134</td>\n",
       "      <td>219</td>\n",
       "      <td>353</td>\n",
       "    </tr>\n",
       "    <tr>\n",
       "      <th>100000362</th>\n",
       "      <td>20250913</td>\n",
       "      <td>741</td>\n",
       "      <td>741번(진관차고지~헌인릉입구)</td>\n",
       "      <td>13037</td>\n",
       "      <td>영천시장(00079)</td>\n",
       "      <td>152</td>\n",
       "      <td>301</td>\n",
       "      <td>453</td>\n",
       "    </tr>\n",
       "    <tr>\n",
       "      <th>100000363</th>\n",
       "      <td>20250913</td>\n",
       "      <td>741</td>\n",
       "      <td>741번(진관차고지~헌인릉입구)</td>\n",
       "      <td>13036</td>\n",
       "      <td>영천시장(00019)</td>\n",
       "      <td>235</td>\n",
       "      <td>80</td>\n",
       "      <td>315</td>\n",
       "    </tr>\n",
       "    <tr>\n",
       "      <th>...</th>\n",
       "      <td>...</td>\n",
       "      <td>...</td>\n",
       "      <td>...</td>\n",
       "      <td>...</td>\n",
       "      <td>...</td>\n",
       "      <td>...</td>\n",
       "      <td>...</td>\n",
       "      <td>...</td>\n",
       "    </tr>\n",
       "    <tr>\n",
       "      <th>122000673</th>\n",
       "      <td>20250913</td>\n",
       "      <td>741</td>\n",
       "      <td>741번(진관차고지~헌인릉입구)</td>\n",
       "      <td>23439</td>\n",
       "      <td>세곡푸르지오.은곡삼거리(00046)</td>\n",
       "      <td>0</td>\n",
       "      <td>67</td>\n",
       "      <td>67</td>\n",
       "    </tr>\n",
       "    <tr>\n",
       "      <th>122000674</th>\n",
       "      <td>20250913</td>\n",
       "      <td>741</td>\n",
       "      <td>741번(진관차고지~헌인릉입구)</td>\n",
       "      <td>23437</td>\n",
       "      <td>세곡푸르지오.은곡삼거리(00052)</td>\n",
       "      <td>75</td>\n",
       "      <td>4</td>\n",
       "      <td>79</td>\n",
       "    </tr>\n",
       "    <tr>\n",
       "      <th>122000675</th>\n",
       "      <td>20250913</td>\n",
       "      <td>741</td>\n",
       "      <td>741번(진관차고지~헌인릉입구)</td>\n",
       "      <td>23537</td>\n",
       "      <td>은곡마을.강남신동아파밀리에(00048)</td>\n",
       "      <td>3</td>\n",
       "      <td>116</td>\n",
       "      <td>119</td>\n",
       "    </tr>\n",
       "    <tr>\n",
       "      <th>122000699</th>\n",
       "      <td>20250913</td>\n",
       "      <td>741</td>\n",
       "      <td>741번(진관차고지~헌인릉입구)</td>\n",
       "      <td>23454</td>\n",
       "      <td>대왕초등학교(00049)</td>\n",
       "      <td>79</td>\n",
       "      <td>12</td>\n",
       "      <td>91</td>\n",
       "    </tr>\n",
       "    <tr>\n",
       "      <th>218000221</th>\n",
       "      <td>20250913</td>\n",
       "      <td>741</td>\n",
       "      <td>741번(진관차고지~헌인릉입구)</td>\n",
       "      <td>35160</td>\n",
       "      <td>동산동능모퉁이.한국지역난방공사(00002)</td>\n",
       "      <td>49</td>\n",
       "      <td>1</td>\n",
       "      <td>50</td>\n",
       "    </tr>\n",
       "  </tbody>\n",
       "</table>\n",
       "<p>95 rows × 8 columns</p>\n",
       "</div>"
      ],
      "text/plain": [
       "               사용일자 노선번호                노선명 버스정류장ARS번호  \\\n",
       "표준버스정류장ID                                                \n",
       "100000001  20250913  741  741번(진관차고지~헌인릉입구)       1001   \n",
       "100000004  20250913  741  741번(진관차고지~헌인릉입구)       1004   \n",
       "100000028  20250913  741  741번(진관차고지~헌인릉입구)       1123   \n",
       "100000362  20250913  741  741번(진관차고지~헌인릉입구)      13037   \n",
       "100000363  20250913  741  741번(진관차고지~헌인릉입구)      13036   \n",
       "...             ...  ...                ...        ...   \n",
       "122000673  20250913  741  741번(진관차고지~헌인릉입구)      23439   \n",
       "122000674  20250913  741  741번(진관차고지~헌인릉입구)      23437   \n",
       "122000675  20250913  741  741번(진관차고지~헌인릉입구)      23537   \n",
       "122000699  20250913  741  741번(진관차고지~헌인릉입구)      23454   \n",
       "218000221  20250913  741  741번(진관차고지~헌인릉입구)      35160   \n",
       "\n",
       "                                역명  승차총승객수  하차총승객수  총이용객수  \n",
       "표준버스정류장ID                                                  \n",
       "100000001           종로2가사거리(00073)     107     310    417  \n",
       "100000004          종로2가.삼일교(00025)     290     214    504  \n",
       "100000028    서울역사박물관.강북삼성병원(00077)     134     219    353  \n",
       "100000362              영천시장(00079)     152     301    453  \n",
       "100000363              영천시장(00019)     235      80    315  \n",
       "...                            ...     ...     ...    ...  \n",
       "122000673      세곡푸르지오.은곡삼거리(00046)       0      67     67  \n",
       "122000674      세곡푸르지오.은곡삼거리(00052)      75       4     79  \n",
       "122000675    은곡마을.강남신동아파밀리에(00048)       3     116    119  \n",
       "122000699            대왕초등학교(00049)      79      12     91  \n",
       "218000221  동산동능모퉁이.한국지역난방공사(00002)      49       1     50  \n",
       "\n",
       "[95 rows x 8 columns]"
      ]
     },
     "execution_count": 211,
     "metadata": {},
     "output_type": "execute_result"
    }
   ],
   "source": [
    "#4\n",
    "df['노선번호'] == '741'    # 데이터타입 object(str)\n",
    "df[df['노선번호'] == '741'].groupby('표준버스정류장ID').sum()"
   ]
  },
  {
   "cell_type": "code",
   "execution_count": null,
   "id": "45e84d9e-5079-4eac-aec3-7e7aec55376e",
   "metadata": {},
   "outputs": [],
   "source": [
    "#5\n",
    "df['승차총승객수'] >= 100"
   ]
  },
  {
   "cell_type": "code",
   "execution_count": null,
   "id": "e71035ab-939c-4cd9-a64f-f0c4eab5e692",
   "metadata": {},
   "outputs": [],
   "source": [
    "\n",
    "df['총이용객수'] = df['승차총승객수'] + df['하차총승객수']\n",
    "df"
   ]
  },
  {
   "cell_type": "code",
   "execution_count": null,
   "id": "3738e912-8530-4977-9db2-8bbfe53c817e",
   "metadata": {},
   "outputs": [],
   "source": []
  },
  {
   "cell_type": "code",
   "execution_count": 213,
   "id": "3b3b5b90-0c68-4de9-9e3f-9a7e0494aaab",
   "metadata": {},
   "outputs": [
    {
     "data": {
      "text/html": [
       "<div>\n",
       "<style scoped>\n",
       "    .dataframe tbody tr th:only-of-type {\n",
       "        vertical-align: middle;\n",
       "    }\n",
       "\n",
       "    .dataframe tbody tr th {\n",
       "        vertical-align: top;\n",
       "    }\n",
       "\n",
       "    .dataframe thead th {\n",
       "        text-align: right;\n",
       "    }\n",
       "</style>\n",
       "<table border=\"1\" class=\"dataframe\">\n",
       "  <thead>\n",
       "    <tr style=\"text-align: right;\">\n",
       "      <th></th>\n",
       "      <th>기준연도</th>\n",
       "      <th>기준월</th>\n",
       "      <th>시도명</th>\n",
       "      <th>시군구명</th>\n",
       "      <th>법정동</th>\n",
       "      <th>확진자수</th>\n",
       "    </tr>\n",
       "  </thead>\n",
       "  <tbody>\n",
       "    <tr>\n",
       "      <th>0</th>\n",
       "      <td>2020</td>\n",
       "      <td>1</td>\n",
       "      <td>서울특별시</td>\n",
       "      <td>마포구</td>\n",
       "      <td>공덕동</td>\n",
       "      <td>0.0</td>\n",
       "    </tr>\n",
       "    <tr>\n",
       "      <th>1</th>\n",
       "      <td>2020</td>\n",
       "      <td>2</td>\n",
       "      <td>서울특별시</td>\n",
       "      <td>마포구</td>\n",
       "      <td>공덕동</td>\n",
       "      <td>0.0</td>\n",
       "    </tr>\n",
       "    <tr>\n",
       "      <th>2</th>\n",
       "      <td>2020</td>\n",
       "      <td>3</td>\n",
       "      <td>NaN</td>\n",
       "      <td>NaN</td>\n",
       "      <td>NaN</td>\n",
       "      <td>2.0</td>\n",
       "    </tr>\n",
       "    <tr>\n",
       "      <th>3</th>\n",
       "      <td>2020</td>\n",
       "      <td>4</td>\n",
       "      <td>서울특별시</td>\n",
       "      <td>마포구</td>\n",
       "      <td>공덕동</td>\n",
       "      <td>NaN</td>\n",
       "    </tr>\n",
       "    <tr>\n",
       "      <th>4</th>\n",
       "      <td>2020</td>\n",
       "      <td>5</td>\n",
       "      <td>서울특별시</td>\n",
       "      <td>마포구</td>\n",
       "      <td>공덕동</td>\n",
       "      <td>NaN</td>\n",
       "    </tr>\n",
       "    <tr>\n",
       "      <th>...</th>\n",
       "      <td>...</td>\n",
       "      <td>...</td>\n",
       "      <td>...</td>\n",
       "      <td>...</td>\n",
       "      <td>...</td>\n",
       "      <td>...</td>\n",
       "    </tr>\n",
       "    <tr>\n",
       "      <th>679</th>\n",
       "      <td>2022</td>\n",
       "      <td>8</td>\n",
       "      <td>서울특별시</td>\n",
       "      <td>마포구</td>\n",
       "      <td>염리동</td>\n",
       "      <td>1053.0</td>\n",
       "    </tr>\n",
       "    <tr>\n",
       "      <th>680</th>\n",
       "      <td>2022</td>\n",
       "      <td>9</td>\n",
       "      <td>서울특별시</td>\n",
       "      <td>마포구</td>\n",
       "      <td>염리동</td>\n",
       "      <td>423.0</td>\n",
       "    </tr>\n",
       "    <tr>\n",
       "      <th>681</th>\n",
       "      <td>2022</td>\n",
       "      <td>10</td>\n",
       "      <td>서울특별시</td>\n",
       "      <td>마포구</td>\n",
       "      <td>염리동</td>\n",
       "      <td>289.0</td>\n",
       "    </tr>\n",
       "    <tr>\n",
       "      <th>682</th>\n",
       "      <td>2022</td>\n",
       "      <td>11</td>\n",
       "      <td>서울특별시</td>\n",
       "      <td>마포구</td>\n",
       "      <td>염리동</td>\n",
       "      <td>502.0</td>\n",
       "    </tr>\n",
       "    <tr>\n",
       "      <th>683</th>\n",
       "      <td>2022</td>\n",
       "      <td>12</td>\n",
       "      <td>서울특별시</td>\n",
       "      <td>마포구</td>\n",
       "      <td>염리동</td>\n",
       "      <td>669.0</td>\n",
       "    </tr>\n",
       "  </tbody>\n",
       "</table>\n",
       "<p>684 rows × 6 columns</p>\n",
       "</div>"
      ],
      "text/plain": [
       "     기준연도  기준월    시도명 시군구명  법정동    확진자수\n",
       "0    2020    1  서울특별시  마포구  공덕동     0.0\n",
       "1    2020    2  서울특별시  마포구  공덕동     0.0\n",
       "2    2020    3    NaN  NaN  NaN     2.0\n",
       "3    2020    4  서울특별시  마포구  공덕동     NaN\n",
       "4    2020    5  서울특별시  마포구  공덕동     NaN\n",
       "..    ...  ...    ...  ...  ...     ...\n",
       "679  2022    8  서울특별시  마포구  염리동  1053.0\n",
       "680  2022    9  서울특별시  마포구  염리동   423.0\n",
       "681  2022   10  서울특별시  마포구  염리동   289.0\n",
       "682  2022   11  서울특별시  마포구  염리동   502.0\n",
       "683  2022   12  서울특별시  마포구  염리동   669.0\n",
       "\n",
       "[684 rows x 6 columns]"
      ]
     },
     "execution_count": 213,
     "metadata": {},
     "output_type": "execute_result"
    }
   ],
   "source": [
    "data = pd.read_csv('0917\\서울특별시 마포구_법정동별_월별_코로나19 확진자 현황.csv',\n",
    "                 encoding='euc-kr')\n",
    "df = data\n",
    "df"
   ]
  },
  {
   "cell_type": "code",
   "execution_count": null,
   "id": "cbf16bbd-50df-47ae-8416-30f8ad1d078c",
   "metadata": {},
   "outputs": [],
   "source": [
    "df.groupby('기준연도').sum()['확진자수']"
   ]
  },
  {
   "cell_type": "code",
   "execution_count": null,
   "id": "864c02ee-57d3-41e6-ba09-4701b517be47",
   "metadata": {},
   "outputs": [],
   "source": [
    "df.groupby('법정동').sum()['확진자수'].mean()"
   ]
  },
  {
   "cell_type": "code",
   "execution_count": null,
   "id": "9b6e309c-3fd2-49bd-81d4-79ba8322d5a1",
   "metadata": {},
   "outputs": [],
   "source": [
    "df['기준연도'].dtype\n",
    "result = df[df['기준연도'] == 2021]\n",
    "result.groupby('기준월').sum()['확진자수']"
   ]
  },
  {
   "cell_type": "code",
   "execution_count": null,
   "id": "098f9395-adc1-45e1-ad7c-fd7def926b31",
   "metadata": {},
   "outputs": [],
   "source": [
    "df['확진자수'].dtype\n",
    "r1 = df['확진자수'].isnull().sum()\n",
    "r2 = df[df['확진자수'] == 0].shape[0]\n",
    "result = r1 + r2\n",
    "result"
   ]
  },
  {
   "cell_type": "code",
   "execution_count": null,
   "id": "417ec5f5-9132-49dc-88a9-0991e365f926",
   "metadata": {},
   "outputs": [],
   "source": [
    "df.groupby('법정동').sum()['확진자수'].head()"
   ]
  },
  {
   "cell_type": "code",
   "execution_count": null,
   "id": "50ec2b34-6d89-42a7-8023-e2563da18026",
   "metadata": {},
   "outputs": [],
   "source": []
  },
  {
   "cell_type": "code",
   "execution_count": null,
   "id": "bd62268c-7854-4a9a-9acf-22a3da4ca2b8",
   "metadata": {},
   "outputs": [],
   "source": [
    "df[df['기준연도'] == 2022].groupby('법정동').sum()['확진자수'].max()\n",
    "df[df['기준연도'] == 2022].groupby('법정동').sum()['확진자수'].idxmax()\n",
    "df[df['기준연도'] == 2022].groupby('법정동').sum()['확진자수']['성산동']\n"
   ]
  },
  {
   "cell_type": "code",
   "execution_count": null,
   "id": "472a84bf-3314-44d0-af41-5336690fafd5",
   "metadata": {},
   "outputs": [],
   "source": []
  },
  {
   "cell_type": "code",
   "execution_count": null,
   "id": "f95540ad-7e6c-4adc-a473-a4e2b089b5d9",
   "metadata": {},
   "outputs": [],
   "source": []
  },
  {
   "cell_type": "code",
   "execution_count": null,
   "id": "3e273f72-669c-4f40-92f5-34c2f5c098ad",
   "metadata": {},
   "outputs": [],
   "source": []
  },
  {
   "cell_type": "code",
   "execution_count": null,
   "id": "e2ffc8d5-bde5-44e6-85a3-b6a5d4c4d59b",
   "metadata": {},
   "outputs": [],
   "source": []
  },
  {
   "cell_type": "code",
   "execution_count": null,
   "id": "5968cc3a-43ac-4421-9512-9bbe2fba7f1b",
   "metadata": {},
   "outputs": [],
   "source": []
  },
  {
   "cell_type": "code",
   "execution_count": null,
   "id": "0c0121e4-4be5-4048-a46d-10d029575eb1",
   "metadata": {},
   "outputs": [],
   "source": []
  },
  {
   "cell_type": "code",
   "execution_count": null,
   "id": "be648037-ab7e-480b-8a33-e4223d969a1e",
   "metadata": {},
   "outputs": [],
   "source": []
  },
  {
   "cell_type": "code",
   "execution_count": null,
   "id": "054101cc-d459-45c8-b9b9-fc1a472af6bb",
   "metadata": {},
   "outputs": [],
   "source": []
  },
  {
   "cell_type": "code",
   "execution_count": null,
   "id": "39201fb7-cfe1-4092-884b-90a07ed66773",
   "metadata": {},
   "outputs": [],
   "source": []
  },
  {
   "cell_type": "code",
   "execution_count": null,
   "id": "a1b0549c-4eec-428a-afd0-31ec67787ab1",
   "metadata": {},
   "outputs": [],
   "source": []
  },
  {
   "cell_type": "code",
   "execution_count": null,
   "id": "540dbbb5-86c8-4f3b-8d5c-c1c338d75152",
   "metadata": {},
   "outputs": [],
   "source": []
  },
  {
   "cell_type": "code",
   "execution_count": null,
   "id": "ddca6137-5fe0-4492-b97b-fcac8de742f6",
   "metadata": {},
   "outputs": [],
   "source": []
  },
  {
   "cell_type": "code",
   "execution_count": null,
   "id": "6eb5ce6c-09b0-4d61-a777-28f194ae669b",
   "metadata": {},
   "outputs": [],
   "source": []
  },
  {
   "cell_type": "code",
   "execution_count": null,
   "id": "e12462d7-0906-4f86-a300-5efa47f20aa1",
   "metadata": {},
   "outputs": [],
   "source": []
  },
  {
   "cell_type": "code",
   "execution_count": null,
   "id": "c282cb5c-d428-422f-ae2d-9f1962ab0a85",
   "metadata": {},
   "outputs": [],
   "source": []
  }
 ],
 "metadata": {
  "kernelspec": {
   "display_name": "Python 3 (ipykernel)",
   "language": "python",
   "name": "python3"
  },
  "language_info": {
   "codemirror_mode": {
    "name": "ipython",
    "version": 3
   },
   "file_extension": ".py",
   "mimetype": "text/x-python",
   "name": "python",
   "nbconvert_exporter": "python",
   "pygments_lexer": "ipython3",
   "version": "3.10.18"
  }
 },
 "nbformat": 4,
 "nbformat_minor": 5
}
