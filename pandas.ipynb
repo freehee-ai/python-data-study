{
 "cells": [
  {
   "cell_type": "markdown",
   "id": "78f56de4-56db-4925-9ab8-5e8a1b8fb787",
   "metadata": {},
   "source": [
    "# 판다스 (pandas)  \n",
    "데이터를 관리하기 위한 모듈로, <b><u>시리즈</b></u>와 <b><u>데이터프레임</b></u>을 제공함"
   ]
  },
  {
   "cell_type": "code",
   "execution_count": 1,
   "id": "e4eed6f1-fc84-478f-a9db-ace27cbd7d29",
   "metadata": {},
   "outputs": [],
   "source": [
    "# 모듈 불러오기\n",
    "# 넘파이 모듈을 np 라고 부른다\n",
    "import numpy as np\n",
    "# 판다스 모듈을 pd 라고 부른다\n",
    "import pandas as pd"
   ]
  },
  {
   "cell_type": "markdown",
   "id": "6b4a041c-3bee-47e0-a53b-d9cc04fd4809",
   "metadata": {},
   "source": [
    "## 4.1 시리즈(series)  \n",
    "데이터를 한줄로 담는 자료구조  \n",
    "리스트와 다른점은 <b><u>인덱스에 이름표</b></u>를 붙일 수 있다 (index)"
   ]
  },
  {
   "cell_type": "markdown",
   "id": "c07cc1bd-22e7-4d03-a2f3-434b20ffe827",
   "metadata": {},
   "source": [
    "### 시리즈 생성"
   ]
  },
  {
   "cell_type": "code",
   "execution_count": 6,
   "id": "7b062d4c-41d4-4cda-8d64-5f6bacada8dd",
   "metadata": {},
   "outputs": [
    {
     "name": "stdout",
     "output_type": "stream",
     "text": [
      "0    1\n",
      "1    2\n",
      "2    3\n",
      "3    4\n",
      "dtype: int64\n"
     ]
    },
    {
     "data": {
      "text/plain": [
       "RangeIndex(start=0, stop=4, step=1)"
      ]
     },
     "execution_count": 6,
     "metadata": {},
     "output_type": "execute_result"
    }
   ],
   "source": [
    "# 시리즈 생성\n",
    "s = pd.Series([1,2,3,4])\n",
    "print(s)\n",
    "# 인덱스가 자동으로 설정됨(0~3)\n",
    "# 시리즈의 인덱스 확인\n",
    "s.index"
   ]
  },
  {
   "cell_type": "code",
   "execution_count": 9,
   "id": "0954aea8-47c4-4722-bae9-cda91605a73d",
   "metadata": {},
   "outputs": [
    {
     "data": {
      "text/plain": [
       "0     5\n",
       "1    10\n",
       "2    15\n",
       "3    20\n",
       "dtype: int64"
      ]
     },
     "execution_count": 9,
     "metadata": {},
     "output_type": "execute_result"
    }
   ],
   "source": [
    "# pd.Series(값목록, [인덱스]<-옵션)\n",
    "n = pd.Series([5,10,15,20])\n",
    "n\n",
    "# 시리즈 생성시 인덱스를 따로 설정하지 않으면\n",
    "# 자동으로 생성된다"
   ]
  },
  {
   "cell_type": "code",
   "execution_count": 10,
   "id": "e9694710-4a14-4252-963f-0e111d0ee9de",
   "metadata": {},
   "outputs": [
    {
     "data": {
      "text/plain": [
       "0    2\n",
       "1    4\n",
       "2    6\n",
       "3    8\n",
       "dtype: int64"
      ]
     },
     "execution_count": 10,
     "metadata": {},
     "output_type": "execute_result"
    }
   ],
   "source": [
    "n2 = pd.Series([2,4,6,8])\n",
    "n2"
   ]
  },
  {
   "cell_type": "markdown",
   "id": "57f75de2-444f-478c-b246-a6da1d2f7f24",
   "metadata": {},
   "source": [
    "### 시리즈 생성2"
   ]
  },
  {
   "cell_type": "code",
   "execution_count": 12,
   "id": "f9ca4fb8-dd3f-43f5-9fe8-a04ce31e3fe0",
   "metadata": {},
   "outputs": [
    {
     "data": {
      "text/plain": [
       "a    1\n",
       "b    2\n",
       "c    3\n",
       "dtype: int64"
      ]
     },
     "execution_count": 12,
     "metadata": {},
     "output_type": "execute_result"
    }
   ],
   "source": [
    "# 인덱스를 직접 설정하여 시리즈 생성\n",
    "# pd.Series(값목록(list), 인덱스(list))\n",
    "s = pd.Series([1,2,3], index = ['a','b','c'])\n",
    "s"
   ]
  },
  {
   "cell_type": "markdown",
   "id": "546700db-ccba-471e-85ff-2af894c21cb3",
   "metadata": {},
   "source": [
    "### 시리즈에서 값 꺼내기  \n",
    "#### 값을 찾는 방법 : 인덱스의 이름과 위치  \n",
    "  \n",
    "- <b>loc 함수</b> : 인덱스 이름으로 데이터를 찾는다  \n",
    "- <b>iloc 함수</b> : 인덱스 위치로 데이터를 찾는다  \n",
    "- <b>대괄호[ ]</b> : 인덱스 이름으로 데이터를 찾는다 \n",
    "  "
   ]
  },
  {
   "cell_type": "code",
   "execution_count": 18,
   "id": "729df7ca-c7da-4602-9577-a6ea8bd0c357",
   "metadata": {},
   "outputs": [
    {
     "name": "stdout",
     "output_type": "stream",
     "text": [
      "a    1\n",
      "b    2\n",
      "c    3\n",
      "dtype: int64\n",
      "1\n",
      "2\n"
     ]
    },
    {
     "data": {
      "text/plain": [
       "np.int64(3)"
      ]
     },
     "execution_count": 18,
     "metadata": {},
     "output_type": "execute_result"
    }
   ],
   "source": [
    "print(s)\n",
    "# 이 시리즈의 인덱스 이름 : a, b, c\n",
    "# 이 시리즈의 인덱스 위치 : 0, 1, 2 (정해진 것, 고민할 필요x)\n",
    "# 인덱스 이름으로 숫자 1 꺼내기\n",
    "# s.loc[이름]\n",
    "print(s.loc['a'])\n",
    "# 인덱스 이름으로 숫자 2 꺼내기\n",
    "# s[이름]\n",
    "print(s['b'])\n",
    "# 인덱스 위치로 숫자 3 꺼내기\n",
    "# s.iloc[위치]\n",
    "s.iloc[2]"
   ]
  },
  {
   "cell_type": "markdown",
   "id": "5c7f37af-744c-40fa-b558-83fdf5119eff",
   "metadata": {},
   "source": [
    "### 시리즈 값 수정하기"
   ]
  },
  {
   "cell_type": "code",
   "execution_count": 24,
   "id": "2c717eba-2729-40fd-ac6e-31d224ed42df",
   "metadata": {},
   "outputs": [
    {
     "name": "stdout",
     "output_type": "stream",
     "text": [
      "a    0\n",
      "b    2\n",
      "c    3\n",
      "dtype: int64\n"
     ]
    },
    {
     "data": {
      "text/plain": [
       "a     0\n",
       "b     2\n",
       "c    99\n",
       "dtype: int64"
      ]
     },
     "execution_count": 24,
     "metadata": {},
     "output_type": "execute_result"
    }
   ],
   "source": [
    "print(s)\n",
    "# 1을 0으로 변경\n",
    "# 찾기 -> 변경\n",
    "s.loc['a'] = 0     # 새로운 값\n",
    "# 3을 99로 변경\n",
    "s['c'] = 99\n",
    "s"
   ]
  },
  {
   "cell_type": "markdown",
   "id": "9e7b5ff2-c5ff-46a4-8a3c-91caafe4b99f",
   "metadata": {},
   "source": [
    "### 연습문제"
   ]
  },
  {
   "cell_type": "code",
   "execution_count": 26,
   "id": "42767e31-3eb9-42cc-a9d0-836167099366",
   "metadata": {},
   "outputs": [
    {
     "name": "stdout",
     "output_type": "stream",
     "text": [
      "70\n"
     ]
    },
    {
     "data": {
      "text/plain": [
       "국어    70\n",
       "영어    80\n",
       "수학    75\n",
       "dtype: int64"
      ]
     },
     "execution_count": 26,
     "metadata": {},
     "output_type": "execute_result"
    }
   ],
   "source": [
    "score = pd.Series([70,80,90], index = ['국어', '영어', '수학'])\n",
    "print(score['국어'])\n",
    "score.loc['수학'] = 75\n",
    "score"
   ]
  },
  {
   "cell_type": "code",
   "execution_count": null,
   "id": "29458635-e581-4690-8909-565151b6a830",
   "metadata": {},
   "outputs": [],
   "source": [
    "# 이름표를 붙이면, 어떤 값인지바로 알 수 있다(가독성)\n",
    "temp = pd.Series([15,27,18], index = ['봄', '여름', '가을'])\n",
    "print(temp.iloc[0])\n",
    "temp.loc['가을'] = 20\n",
    "temp"
   ]
  },
  {
   "cell_type": "markdown",
   "id": "25f58c44-3561-4b45-a201-cb4193d2d75c",
   "metadata": {},
   "source": [
    "## 4.2 데이터 프레임(DataFrame)  \n",
    "<b><u>표 형식의 2차원 데이터</b></u>를 담기 위한 자료구조  "
   ]
  },
  {
   "cell_type": "markdown",
   "id": "e0601387-4337-402f-960a-d8f6281c7205",
   "metadata": {},
   "source": [
    "### 데이터 프레임 생성1"
   ]
  },
  {
   "cell_type": "code",
   "execution_count": 30,
   "id": "80f39536-eb74-4c7e-9e35-2d5f25e20cf5",
   "metadata": {},
   "outputs": [
    {
     "name": "stdout",
     "output_type": "stream",
     "text": [
      "RangeIndex(start=0, stop=2, step=1)\n",
      "Index(['city', 'pop'], dtype='object')\n"
     ]
    }
   ],
   "source": [
    "# 도시별 인구 데이터를 담은 데이터 프레임 생성\n",
    "# 데이터 먼저 만들기(dic)\n",
    "\n",
    "data = {'city' : ['서울', '인천'],\n",
    "        'pop' : [990, 240]\n",
    "       }\n",
    "# city, pop  열 두개를 담은 데이터 프레임 생성\n",
    "# pd.DataFrame(값, [인덱스], [컬럼]) [] <- 대괄호 부분은 옵션\n",
    "df = pd.DataFrame(data)\n",
    "df\n",
    "\n",
    "# 행열의 이름을 따로 설정하기 않으면 자동으로 설정됨\n",
    "print(df.index)    # 행 이름 : 0, 1\n",
    "print(df.columns)  # 열 이름 : dic 의 key (city, pop)"
   ]
  },
  {
   "cell_type": "markdown",
   "id": "a65a3d74-82a2-4713-a321-edff4e346d7e",
   "metadata": {},
   "source": [
    "### 데이터 프레임 생성2"
   ]
  },
  {
   "cell_type": "code",
   "execution_count": 37,
   "id": "1fb8843a-fa63-493e-a8a8-74a31ff10cd8",
   "metadata": {},
   "outputs": [
    {
     "name": "stdout",
     "output_type": "stream",
     "text": [
      "[[ 60  70  80]\n",
      " [ 70  80  90]\n",
      " [ 80  90 100]]\n",
      "Index(['둘리', '또치', '도우너'], dtype='object')\n",
      "Index(['국어', '영어', '수학'], dtype='object')\n"
     ]
    },
    {
     "data": {
      "text/html": [
       "<div>\n",
       "<style scoped>\n",
       "    .dataframe tbody tr th:only-of-type {\n",
       "        vertical-align: middle;\n",
       "    }\n",
       "\n",
       "    .dataframe tbody tr th {\n",
       "        vertical-align: top;\n",
       "    }\n",
       "\n",
       "    .dataframe thead th {\n",
       "        text-align: right;\n",
       "    }\n",
       "</style>\n",
       "<table border=\"1\" class=\"dataframe\">\n",
       "  <thead>\n",
       "    <tr style=\"text-align: right;\">\n",
       "      <th></th>\n",
       "      <th>국어</th>\n",
       "      <th>영어</th>\n",
       "      <th>수학</th>\n",
       "    </tr>\n",
       "  </thead>\n",
       "  <tbody>\n",
       "    <tr>\n",
       "      <th>둘리</th>\n",
       "      <td>60</td>\n",
       "      <td>70</td>\n",
       "      <td>80</td>\n",
       "    </tr>\n",
       "    <tr>\n",
       "      <th>또치</th>\n",
       "      <td>70</td>\n",
       "      <td>80</td>\n",
       "      <td>90</td>\n",
       "    </tr>\n",
       "    <tr>\n",
       "      <th>도우너</th>\n",
       "      <td>80</td>\n",
       "      <td>90</td>\n",
       "      <td>100</td>\n",
       "    </tr>\n",
       "  </tbody>\n",
       "</table>\n",
       "</div>"
      ],
      "text/plain": [
       "     국어  영어   수학\n",
       "둘리   60  70   80\n",
       "또치   70  80   90\n",
       "도우너  80  90  100"
      ]
     },
     "execution_count": 37,
     "metadata": {},
     "output_type": "execute_result"
    }
   ],
   "source": [
    "# 학생성적 데이터 만들기\n",
    "# dic, list\n",
    "# 넘파이의 다차원 배열 사용하여 2차원 배열 생성\n",
    "data = np.array([[60,70,80],[70,80,90],[80,90,100]])\n",
    "print(data)\n",
    "# 성적데이터를 담아서 데이터 프레임 생성\n",
    "# 데이터 인식을 위해 이름표 붙이기\n",
    "# 행이름 : 학생 이름\n",
    "# 열 이름 : 과목명\n",
    "df = pd.DataFrame(data, index=['둘리', '또치', '도우너'],\n",
    "                  columns=['국어', '영어', '수학'])\n",
    "# 행 인덱스\n",
    "print(df.index)\n",
    "print(df.columns)\n",
    "df\n"
   ]
  },
  {
   "cell_type": "markdown",
   "id": "861a27d6-4caf-4df8-af3f-38cdff4f35c6",
   "metadata": {},
   "source": [
    "### 데이터 프레임에서 데이터 꺼내기  \n",
    "- 대괄호[ ] : 행열 이름으로 데이터를 꺼낸다  \n",
    "- loc : 행열 이름으로 데이터를 꺼낸다  \n",
    "- iloc : 행열 위치로 데이터를 꺼낸다  "
   ]
  },
  {
   "cell_type": "code",
   "execution_count": 48,
   "id": "bedd5063-e958-494d-a346-24f3e2f127cd",
   "metadata": {},
   "outputs": [
    {
     "name": "stdout",
     "output_type": "stream",
     "text": [
      "     국어  영어   수학\n",
      "둘리   60  70   80\n",
      "또치   70  80   90\n",
      "도우너  80  90  100\n",
      "\n",
      "\n",
      "     국어  영어   수학\n",
      "둘리   60  70   80\n",
      "또치   70  80   90\n",
      "도우너  80  90  100\n",
      "\n",
      "\n",
      "둘리의 국어점수 : 60\n",
      "\n",
      "\n",
      "도우너의 수학점수 : 100\n",
      "\n",
      "\n",
      "모든학생의 국어점수 : \n",
      " 둘리     60\n",
      "또치     70\n",
      "도우너    80\n",
      "Name: 국어, dtype: int64\n",
      "\n",
      "\n"
     ]
    }
   ],
   "source": [
    "print(df)\n",
    "print('\\n')\n",
    "# loc[행이름, 열이름]\n",
    "# 전체 데이터\n",
    "print(df.loc[ : , : ])\n",
    "print('\\n')\n",
    "# 둘리의 국어점수\n",
    "print('둘리의 국어점수 :', df.loc['둘리', '국어'])\n",
    "print('\\n')\n",
    "# 도우너의 수학점수\n",
    "print('도우너의 수학점수 :', df.loc['도우너', '수학'])\n",
    "print('\\n')\n",
    "# 프레임에서 [] 대괄호를 쓰면, 열만 입력 가능!\n",
    "print('모든학생의 국어점수 : \\n', df['국어'])\n",
    "print('\\n')\n"
   ]
  },
  {
   "cell_type": "markdown",
   "id": "b20da16c-df52-4043-82fd-cfe527baa2cb",
   "metadata": {},
   "source": [
    "## 데이터 프레임에 새로운 열 추가"
   ]
  },
  {
   "cell_type": "code",
   "execution_count": 60,
   "id": "e3854d54-4332-40a0-9ba8-03300fb1382e",
   "metadata": {},
   "outputs": [
    {
     "name": "stdout",
     "output_type": "stream",
     "text": [
      "     국어  영어  미술   수학  과학\n",
      "둘리   60  70  70   80  60\n",
      "또치   70  80  80   90  70\n",
      "도우너  80  90  90  100  80\n"
     ]
    }
   ],
   "source": [
    "# 새로운 과목 추가\n",
    "# 새로운 열 = 리스트\n",
    "# 맨 뒤에 추가됨\n",
    "df['과학'] = [60,70,80]\n",
    "print(df)\n",
    "# 이번에는 2번째 위치에 '미술' 과목 추가\n",
    "# insert(위치, 컬럼명, 값리스트)\n",
    "df.insert(2, '미술', [70,80,90])\n",
    "df"
   ]
  },
  {
   "cell_type": "markdown",
   "id": "983f7f00-76e5-41fd-abf7-23588f57101c",
   "metadata": {},
   "source": [
    "## 데이터 프레임에서 열 삭제  \n",
    "- del : 원본에서 바로 삭제  \n",
    "- drop : 원본은 그대로, (임시)결과만 보여줌  "
   ]
  },
  {
   "cell_type": "code",
   "execution_count": 62,
   "id": "9fab4839-612a-4070-9a3e-4dc72c57c358",
   "metadata": {},
   "outputs": [
    {
     "name": "stdout",
     "output_type": "stream",
     "text": [
      "     국어  영어  미술   수학  과학\n",
      "둘리   60  70  70   80  60\n",
      "또치   70  80  80   90  70\n",
      "도우너  80  90  90  100  80\n"
     ]
    },
    {
     "data": {
      "text/html": [
       "<div>\n",
       "<style scoped>\n",
       "    .dataframe tbody tr th:only-of-type {\n",
       "        vertical-align: middle;\n",
       "    }\n",
       "\n",
       "    .dataframe tbody tr th {\n",
       "        vertical-align: top;\n",
       "    }\n",
       "\n",
       "    .dataframe thead th {\n",
       "        text-align: right;\n",
       "    }\n",
       "</style>\n",
       "<table border=\"1\" class=\"dataframe\">\n",
       "  <thead>\n",
       "    <tr style=\"text-align: right;\">\n",
       "      <th></th>\n",
       "      <th>국어</th>\n",
       "      <th>영어</th>\n",
       "      <th>미술</th>\n",
       "      <th>수학</th>\n",
       "    </tr>\n",
       "  </thead>\n",
       "  <tbody>\n",
       "    <tr>\n",
       "      <th>둘리</th>\n",
       "      <td>60</td>\n",
       "      <td>70</td>\n",
       "      <td>70</td>\n",
       "      <td>80</td>\n",
       "    </tr>\n",
       "    <tr>\n",
       "      <th>또치</th>\n",
       "      <td>70</td>\n",
       "      <td>80</td>\n",
       "      <td>80</td>\n",
       "      <td>90</td>\n",
       "    </tr>\n",
       "    <tr>\n",
       "      <th>도우너</th>\n",
       "      <td>80</td>\n",
       "      <td>90</td>\n",
       "      <td>90</td>\n",
       "      <td>100</td>\n",
       "    </tr>\n",
       "  </tbody>\n",
       "</table>\n",
       "</div>"
      ],
      "text/plain": [
       "     국어  영어  미술   수학\n",
       "둘리   60  70  70   80\n",
       "또치   70  80  80   90\n",
       "도우너  80  90  90  100"
      ]
     },
     "execution_count": 62,
     "metadata": {},
     "output_type": "execute_result"
    }
   ],
   "source": [
    "# 과학 과목 삭제\n",
    "print(df)\n",
    "del df['과학']\n",
    "df"
   ]
  },
  {
   "cell_type": "code",
   "execution_count": 65,
   "id": "17d88640-9d3c-45e5-89db-01f9aa6c570d",
   "metadata": {},
   "outputs": [
    {
     "name": "stdout",
     "output_type": "stream",
     "text": [
      "     국어  영어  미술\n",
      "둘리   60  70  70\n",
      "또치   70  80  80\n",
      "도우너  80  90  90\n"
     ]
    },
    {
     "data": {
      "text/html": [
       "<div>\n",
       "<style scoped>\n",
       "    .dataframe tbody tr th:only-of-type {\n",
       "        vertical-align: middle;\n",
       "    }\n",
       "\n",
       "    .dataframe tbody tr th {\n",
       "        vertical-align: top;\n",
       "    }\n",
       "\n",
       "    .dataframe thead th {\n",
       "        text-align: right;\n",
       "    }\n",
       "</style>\n",
       "<table border=\"1\" class=\"dataframe\">\n",
       "  <thead>\n",
       "    <tr style=\"text-align: right;\">\n",
       "      <th></th>\n",
       "      <th>국어</th>\n",
       "      <th>영어</th>\n",
       "      <th>미술</th>\n",
       "    </tr>\n",
       "  </thead>\n",
       "  <tbody>\n",
       "    <tr>\n",
       "      <th>둘리</th>\n",
       "      <td>60</td>\n",
       "      <td>70</td>\n",
       "      <td>70</td>\n",
       "    </tr>\n",
       "    <tr>\n",
       "      <th>또치</th>\n",
       "      <td>70</td>\n",
       "      <td>80</td>\n",
       "      <td>80</td>\n",
       "    </tr>\n",
       "    <tr>\n",
       "      <th>도우너</th>\n",
       "      <td>80</td>\n",
       "      <td>90</td>\n",
       "      <td>90</td>\n",
       "    </tr>\n",
       "  </tbody>\n",
       "</table>\n",
       "</div>"
      ],
      "text/plain": [
       "     국어  영어  미술\n",
       "둘리   60  70  70\n",
       "또치   70  80  80\n",
       "도우너  80  90  90"
      ]
     },
     "execution_count": 65,
     "metadata": {},
     "output_type": "execute_result"
    }
   ],
   "source": [
    "# 수학 과목 삭제\n",
    "# drop(행 또는 열의 이름, 방향)\n",
    "# axis=1 또는 axis='columns'\n",
    "# drop 은 원본에 영향이 없다\n",
    "result = df.drop('수학', axis=1) # 엑시스(축, 방향)\n",
    "print(result)\n",
    "# 결과를 반영하려면, 교체한다 (덮어 씌운다)\n",
    "df = df.drop('수학', axis=1)\n",
    "df"
   ]
  },
  {
   "cell_type": "markdown",
   "id": "f93cce06-e973-4a92-9fdf-9a6d00f152df",
   "metadata": {},
   "source": [
    "### 행 삭제"
   ]
  },
  {
   "cell_type": "code",
   "execution_count": 78,
   "id": "adaf668c-b141-46af-8f0f-0cf1a82d11d9",
   "metadata": {},
   "outputs": [],
   "source": [
    "# # 또치 학생 삭제 (행삭제)\n",
    "# # axis = 0 또는 axis = 'row'\n",
    "# result = (df.drop('또치', axis = 0))\n",
    "# print(result)\n",
    "# print('\\n')\n",
    "# # 결과를 원본에 교체\n",
    "# df = df.drop('또치', axis = 0)"
   ]
  },
  {
   "cell_type": "markdown",
   "id": "a30305e7-0d1b-450d-9441-ce9461278cdc",
   "metadata": {},
   "source": [
    "### 연습문제"
   ]
  },
  {
   "cell_type": "code",
   "execution_count": 83,
   "id": "aeef3556-d811-487e-95bf-7ac6f5f89ca3",
   "metadata": {},
   "outputs": [
    {
     "data": {
      "text/html": [
       "<div>\n",
       "<style scoped>\n",
       "    .dataframe tbody tr th:only-of-type {\n",
       "        vertical-align: middle;\n",
       "    }\n",
       "\n",
       "    .dataframe tbody tr th {\n",
       "        vertical-align: top;\n",
       "    }\n",
       "\n",
       "    .dataframe thead th {\n",
       "        text-align: right;\n",
       "    }\n",
       "</style>\n",
       "<table border=\"1\" class=\"dataframe\">\n",
       "  <thead>\n",
       "    <tr style=\"text-align: right;\">\n",
       "      <th></th>\n",
       "      <th>판매량</th>\n",
       "      <th>재고</th>\n",
       "    </tr>\n",
       "  </thead>\n",
       "  <tbody>\n",
       "    <tr>\n",
       "      <th>사과</th>\n",
       "      <td>30</td>\n",
       "      <td>50</td>\n",
       "    </tr>\n",
       "    <tr>\n",
       "      <th>배</th>\n",
       "      <td>20</td>\n",
       "      <td>40</td>\n",
       "    </tr>\n",
       "  </tbody>\n",
       "</table>\n",
       "</div>"
      ],
      "text/plain": [
       "    판매량  재고\n",
       "사과   30  50\n",
       "배    20  40"
      ]
     },
     "execution_count": 83,
     "metadata": {},
     "output_type": "execute_result"
    }
   ],
   "source": [
    "data = np.array([[30,50],[20,40]])\n",
    "df = pd.DataFrame(data, index=['사과','배'],\n",
    "                columns=['판매량', '재고'])\n",
    "df"
   ]
  },
  {
   "cell_type": "code",
   "execution_count": 84,
   "id": "d747a49c-b7a1-401e-ab2a-340cc046c4e3",
   "metadata": {},
   "outputs": [
    {
     "data": {
      "text/plain": [
       "판매량    30\n",
       "재고     50\n",
       "Name: 사과, dtype: int64"
      ]
     },
     "execution_count": 84,
     "metadata": {},
     "output_type": "execute_result"
    }
   ],
   "source": [
    "# 사과의 판매량\n",
    "df.loc['사과']"
   ]
  },
  {
   "cell_type": "code",
   "execution_count": 87,
   "id": "10985357-9e0f-436c-87f9-934e66231982",
   "metadata": {},
   "outputs": [
    {
     "name": "stdout",
     "output_type": "stream",
     "text": [
      "    판매량  재고    가격\n",
      "사과   30  50  1000\n",
      "배    20  40  1200\n"
     ]
    },
    {
     "data": {
      "text/html": [
       "<div>\n",
       "<style scoped>\n",
       "    .dataframe tbody tr th:only-of-type {\n",
       "        vertical-align: middle;\n",
       "    }\n",
       "\n",
       "    .dataframe tbody tr th {\n",
       "        vertical-align: top;\n",
       "    }\n",
       "\n",
       "    .dataframe thead th {\n",
       "        text-align: right;\n",
       "    }\n",
       "</style>\n",
       "<table border=\"1\" class=\"dataframe\">\n",
       "  <thead>\n",
       "    <tr style=\"text-align: right;\">\n",
       "      <th></th>\n",
       "      <th>판매량</th>\n",
       "      <th>재고</th>\n",
       "      <th>가격</th>\n",
       "    </tr>\n",
       "  </thead>\n",
       "  <tbody>\n",
       "    <tr>\n",
       "      <th>사과</th>\n",
       "      <td>30</td>\n",
       "      <td>50</td>\n",
       "      <td>1000</td>\n",
       "    </tr>\n",
       "    <tr>\n",
       "      <th>배</th>\n",
       "      <td>20</td>\n",
       "      <td>40</td>\n",
       "      <td>1200</td>\n",
       "    </tr>\n",
       "  </tbody>\n",
       "</table>\n",
       "</div>"
      ],
      "text/plain": [
       "    판매량  재고    가격\n",
       "사과   30  50  1000\n",
       "배    20  40  1200"
      ]
     },
     "execution_count": 87,
     "metadata": {},
     "output_type": "execute_result"
    }
   ],
   "source": [
    "# 가격 열 추가\n",
    "# 새로운 열 = 리스트\n",
    "print(df)\n",
    "df['가격'] = [1000,1200]\n",
    "df"
   ]
  },
  {
   "cell_type": "code",
   "execution_count": 88,
   "id": "f1242a03-48ba-42de-baad-1f6729ef3802",
   "metadata": {},
   "outputs": [
    {
     "data": {
      "text/html": [
       "<div>\n",
       "<style scoped>\n",
       "    .dataframe tbody tr th:only-of-type {\n",
       "        vertical-align: middle;\n",
       "    }\n",
       "\n",
       "    .dataframe tbody tr th {\n",
       "        vertical-align: top;\n",
       "    }\n",
       "\n",
       "    .dataframe thead th {\n",
       "        text-align: right;\n",
       "    }\n",
       "</style>\n",
       "<table border=\"1\" class=\"dataframe\">\n",
       "  <thead>\n",
       "    <tr style=\"text-align: right;\">\n",
       "      <th></th>\n",
       "      <th>인구</th>\n",
       "      <th>면적</th>\n",
       "    </tr>\n",
       "  </thead>\n",
       "  <tbody>\n",
       "    <tr>\n",
       "      <th>서울</th>\n",
       "      <td>950</td>\n",
       "      <td>1200</td>\n",
       "    </tr>\n",
       "    <tr>\n",
       "      <th>부산</th>\n",
       "      <td>500</td>\n",
       "      <td>800</td>\n",
       "    </tr>\n",
       "  </tbody>\n",
       "</table>\n",
       "</div>"
      ],
      "text/plain": [
       "     인구    면적\n",
       "서울  950  1200\n",
       "부산  500   800"
      ]
     },
     "execution_count": 88,
     "metadata": {},
     "output_type": "execute_result"
    }
   ],
   "source": [
    "data = [[950,1200],[500,800]]\n",
    "df = pd.DataFrame(data, index=['서울','부산'],\n",
    "                  columns=['인구','면적'])\n",
    "df"
   ]
  },
  {
   "cell_type": "code",
   "execution_count": 89,
   "id": "584998cd-6a1b-4db6-a570-62762f812986",
   "metadata": {},
   "outputs": [
    {
     "data": {
      "text/plain": [
       "인구     950\n",
       "면적    1200\n",
       "Name: 서울, dtype: int64"
      ]
     },
     "execution_count": 89,
     "metadata": {},
     "output_type": "execute_result"
    }
   ],
   "source": [
    "df.iloc[0]"
   ]
  },
  {
   "cell_type": "code",
   "execution_count": 90,
   "id": "cdb79050-777f-4341-81df-b76d08346ec7",
   "metadata": {},
   "outputs": [
    {
     "data": {
      "text/html": [
       "<div>\n",
       "<style scoped>\n",
       "    .dataframe tbody tr th:only-of-type {\n",
       "        vertical-align: middle;\n",
       "    }\n",
       "\n",
       "    .dataframe tbody tr th {\n",
       "        vertical-align: top;\n",
       "    }\n",
       "\n",
       "    .dataframe thead th {\n",
       "        text-align: right;\n",
       "    }\n",
       "</style>\n",
       "<table border=\"1\" class=\"dataframe\">\n",
       "  <thead>\n",
       "    <tr style=\"text-align: right;\">\n",
       "      <th></th>\n",
       "      <th>인구</th>\n",
       "      <th>면적</th>\n",
       "      <th>특산물</th>\n",
       "    </tr>\n",
       "  </thead>\n",
       "  <tbody>\n",
       "    <tr>\n",
       "      <th>서울</th>\n",
       "      <td>950</td>\n",
       "      <td>1200</td>\n",
       "      <td>김치</td>\n",
       "    </tr>\n",
       "    <tr>\n",
       "      <th>부산</th>\n",
       "      <td>500</td>\n",
       "      <td>800</td>\n",
       "      <td>어묵</td>\n",
       "    </tr>\n",
       "  </tbody>\n",
       "</table>\n",
       "</div>"
      ],
      "text/plain": [
       "     인구    면적 특산물\n",
       "서울  950  1200  김치\n",
       "부산  500   800  어묵"
      ]
     },
     "execution_count": 90,
     "metadata": {},
     "output_type": "execute_result"
    }
   ],
   "source": [
    "df.insert(2, '특산물', ['김치','어묵'])\n",
    "df"
   ]
  },
  {
   "cell_type": "code",
   "execution_count": 101,
   "id": "f454bee4-b12f-4d14-9da8-15330b13fc56",
   "metadata": {},
   "outputs": [
    {
     "data": {
      "text/html": [
       "<div>\n",
       "<style scoped>\n",
       "    .dataframe tbody tr th:only-of-type {\n",
       "        vertical-align: middle;\n",
       "    }\n",
       "\n",
       "    .dataframe tbody tr th {\n",
       "        vertical-align: top;\n",
       "    }\n",
       "\n",
       "    .dataframe thead th {\n",
       "        text-align: right;\n",
       "    }\n",
       "</style>\n",
       "<table border=\"1\" class=\"dataframe\">\n",
       "  <thead>\n",
       "    <tr style=\"text-align: right;\">\n",
       "      <th></th>\n",
       "      <th>가격</th>\n",
       "      <th>제목</th>\n",
       "    </tr>\n",
       "  </thead>\n",
       "  <tbody>\n",
       "    <tr>\n",
       "      <th>책1</th>\n",
       "      <td>15000</td>\n",
       "      <td>홍길동전</td>\n",
       "    </tr>\n",
       "    <tr>\n",
       "      <th>책2</th>\n",
       "      <td>20000</td>\n",
       "      <td>해리포터</td>\n",
       "    </tr>\n",
       "  </tbody>\n",
       "</table>\n",
       "</div>"
      ],
      "text/plain": [
       "       가격    제목\n",
       "책1  15000  홍길동전\n",
       "책2  20000  해리포터"
      ]
     },
     "execution_count": 101,
     "metadata": {},
     "output_type": "execute_result"
    }
   ],
   "source": [
    "data = np.array([[15000, '홍길동전'],[20000,'해리포터']])\n",
    "df = pd.DataFrame(data, index=['책1','책2'],\n",
    "                  columns=['가격','제목'])\n",
    "df"
   ]
  },
  {
   "cell_type": "code",
   "execution_count": 102,
   "id": "351cd505-78ee-4f81-b02c-ce1c7b539bf0",
   "metadata": {},
   "outputs": [
    {
     "data": {
      "text/plain": [
       "'20000'"
      ]
     },
     "execution_count": 102,
     "metadata": {},
     "output_type": "execute_result"
    }
   ],
   "source": [
    "df.loc['책2', '가격']"
   ]
  },
  {
   "cell_type": "code",
   "execution_count": 100,
   "id": "df9f5843-7f4a-4e0d-ae4e-5725ed7954c6",
   "metadata": {},
   "outputs": [
    {
     "data": {
      "text/html": [
       "<div>\n",
       "<style scoped>\n",
       "    .dataframe tbody tr th:only-of-type {\n",
       "        vertical-align: middle;\n",
       "    }\n",
       "\n",
       "    .dataframe tbody tr th {\n",
       "        vertical-align: top;\n",
       "    }\n",
       "\n",
       "    .dataframe thead th {\n",
       "        text-align: right;\n",
       "    }\n",
       "</style>\n",
       "<table border=\"1\" class=\"dataframe\">\n",
       "  <thead>\n",
       "    <tr style=\"text-align: right;\">\n",
       "      <th></th>\n",
       "      <th>가격</th>\n",
       "      <th>저자</th>\n",
       "      <th>제목</th>\n",
       "    </tr>\n",
       "  </thead>\n",
       "  <tbody>\n",
       "    <tr>\n",
       "      <th>책1</th>\n",
       "      <td>15000</td>\n",
       "      <td>허균</td>\n",
       "      <td>홍길동전</td>\n",
       "    </tr>\n",
       "    <tr>\n",
       "      <th>책2</th>\n",
       "      <td>20000</td>\n",
       "      <td>J.K 롤링</td>\n",
       "      <td>해리포터</td>\n",
       "    </tr>\n",
       "  </tbody>\n",
       "</table>\n",
       "</div>"
      ],
      "text/plain": [
       "       가격      저자    제목\n",
       "책1  15000      허균  홍길동전\n",
       "책2  20000  J.K 롤링  해리포터"
      ]
     },
     "execution_count": 100,
     "metadata": {},
     "output_type": "execute_result"
    }
   ],
   "source": [
    "df.insert(1, '저자', ['허균', 'J.K 롤링'])\n",
    "df"
   ]
  },
  {
   "cell_type": "code",
   "execution_count": 103,
   "id": "a9a26ca0-831d-46d1-9b5c-f22741d2221a",
   "metadata": {},
   "outputs": [
    {
     "data": {
      "text/plain": [
       "np.float64(9.0)"
      ]
     },
     "execution_count": 103,
     "metadata": {},
     "output_type": "execute_result"
    }
   ],
   "source": [
    "data = np.array([[9.0,14000],[8.2,9500]])\n",
    "df = pd.DataFrame(data, index=['기생충','인터스텔라'],\n",
    "                  columns=['평점','관객수'])\n",
    "df.loc['기생충','평점']"
   ]
  },
  {
   "cell_type": "code",
   "execution_count": 104,
   "id": "0d1948b4-cc06-4a89-add3-837b3796e59e",
   "metadata": {},
   "outputs": [
    {
     "data": {
      "text/html": [
       "<div>\n",
       "<style scoped>\n",
       "    .dataframe tbody tr th:only-of-type {\n",
       "        vertical-align: middle;\n",
       "    }\n",
       "\n",
       "    .dataframe tbody tr th {\n",
       "        vertical-align: top;\n",
       "    }\n",
       "\n",
       "    .dataframe thead th {\n",
       "        text-align: right;\n",
       "    }\n",
       "</style>\n",
       "<table border=\"1\" class=\"dataframe\">\n",
       "  <thead>\n",
       "    <tr style=\"text-align: right;\">\n",
       "      <th></th>\n",
       "      <th>평점</th>\n",
       "    </tr>\n",
       "  </thead>\n",
       "  <tbody>\n",
       "    <tr>\n",
       "      <th>기생충</th>\n",
       "      <td>9.0</td>\n",
       "    </tr>\n",
       "    <tr>\n",
       "      <th>인터스텔라</th>\n",
       "      <td>8.2</td>\n",
       "    </tr>\n",
       "  </tbody>\n",
       "</table>\n",
       "</div>"
      ],
      "text/plain": [
       "        평점\n",
       "기생충    9.0\n",
       "인터스텔라  8.2"
      ]
     },
     "execution_count": 104,
     "metadata": {},
     "output_type": "execute_result"
    }
   ],
   "source": [
    "del df['관객수']\n",
    "df"
   ]
  },
  {
   "cell_type": "markdown",
   "id": "384b445f-2ad3-431e-8112-bda928b948fd",
   "metadata": {},
   "source": [
    "### 4.3 데이터 계산과 처리"
   ]
  },
  {
   "cell_type": "markdown",
   "id": "9ef1a316-4bf2-4612-a55a-1e5b183eb929",
   "metadata": {},
   "source": [
    "시리즈에서 계산과 조건 검색"
   ]
  },
  {
   "cell_type": "code",
   "execution_count": 107,
   "id": "5d5dc129-a2d0-4e4f-9dce-dc6780a45522",
   "metadata": {},
   "outputs": [
    {
     "name": "stdout",
     "output_type": "stream",
     "text": [
      "-1\n",
      "0\n",
      "1\n",
      "2\n",
      "3\n"
     ]
    }
   ],
   "source": [
    "# 숫자가담긴 리스트 생성\n",
    "lis = [-2,-1,0,1,2]\n",
    "# 모든 원소에 1만큼 더하기\n",
    "for i in lis :\n",
    "    print(i + 1)"
   ]
  },
  {
   "cell_type": "code",
   "execution_count": 109,
   "id": "df2f6f3f-2878-4cc5-abdb-49db8df47df6",
   "metadata": {},
   "outputs": [
    {
     "data": {
      "text/plain": [
       "0   -1\n",
       "1    0\n",
       "2    1\n",
       "3    2\n",
       "4    3\n",
       "dtype: int64"
      ]
     },
     "execution_count": 109,
     "metadata": {},
     "output_type": "execute_result"
    }
   ],
   "source": [
    "# 숫자가 담긴 시리즈 생성\n",
    "s = pd.Series([-2,-1,0,1,2])\n",
    "# 모든 원소에 1만큼 더하기\n",
    "# 판다스의 시리즈는 for 없이 반복 수행 가능\n",
    "# 아래 계산식은 자동으로 더하기가 5번 반복 수행됨\n",
    "s + 1"
   ]
  },
  {
   "cell_type": "code",
   "execution_count": 110,
   "id": "47d8360b-fe80-4b13-9a10-5643daec2de4",
   "metadata": {},
   "outputs": [
    {
     "data": {
      "text/plain": [
       "0   -1\n",
       "1    0\n",
       "2    1\n",
       "3    2\n",
       "4    3\n",
       "dtype: int64"
      ]
     },
     "execution_count": 110,
     "metadata": {},
     "output_type": "execute_result"
    }
   ],
   "source": [
    "# 각 원소에 1만큼 더하기\n",
    "# s + 1\n",
    "s.add(1)"
   ]
  },
  {
   "cell_type": "code",
   "execution_count": 118,
   "id": "46c22805-f8a6-49f8-90ee-26d148efa6f9",
   "metadata": {},
   "outputs": [
    {
     "name": "stdout",
     "output_type": "stream",
     "text": [
      "0   -2\n",
      "1   -1\n",
      "2    0\n",
      "3    1\n",
      "4    2\n",
      "dtype: int64\n",
      "0    False\n",
      "1    False\n",
      "2    False\n",
      "3     True\n",
      "4     True\n",
      "dtype: bool\n"
     ]
    },
    {
     "data": {
      "text/plain": [
       "3    1\n",
       "4    2\n",
       "dtype: int64"
      ]
     },
     "execution_count": 118,
     "metadata": {},
     "output_type": "execute_result"
    }
   ],
   "source": [
    "# 조건 검색 (양수만 찾기)\n",
    "print(s)\n",
    "# 불리언 배열 만들기\n",
    "# Series > int => 시리즈의 전체 데이터와 0을 비교\n",
    "print(s > 0)\n",
    "# 불리언 배열은 시리즈의 인덱스로 사용할 수 있다\n",
    "# true 인 값만 남음\n",
    "s[s > 0]"
   ]
  },
  {
   "cell_type": "code",
   "execution_count": 140,
   "id": "8631390e-d1ce-4818-8fda-79f9c1961d8e",
   "metadata": {},
   "outputs": [
    {
     "name": "stdout",
     "output_type": "stream",
     "text": [
      "0     1\n",
      "1     2\n",
      "2     3\n",
      "3     4\n",
      "4     5\n",
      "5     6\n",
      "6     7\n",
      "7     8\n",
      "8     9\n",
      "9    10\n",
      "dtype: int64\n",
      "0    False\n",
      "1     True\n",
      "2    False\n",
      "3     True\n",
      "4    False\n",
      "5     True\n",
      "6    False\n",
      "7     True\n",
      "8    False\n",
      "9     True\n",
      "dtype: bool\n"
     ]
    },
    {
     "data": {
      "text/plain": [
       "1     2\n",
       "3     4\n",
       "5     6\n",
       "7     8\n",
       "9    10\n",
       "dtype: int64"
      ]
     },
     "execution_count": 140,
     "metadata": {},
     "output_type": "execute_result"
    }
   ],
   "source": [
    "# 조건검색2 (짝수만 찾기 )\n",
    "# 넘파이의 arange 함수(시작, 마지막-1)\n",
    "# 1~10 숫자가 담긴 시리즈 생성\n",
    "s = pd.Series(np.arange(1,11))\n",
    "print(s)\n",
    "# 시리즈 전체 데이터에 계산식이 적용됨 -> bool 10개 반환\n",
    "print(s % 2 == 0)\n",
    "# bool 배열을 시리즈의 인덱스로 사용\n",
    "s[s % 2 == 0]"
   ]
  },
  {
   "cell_type": "markdown",
   "id": "4e759f8c-b91e-45d7-a731-950d72af2704",
   "metadata": {},
   "source": [
    "### 연습문제"
   ]
  },
  {
   "cell_type": "code",
   "execution_count": 141,
   "id": "613f105b-dde7-4f1b-9ace-e0dcb6a76eb4",
   "metadata": {},
   "outputs": [
    {
     "name": "stdout",
     "output_type": "stream",
     "text": [
      "국어    80\n",
      "영어    90\n",
      "수학    75\n",
      "과학    85\n",
      "dtype: int64\n",
      "총점: 330\n",
      "평균: 82.5\n",
      "최고점수: 90\n",
      "최저점수: 75\n"
     ]
    }
   ],
   "source": [
    "s = pd.Series([80,90,75,85], index=['국어','영어','수학','과학'])\n",
    "print(s)\n",
    "print('총점:',s.sum())\n",
    "print('평균:',s.mean())\n",
    "print('최고점수:',s.max())\n",
    "print('최저점수:',s.min())"
   ]
  },
  {
   "cell_type": "code",
   "execution_count": 145,
   "id": "5cd741a5-ae53-4673-abe9-e1b60a8e7df5",
   "metadata": {},
   "outputs": [
    {
     "name": "stdout",
     "output_type": "stream",
     "text": [
      "월    2\n",
      "화    5\n",
      "수   -1\n",
      "목    0\n",
      "금    7\n",
      "토   -3\n",
      "일    4\n",
      "dtype: int64\n",
      "월     True\n",
      "화     True\n",
      "수    False\n",
      "목     True\n",
      "금     True\n",
      "토    False\n",
      "일     True\n",
      "dtype: bool\n"
     ]
    },
    {
     "data": {
      "text/plain": [
       "월    2\n",
       "화    5\n",
       "목    0\n",
       "금    7\n",
       "일    4\n",
       "dtype: int64"
      ]
     },
     "execution_count": 145,
     "metadata": {},
     "output_type": "execute_result"
    }
   ],
   "source": [
    "t = pd.Series([2,5,-1,0,7,-3,4], index=['월','화','수','목','금','토','일'])\n",
    "print(t)\n",
    "print(t >= 0)\n",
    "t[t >= 0]"
   ]
  },
  {
   "cell_type": "markdown",
   "id": "5a910d64-844a-4f25-8f27-80d26a770e89",
   "metadata": {},
   "source": [
    "## 데이터 프레임에서 계산과 처리"
   ]
  },
  {
   "cell_type": "code",
   "execution_count": 199,
   "id": "d19e8367-7046-4994-ad4f-553df7930199",
   "metadata": {},
   "outputs": [
    {
     "data": {
      "text/html": [
       "<div>\n",
       "<style scoped>\n",
       "    .dataframe tbody tr th:only-of-type {\n",
       "        vertical-align: middle;\n",
       "    }\n",
       "\n",
       "    .dataframe tbody tr th {\n",
       "        vertical-align: top;\n",
       "    }\n",
       "\n",
       "    .dataframe thead th {\n",
       "        text-align: right;\n",
       "    }\n",
       "</style>\n",
       "<table border=\"1\" class=\"dataframe\">\n",
       "  <thead>\n",
       "    <tr style=\"text-align: right;\">\n",
       "      <th></th>\n",
       "      <th>국어</th>\n",
       "      <th>영어</th>\n",
       "      <th>수학</th>\n",
       "    </tr>\n",
       "  </thead>\n",
       "  <tbody>\n",
       "    <tr>\n",
       "      <th>둘리</th>\n",
       "      <td>60</td>\n",
       "      <td>70</td>\n",
       "      <td>80</td>\n",
       "    </tr>\n",
       "    <tr>\n",
       "      <th>또치</th>\n",
       "      <td>70</td>\n",
       "      <td>80</td>\n",
       "      <td>90</td>\n",
       "    </tr>\n",
       "    <tr>\n",
       "      <th>도우너</th>\n",
       "      <td>80</td>\n",
       "      <td>90</td>\n",
       "      <td>10</td>\n",
       "    </tr>\n",
       "  </tbody>\n",
       "</table>\n",
       "</div>"
      ],
      "text/plain": [
       "     국어  영어  수학\n",
       "둘리   60  70  80\n",
       "또치   70  80  90\n",
       "도우너  80  90  10"
      ]
     },
     "execution_count": 199,
     "metadata": {},
     "output_type": "execute_result"
    }
   ],
   "source": [
    "# 학생 성적 데이터 만들기\n",
    "data = np.array([[60,70,80],[70,80,90],[80,90,10]])\n",
    "# 성적데이터를 담아서 프레임 생성\n",
    "df = pd.DataFrame(data,\n",
    "                  index = ['둘리','또치','도우너'],\n",
    "                  columns=['국어','영어','수학'])\n",
    "df"
   ]
  },
  {
   "cell_type": "code",
   "execution_count": 158,
   "id": "3a91eb98-df9d-4041-8a69-294042ac6a2c",
   "metadata": {},
   "outputs": [
    {
     "name": "stdout",
     "output_type": "stream",
     "text": [
      "둘리     60\n",
      "또치     70\n",
      "도우너    80\n",
      "Name: 국어, dtype: int64\n",
      "int64\n"
     ]
    },
    {
     "data": {
      "text/plain": [
       "pandas.core.series.Series"
      ]
     },
     "execution_count": 158,
     "metadata": {},
     "output_type": "execute_result"
    }
   ],
   "source": [
    "# 국어 과목만 조회\n",
    "print(df['국어'])\n",
    "# 국어과목에 담겨있는 값의 자료형\n",
    "print(df['국어'].dtype)\n",
    "# 국어과목의 자료구조\n",
    "type(df['국어'])\n",
    "# 데이터프레임은 여러 시리즈의 묶음"
   ]
  },
  {
   "cell_type": "code",
   "execution_count": 159,
   "id": "a46c2720-50fc-495e-90a3-5fbd72e0a674",
   "metadata": {},
   "outputs": [
    {
     "data": {
      "text/html": [
       "<div>\n",
       "<style scoped>\n",
       "    .dataframe tbody tr th:only-of-type {\n",
       "        vertical-align: middle;\n",
       "    }\n",
       "\n",
       "    .dataframe tbody tr th {\n",
       "        vertical-align: top;\n",
       "    }\n",
       "\n",
       "    .dataframe thead th {\n",
       "        text-align: right;\n",
       "    }\n",
       "</style>\n",
       "<table border=\"1\" class=\"dataframe\">\n",
       "  <thead>\n",
       "    <tr style=\"text-align: right;\">\n",
       "      <th></th>\n",
       "      <th>국어</th>\n",
       "      <th>영어</th>\n",
       "      <th>수학</th>\n",
       "    </tr>\n",
       "  </thead>\n",
       "  <tbody>\n",
       "    <tr>\n",
       "      <th>둘리</th>\n",
       "      <td>61</td>\n",
       "      <td>71</td>\n",
       "      <td>81</td>\n",
       "    </tr>\n",
       "    <tr>\n",
       "      <th>또치</th>\n",
       "      <td>71</td>\n",
       "      <td>81</td>\n",
       "      <td>91</td>\n",
       "    </tr>\n",
       "    <tr>\n",
       "      <th>도우너</th>\n",
       "      <td>81</td>\n",
       "      <td>91</td>\n",
       "      <td>11</td>\n",
       "    </tr>\n",
       "  </tbody>\n",
       "</table>\n",
       "</div>"
      ],
      "text/plain": [
       "     국어  영어  수학\n",
       "둘리   61  71  81\n",
       "또치   71  81  91\n",
       "도우너  81  91  11"
      ]
     },
     "execution_count": 159,
     "metadata": {},
     "output_type": "execute_result"
    }
   ],
   "source": [
    "# 전체점수에 1점씩 더하기\n",
    "df + 1"
   ]
  },
  {
   "cell_type": "code",
   "execution_count": 160,
   "id": "da1c487d-9123-4682-8c69-1b72c18663f2",
   "metadata": {},
   "outputs": [
    {
     "data": {
      "text/plain": [
       "둘리     70\n",
       "또치     80\n",
       "도우너    90\n",
       "Name: 국어, dtype: int64"
      ]
     },
     "execution_count": 160,
     "metadata": {},
     "output_type": "execute_result"
    }
   ],
   "source": [
    "# 국어 점수만 10점씩 더하기\n",
    "df['국어'] + 10"
   ]
  },
  {
   "cell_type": "code",
   "execution_count": 161,
   "id": "389570fe-ad5f-4a9d-8e6a-234b3c6c6af9",
   "metadata": {},
   "outputs": [
    {
     "data": {
      "text/html": [
       "<div>\n",
       "<style scoped>\n",
       "    .dataframe tbody tr th:only-of-type {\n",
       "        vertical-align: middle;\n",
       "    }\n",
       "\n",
       "    .dataframe tbody tr th {\n",
       "        vertical-align: top;\n",
       "    }\n",
       "\n",
       "    .dataframe thead th {\n",
       "        text-align: right;\n",
       "    }\n",
       "</style>\n",
       "<table border=\"1\" class=\"dataframe\">\n",
       "  <thead>\n",
       "    <tr style=\"text-align: right;\">\n",
       "      <th></th>\n",
       "      <th>국어</th>\n",
       "      <th>영어</th>\n",
       "      <th>수학</th>\n",
       "    </tr>\n",
       "  </thead>\n",
       "  <tbody>\n",
       "    <tr>\n",
       "      <th>둘리</th>\n",
       "      <td>60</td>\n",
       "      <td>70</td>\n",
       "      <td>80</td>\n",
       "    </tr>\n",
       "    <tr>\n",
       "      <th>또치</th>\n",
       "      <td>70</td>\n",
       "      <td>80</td>\n",
       "      <td>90</td>\n",
       "    </tr>\n",
       "    <tr>\n",
       "      <th>도우너</th>\n",
       "      <td>80</td>\n",
       "      <td>90</td>\n",
       "      <td>10</td>\n",
       "    </tr>\n",
       "  </tbody>\n",
       "</table>\n",
       "</div>"
      ],
      "text/plain": [
       "     국어  영어  수학\n",
       "둘리   60  70  80\n",
       "또치   70  80  90\n",
       "도우너  80  90  10"
      ]
     },
     "execution_count": 161,
     "metadata": {},
     "output_type": "execute_result"
    }
   ],
   "source": [
    "# 조건 검색(국어점수가 70점 이상인 학생만 찾기)\n",
    "df"
   ]
  },
  {
   "cell_type": "code",
   "execution_count": 164,
   "id": "8bf9b161-cf01-42de-9133-693ceca39774",
   "metadata": {},
   "outputs": [
    {
     "name": "stdout",
     "output_type": "stream",
     "text": [
      "둘리     False\n",
      "또치      True\n",
      "도우너     True\n",
      "Name: 국어, dtype: bool\n"
     ]
    },
    {
     "data": {
      "text/html": [
       "<div>\n",
       "<style scoped>\n",
       "    .dataframe tbody tr th:only-of-type {\n",
       "        vertical-align: middle;\n",
       "    }\n",
       "\n",
       "    .dataframe tbody tr th {\n",
       "        vertical-align: top;\n",
       "    }\n",
       "\n",
       "    .dataframe thead th {\n",
       "        text-align: right;\n",
       "    }\n",
       "</style>\n",
       "<table border=\"1\" class=\"dataframe\">\n",
       "  <thead>\n",
       "    <tr style=\"text-align: right;\">\n",
       "      <th></th>\n",
       "      <th>국어</th>\n",
       "      <th>영어</th>\n",
       "      <th>수학</th>\n",
       "    </tr>\n",
       "  </thead>\n",
       "  <tbody>\n",
       "    <tr>\n",
       "      <th>또치</th>\n",
       "      <td>70</td>\n",
       "      <td>80</td>\n",
       "      <td>90</td>\n",
       "    </tr>\n",
       "    <tr>\n",
       "      <th>도우너</th>\n",
       "      <td>80</td>\n",
       "      <td>90</td>\n",
       "      <td>10</td>\n",
       "    </tr>\n",
       "  </tbody>\n",
       "</table>\n",
       "</div>"
      ],
      "text/plain": [
       "     국어  영어  수학\n",
       "또치   70  80  90\n",
       "도우너  80  90  10"
      ]
     },
     "execution_count": 164,
     "metadata": {},
     "output_type": "execute_result"
    }
   ],
   "source": [
    "print(df['국어'] >= 70)\n",
    "df[df['국어'] >= 70]"
   ]
  },
  {
   "cell_type": "markdown",
   "id": "4f009af4-5386-4361-85a5-9265a3d771cb",
   "metadata": {},
   "source": [
    "## 연습문제"
   ]
  },
  {
   "cell_type": "code",
   "execution_count": 173,
   "id": "296d263a-8eda-4589-9c8c-20bc07a55a01",
   "metadata": {},
   "outputs": [
    {
     "name": "stdout",
     "output_type": "stream",
     "text": [
      "기생충      13000.0\n",
      "인터스텔라     9000.0\n",
      "아바타      16000.0\n",
      "Name: 관객수, dtype: float64\n",
      "기생충       True\n",
      "인터스텔라    False\n",
      "아바타       True\n",
      "Name: 평점, dtype: bool\n"
     ]
    },
    {
     "data": {
      "text/html": [
       "<div>\n",
       "<style scoped>\n",
       "    .dataframe tbody tr th:only-of-type {\n",
       "        vertical-align: middle;\n",
       "    }\n",
       "\n",
       "    .dataframe tbody tr th {\n",
       "        vertical-align: top;\n",
       "    }\n",
       "\n",
       "    .dataframe thead th {\n",
       "        text-align: right;\n",
       "    }\n",
       "</style>\n",
       "<table border=\"1\" class=\"dataframe\">\n",
       "  <thead>\n",
       "    <tr style=\"text-align: right;\">\n",
       "      <th></th>\n",
       "      <th>관객수</th>\n",
       "      <th>평점</th>\n",
       "    </tr>\n",
       "  </thead>\n",
       "  <tbody>\n",
       "    <tr>\n",
       "      <th>기생충</th>\n",
       "      <td>12000.0</td>\n",
       "      <td>9.0</td>\n",
       "    </tr>\n",
       "    <tr>\n",
       "      <th>아바타</th>\n",
       "      <td>15000.0</td>\n",
       "      <td>9.3</td>\n",
       "    </tr>\n",
       "  </tbody>\n",
       "</table>\n",
       "</div>"
      ],
      "text/plain": [
       "         관객수   평점\n",
       "기생충  12000.0  9.0\n",
       "아바타  15000.0  9.3"
      ]
     },
     "execution_count": 173,
     "metadata": {},
     "output_type": "execute_result"
    }
   ],
   "source": [
    "data = np.array([[12000,9.0],[8000,8.5],[15000,9.3]])\n",
    "df = pd.DataFrame(data,\n",
    "                  index=['기생충','인터스텔라','아바타'],\n",
    "                  columns=['관객수','평점'])\n",
    "print(df['관객수'] + 1000)\n",
    "print(df['평점'] >= 9.0)\n",
    "df[df['평점'] >= 9.0]\n"
   ]
  },
  {
   "cell_type": "code",
   "execution_count": 195,
   "id": "d37e8331-dbc9-41b5-89f3-c329f68f6f9a",
   "metadata": {},
   "outputs": [
    {
     "name": "stdout",
     "output_type": "stream",
     "text": [
      "    1월 매출  2월 매출\n",
      "치마  25000  30000\n",
      "바지  40000  15000\n"
     ]
    }
   ],
   "source": [
    "data = np.array([[25000,30000],[40000,15000]])\n",
    "df = pd.DataFrame(data,\n",
    "                  index=['치마','바지'],\n",
    "                  columns=['1월 매출','2월 매출'])\n",
    "print(df)"
   ]
  },
  {
   "cell_type": "code",
   "execution_count": 196,
   "id": "25814bfa-5e0f-4a66-8f55-4facf8f692f5",
   "metadata": {},
   "outputs": [
    {
     "name": "stdout",
     "output_type": "stream",
     "text": [
      "Index(['치마', '바지'], dtype='object')\n",
      "Index(['치마', '바지'], dtype='object')\n"
     ]
    },
    {
     "data": {
      "text/html": [
       "<div>\n",
       "<style scoped>\n",
       "    .dataframe tbody tr th:only-of-type {\n",
       "        vertical-align: middle;\n",
       "    }\n",
       "\n",
       "    .dataframe tbody tr th {\n",
       "        vertical-align: top;\n",
       "    }\n",
       "\n",
       "    .dataframe thead th {\n",
       "        text-align: right;\n",
       "    }\n",
       "</style>\n",
       "<table border=\"1\" class=\"dataframe\">\n",
       "  <thead>\n",
       "    <tr style=\"text-align: right;\">\n",
       "      <th></th>\n",
       "      <th>1월 매출</th>\n",
       "      <th>2월 매출</th>\n",
       "      <th>합계</th>\n",
       "    </tr>\n",
       "  </thead>\n",
       "  <tbody>\n",
       "    <tr>\n",
       "      <th>치마</th>\n",
       "      <td>25000</td>\n",
       "      <td>30000</td>\n",
       "      <td>55000</td>\n",
       "    </tr>\n",
       "    <tr>\n",
       "      <th>바지</th>\n",
       "      <td>40000</td>\n",
       "      <td>15000</td>\n",
       "      <td>55000</td>\n",
       "    </tr>\n",
       "  </tbody>\n",
       "</table>\n",
       "</div>"
      ],
      "text/plain": [
       "    1월 매출  2월 매출     합계\n",
       "치마  25000  30000  55000\n",
       "바지  40000  15000  55000"
      ]
     },
     "execution_count": 196,
     "metadata": {},
     "output_type": "execute_result"
    }
   ],
   "source": [
    "# Series + Series\n",
    "# 시리즈 끼리 더하면, 인덱스를 기준으로 합계 반환\n",
    "df['합계'] = df['1월 매출'] + df['2월 매출']    # 결과는 시리즈\n",
    "print(df['1월 매출'].index)\n",
    "print(df['2월 매출'].index)\n",
    "df"
   ]
  },
  {
   "cell_type": "code",
   "execution_count": 197,
   "id": "bad1e5fd-b68f-4968-b7c1-a17d04cb4115",
   "metadata": {},
   "outputs": [
    {
     "data": {
      "text/html": [
       "<div>\n",
       "<style scoped>\n",
       "    .dataframe tbody tr th:only-of-type {\n",
       "        vertical-align: middle;\n",
       "    }\n",
       "\n",
       "    .dataframe tbody tr th {\n",
       "        vertical-align: top;\n",
       "    }\n",
       "\n",
       "    .dataframe thead th {\n",
       "        text-align: right;\n",
       "    }\n",
       "</style>\n",
       "<table border=\"1\" class=\"dataframe\">\n",
       "  <thead>\n",
       "    <tr style=\"text-align: right;\">\n",
       "      <th></th>\n",
       "      <th>1월 매출</th>\n",
       "      <th>2월 매출</th>\n",
       "      <th>합계</th>\n",
       "      <th>합계_만원</th>\n",
       "    </tr>\n",
       "  </thead>\n",
       "  <tbody>\n",
       "    <tr>\n",
       "      <th>치마</th>\n",
       "      <td>25000</td>\n",
       "      <td>30000</td>\n",
       "      <td>55000</td>\n",
       "      <td>5.5</td>\n",
       "    </tr>\n",
       "    <tr>\n",
       "      <th>바지</th>\n",
       "      <td>40000</td>\n",
       "      <td>15000</td>\n",
       "      <td>55000</td>\n",
       "      <td>5.5</td>\n",
       "    </tr>\n",
       "  </tbody>\n",
       "</table>\n",
       "</div>"
      ],
      "text/plain": [
       "    1월 매출  2월 매출     합계  합계_만원\n",
       "치마  25000  30000  55000    5.5\n",
       "바지  40000  15000  55000    5.5"
      ]
     },
     "execution_count": 197,
     "metadata": {},
     "output_type": "execute_result"
    }
   ],
   "source": [
    "df['합계_만원'] = df['합계'] / 10000\n",
    "df"
   ]
  },
  {
   "cell_type": "markdown",
   "id": "f5ef0b1d-2ec6-41d5-9461-41f9eee20ce0",
   "metadata": {},
   "source": [
    "## 데이터 프레임의 정렬  \n",
    "시험 성적 순위를 매길 때 사용"
   ]
  },
  {
   "cell_type": "code",
   "execution_count": 203,
   "id": "c431f3f3-c0e7-4ae3-8b32-6375ea161e9a",
   "metadata": {},
   "outputs": [
    {
     "data": {
      "text/html": [
       "<div>\n",
       "<style scoped>\n",
       "    .dataframe tbody tr th:only-of-type {\n",
       "        vertical-align: middle;\n",
       "    }\n",
       "\n",
       "    .dataframe tbody tr th {\n",
       "        vertical-align: top;\n",
       "    }\n",
       "\n",
       "    .dataframe thead th {\n",
       "        text-align: right;\n",
       "    }\n",
       "</style>\n",
       "<table border=\"1\" class=\"dataframe\">\n",
       "  <thead>\n",
       "    <tr style=\"text-align: right;\">\n",
       "      <th></th>\n",
       "      <th>국어</th>\n",
       "      <th>영어</th>\n",
       "      <th>수학</th>\n",
       "    </tr>\n",
       "  </thead>\n",
       "  <tbody>\n",
       "    <tr>\n",
       "      <th>도우너</th>\n",
       "      <td>80</td>\n",
       "      <td>90</td>\n",
       "      <td>10</td>\n",
       "    </tr>\n",
       "    <tr>\n",
       "      <th>또치</th>\n",
       "      <td>70</td>\n",
       "      <td>80</td>\n",
       "      <td>90</td>\n",
       "    </tr>\n",
       "    <tr>\n",
       "      <th>둘리</th>\n",
       "      <td>60</td>\n",
       "      <td>70</td>\n",
       "      <td>80</td>\n",
       "    </tr>\n",
       "  </tbody>\n",
       "</table>\n",
       "</div>"
      ],
      "text/plain": [
       "     국어  영어  수학\n",
       "도우너  80  90  10\n",
       "또치   70  80  90\n",
       "둘리   60  70  80"
      ]
     },
     "execution_count": 203,
     "metadata": {},
     "output_type": "execute_result"
    }
   ],
   "source": [
    "# 시험성적에서 국어점수를 기준으로 정렬\n",
    "df.sort_values('국어')\n",
    "# 국어 점수를 기준으로 내림차순 정렬\n",
    "# 정렬 기준 : 오름차순 (1 -> 10) / 내림차순 (10 -> 1)\n",
    "# ascending : 오름차순 (True) 내림차순(False)\n",
    "df.sort_values('국어', ascending=False)"
   ]
  },
  {
   "cell_type": "code",
   "execution_count": 208,
   "id": "07124ab8-3c3d-41b5-b369-015887b9b3d1",
   "metadata": {},
   "outputs": [
    {
     "name": "stdout",
     "output_type": "stream",
     "text": [
      "[79 78 92 95 65 79 93 86 93]\n",
      "[[79 78 92]\n",
      " [95 65 79]\n",
      " [93 86 93]]\n",
      "     수학  영어  과학\n",
      "둘리   79  78  92\n",
      "또치   95  65  79\n",
      "도우너  93  86  93\n"
     ]
    },
    {
     "data": {
      "text/html": [
       "<div>\n",
       "<style scoped>\n",
       "    .dataframe tbody tr th:only-of-type {\n",
       "        vertical-align: middle;\n",
       "    }\n",
       "\n",
       "    .dataframe tbody tr th {\n",
       "        vertical-align: top;\n",
       "    }\n",
       "\n",
       "    .dataframe thead th {\n",
       "        text-align: right;\n",
       "    }\n",
       "</style>\n",
       "<table border=\"1\" class=\"dataframe\">\n",
       "  <thead>\n",
       "    <tr style=\"text-align: right;\">\n",
       "      <th></th>\n",
       "      <th>수학</th>\n",
       "      <th>영어</th>\n",
       "      <th>과학</th>\n",
       "    </tr>\n",
       "  </thead>\n",
       "  <tbody>\n",
       "    <tr>\n",
       "      <th>도우너</th>\n",
       "      <td>93</td>\n",
       "      <td>86</td>\n",
       "      <td>93</td>\n",
       "    </tr>\n",
       "    <tr>\n",
       "      <th>둘리</th>\n",
       "      <td>79</td>\n",
       "      <td>78</td>\n",
       "      <td>92</td>\n",
       "    </tr>\n",
       "    <tr>\n",
       "      <th>또치</th>\n",
       "      <td>95</td>\n",
       "      <td>65</td>\n",
       "      <td>79</td>\n",
       "    </tr>\n",
       "  </tbody>\n",
       "</table>\n",
       "</div>"
      ],
      "text/plain": [
       "     수학  영어  과학\n",
       "도우너  93  86  93\n",
       "둘리   79  78  92\n",
       "또치   95  65  79"
      ]
     },
     "execution_count": 208,
     "metadata": {},
     "output_type": "execute_result"
    }
   ],
   "source": [
    "# 랜덤 함수로 시험 점수 생성\n",
    "# 범위 : 60~100점, 개수 : 9개\n",
    "data = np.random.randint(60,100,9)\n",
    "print(data)\n",
    "# 3행 3열 크기의 2차원 배열로 변환\n",
    "arr = data.reshape(3,3)\n",
    "print(arr)\n",
    "# 프레임 생성\n",
    "df = pd.DataFrame(arr, index=['둘리','또치','도우너'],\n",
    "                  columns=['수학','영어','과학'])\n",
    "print(df)\n",
    "# 영어 점수가 높은사람 순으로 정렬\n",
    "df.sort_values('영어', ascending=False)"
   ]
  },
  {
   "cell_type": "markdown",
   "id": "2254a6b0-e309-4582-9b97-c684c78d2d21",
   "metadata": {},
   "source": [
    "## nan 처리  \n",
    "누락된 값, 빈값  \n",
    "예를 들어 엑셀에서 빈셀을 표현할 때 사용\n",
    "- nan 은 float 타입에서만 표현 가능"
   ]
  },
  {
   "cell_type": "code",
   "execution_count": 209,
   "id": "8f09651b-698f-4bb6-822a-b788b1c975e6",
   "metadata": {},
   "outputs": [
    {
     "data": {
      "text/html": [
       "<div>\n",
       "<style scoped>\n",
       "    .dataframe tbody tr th:only-of-type {\n",
       "        vertical-align: middle;\n",
       "    }\n",
       "\n",
       "    .dataframe tbody tr th {\n",
       "        vertical-align: top;\n",
       "    }\n",
       "\n",
       "    .dataframe thead th {\n",
       "        text-align: right;\n",
       "    }\n",
       "</style>\n",
       "<table border=\"1\" class=\"dataframe\">\n",
       "  <thead>\n",
       "    <tr style=\"text-align: right;\">\n",
       "      <th></th>\n",
       "      <th>수학</th>\n",
       "      <th>영어</th>\n",
       "      <th>과학</th>\n",
       "    </tr>\n",
       "  </thead>\n",
       "  <tbody>\n",
       "    <tr>\n",
       "      <th>둘리</th>\n",
       "      <td>79</td>\n",
       "      <td>78</td>\n",
       "      <td>92</td>\n",
       "    </tr>\n",
       "    <tr>\n",
       "      <th>또치</th>\n",
       "      <td>95</td>\n",
       "      <td>65</td>\n",
       "      <td>79</td>\n",
       "    </tr>\n",
       "    <tr>\n",
       "      <th>도우너</th>\n",
       "      <td>93</td>\n",
       "      <td>86</td>\n",
       "      <td>93</td>\n",
       "    </tr>\n",
       "  </tbody>\n",
       "</table>\n",
       "</div>"
      ],
      "text/plain": [
       "     수학  영어  과학\n",
       "둘리   79  78  92\n",
       "또치   95  65  79\n",
       "도우너  93  86  93"
      ]
     },
     "execution_count": 209,
     "metadata": {},
     "output_type": "execute_result"
    }
   ],
   "source": [
    "df"
   ]
  },
  {
   "cell_type": "code",
   "execution_count": 216,
   "id": "a91e958b-45aa-40b8-a1c9-d55b16fd2aa8",
   "metadata": {},
   "outputs": [
    {
     "name": "stdout",
     "output_type": "stream",
     "text": [
      "     수학    영어  과학\n",
      "둘리   79   NaN  92\n",
      "또치   95  65.0  79\n",
      "도우너  93  86.0  93\n"
     ]
    },
    {
     "data": {
      "text/plain": [
       "dtype('float64')"
      ]
     },
     "execution_count": 216,
     "metadata": {},
     "output_type": "execute_result"
    }
   ],
   "source": [
    "# 둘리의 영어점수를 빈값(nan) 으로 표시\n",
    "# 빈값을 넣으면 해당 값이 들어간 열이 float 타입으로 자동 형변환됨\n",
    "df.loc['둘리','영어'] = np.nan\n",
    "print(df)\n",
    "df['영어'].dtype"
   ]
  },
  {
   "cell_type": "code",
   "execution_count": 219,
   "id": "a787accc-c87c-4cc2-8dff-499649339b46",
   "metadata": {},
   "outputs": [
    {
     "name": "stdout",
     "output_type": "stream",
     "text": [
      "     수학    영어  과학\n",
      "또치   95  65.0  79\n",
      "도우너  93  86.0  93\n"
     ]
    },
    {
     "data": {
      "text/html": [
       "<div>\n",
       "<style scoped>\n",
       "    .dataframe tbody tr th:only-of-type {\n",
       "        vertical-align: middle;\n",
       "    }\n",
       "\n",
       "    .dataframe tbody tr th {\n",
       "        vertical-align: top;\n",
       "    }\n",
       "\n",
       "    .dataframe thead th {\n",
       "        text-align: right;\n",
       "    }\n",
       "</style>\n",
       "<table border=\"1\" class=\"dataframe\">\n",
       "  <thead>\n",
       "    <tr style=\"text-align: right;\">\n",
       "      <th></th>\n",
       "      <th>수학</th>\n",
       "      <th>영어</th>\n",
       "      <th>과학</th>\n",
       "    </tr>\n",
       "  </thead>\n",
       "  <tbody>\n",
       "    <tr>\n",
       "      <th>또치</th>\n",
       "      <td>95</td>\n",
       "      <td>65.0</td>\n",
       "      <td>79</td>\n",
       "    </tr>\n",
       "    <tr>\n",
       "      <th>도우너</th>\n",
       "      <td>93</td>\n",
       "      <td>86.0</td>\n",
       "      <td>93</td>\n",
       "    </tr>\n",
       "  </tbody>\n",
       "</table>\n",
       "</div>"
      ],
      "text/plain": [
       "     수학    영어  과학\n",
       "또치   95  65.0  79\n",
       "도우너  93  86.0  93"
      ]
     },
     "execution_count": 219,
     "metadata": {},
     "output_type": "execute_result"
    }
   ],
   "source": [
    "# 점수가 없는 학생 데이터 삭제\n",
    "# 빈값이 있는 행 또는 열 삭제\n",
    "# 엑시스 0 'row' => 행\n",
    "# dropna -> 원본에 영향 없다\n",
    "print(df.dropna(axis=0))\n",
    "df = df.dropna(axis=0)\n",
    "df\n"
   ]
  },
  {
   "cell_type": "code",
   "execution_count": 220,
   "id": "b5fea9f8-d779-4d7f-b644-2d3f54569a3a",
   "metadata": {},
   "outputs": [
    {
     "data": {
      "text/html": [
       "<div>\n",
       "<style scoped>\n",
       "    .dataframe tbody tr th:only-of-type {\n",
       "        vertical-align: middle;\n",
       "    }\n",
       "\n",
       "    .dataframe tbody tr th {\n",
       "        vertical-align: top;\n",
       "    }\n",
       "\n",
       "    .dataframe thead th {\n",
       "        text-align: right;\n",
       "    }\n",
       "</style>\n",
       "<table border=\"1\" class=\"dataframe\">\n",
       "  <thead>\n",
       "    <tr style=\"text-align: right;\">\n",
       "      <th></th>\n",
       "      <th>수학</th>\n",
       "      <th>영어</th>\n",
       "      <th>과학</th>\n",
       "    </tr>\n",
       "  </thead>\n",
       "  <tbody>\n",
       "    <tr>\n",
       "      <th>또치</th>\n",
       "      <td>95</td>\n",
       "      <td>65.0</td>\n",
       "      <td>NaN</td>\n",
       "    </tr>\n",
       "    <tr>\n",
       "      <th>도우너</th>\n",
       "      <td>93</td>\n",
       "      <td>86.0</td>\n",
       "      <td>93.0</td>\n",
       "    </tr>\n",
       "  </tbody>\n",
       "</table>\n",
       "</div>"
      ],
      "text/plain": [
       "     수학    영어    과학\n",
       "또치   95  65.0   NaN\n",
       "도우너  93  86.0  93.0"
      ]
     },
     "execution_count": 220,
     "metadata": {},
     "output_type": "execute_result"
    }
   ],
   "source": [
    "# 또치의 과학 점수를 빈값으로 설정\n",
    "df.loc['또치','과학'] = np.nan\n",
    "df"
   ]
  },
  {
   "cell_type": "code",
   "execution_count": 221,
   "id": "d2b8d26d-471c-46c2-8671-b05e1cf101aa",
   "metadata": {},
   "outputs": [
    {
     "data": {
      "text/html": [
       "<div>\n",
       "<style scoped>\n",
       "    .dataframe tbody tr th:only-of-type {\n",
       "        vertical-align: middle;\n",
       "    }\n",
       "\n",
       "    .dataframe tbody tr th {\n",
       "        vertical-align: top;\n",
       "    }\n",
       "\n",
       "    .dataframe thead th {\n",
       "        text-align: right;\n",
       "    }\n",
       "</style>\n",
       "<table border=\"1\" class=\"dataframe\">\n",
       "  <thead>\n",
       "    <tr style=\"text-align: right;\">\n",
       "      <th></th>\n",
       "      <th>수학</th>\n",
       "      <th>영어</th>\n",
       "      <th>과학</th>\n",
       "    </tr>\n",
       "  </thead>\n",
       "  <tbody>\n",
       "    <tr>\n",
       "      <th>또치</th>\n",
       "      <td>95</td>\n",
       "      <td>65.0</td>\n",
       "      <td>0.0</td>\n",
       "    </tr>\n",
       "    <tr>\n",
       "      <th>도우너</th>\n",
       "      <td>93</td>\n",
       "      <td>86.0</td>\n",
       "      <td>93.0</td>\n",
       "    </tr>\n",
       "  </tbody>\n",
       "</table>\n",
       "</div>"
      ],
      "text/plain": [
       "     수학    영어    과학\n",
       "또치   95  65.0   0.0\n",
       "도우너  93  86.0  93.0"
      ]
     },
     "execution_count": 221,
     "metadata": {},
     "output_type": "execute_result"
    }
   ],
   "source": [
    "# 비어있는 점수를 모두 0으로 설정\n",
    "df.fillna(0)\n"
   ]
  },
  {
   "cell_type": "markdown",
   "id": "126fa599-070d-4da4-a54d-97d81c52d82c",
   "metadata": {},
   "source": [
    "### 연습문제"
   ]
  },
  {
   "cell_type": "code",
   "execution_count": 261,
   "id": "8743a075-0eb0-4eb6-96d4-49f149ce785f",
   "metadata": {},
   "outputs": [
    {
     "data": {
      "text/html": [
       "<div>\n",
       "<style scoped>\n",
       "    .dataframe tbody tr th:only-of-type {\n",
       "        vertical-align: middle;\n",
       "    }\n",
       "\n",
       "    .dataframe tbody tr th {\n",
       "        vertical-align: top;\n",
       "    }\n",
       "\n",
       "    .dataframe thead th {\n",
       "        text-align: right;\n",
       "    }\n",
       "</style>\n",
       "<table border=\"1\" class=\"dataframe\">\n",
       "  <thead>\n",
       "    <tr style=\"text-align: right;\">\n",
       "      <th></th>\n",
       "      <th>봄</th>\n",
       "      <th>여름</th>\n",
       "      <th>겨울</th>\n",
       "    </tr>\n",
       "  </thead>\n",
       "  <tbody>\n",
       "    <tr>\n",
       "      <th>서울</th>\n",
       "      <td>20</td>\n",
       "      <td>NaN</td>\n",
       "      <td>15</td>\n",
       "    </tr>\n",
       "    <tr>\n",
       "      <th>부산</th>\n",
       "      <td>18</td>\n",
       "      <td>22.0</td>\n",
       "      <td>19</td>\n",
       "    </tr>\n",
       "    <tr>\n",
       "      <th>대구</th>\n",
       "      <td>25</td>\n",
       "      <td>27.0</td>\n",
       "      <td>23</td>\n",
       "    </tr>\n",
       "  </tbody>\n",
       "</table>\n",
       "</div>"
      ],
      "text/plain": [
       "     봄    여름  겨울\n",
       "서울  20   NaN  15\n",
       "부산  18  22.0  19\n",
       "대구  25  27.0  23"
      ]
     },
     "execution_count": 261,
     "metadata": {},
     "output_type": "execute_result"
    }
   ],
   "source": [
    "data = np.array([[20,25,15],[18,22,19],[25,27,23]])\n",
    "df = pd.DataFrame(data,\n",
    "                  index=['서울','부산','대구'],\n",
    "                  columns=['봄','여름','겨울'])\n",
    "df.loc['서울','여름'] = np.nan\n",
    "df"
   ]
  },
  {
   "cell_type": "code",
   "execution_count": 262,
   "id": "819ec839-6c88-49ea-a223-ffc9041641e4",
   "metadata": {},
   "outputs": [
    {
     "data": {
      "text/html": [
       "<div>\n",
       "<style scoped>\n",
       "    .dataframe tbody tr th:only-of-type {\n",
       "        vertical-align: middle;\n",
       "    }\n",
       "\n",
       "    .dataframe tbody tr th {\n",
       "        vertical-align: top;\n",
       "    }\n",
       "\n",
       "    .dataframe thead th {\n",
       "        text-align: right;\n",
       "    }\n",
       "</style>\n",
       "<table border=\"1\" class=\"dataframe\">\n",
       "  <thead>\n",
       "    <tr style=\"text-align: right;\">\n",
       "      <th></th>\n",
       "      <th>봄</th>\n",
       "      <th>여름</th>\n",
       "      <th>겨울</th>\n",
       "    </tr>\n",
       "  </thead>\n",
       "  <tbody>\n",
       "    <tr>\n",
       "      <th>부산</th>\n",
       "      <td>18</td>\n",
       "      <td>22.0</td>\n",
       "      <td>19</td>\n",
       "    </tr>\n",
       "    <tr>\n",
       "      <th>대구</th>\n",
       "      <td>25</td>\n",
       "      <td>27.0</td>\n",
       "      <td>23</td>\n",
       "    </tr>\n",
       "  </tbody>\n",
       "</table>\n",
       "</div>"
      ],
      "text/plain": [
       "     봄    여름  겨울\n",
       "부산  18  22.0  19\n",
       "대구  25  27.0  23"
      ]
     },
     "execution_count": 262,
     "metadata": {},
     "output_type": "execute_result"
    }
   ],
   "source": [
    "df = df.dropna(axis=0)\n",
    "df"
   ]
  },
  {
   "cell_type": "code",
   "execution_count": 263,
   "id": "f706961d-a4c0-453b-99d8-5412a6d38058",
   "metadata": {},
   "outputs": [
    {
     "data": {
      "text/html": [
       "<div>\n",
       "<style scoped>\n",
       "    .dataframe tbody tr th:only-of-type {\n",
       "        vertical-align: middle;\n",
       "    }\n",
       "\n",
       "    .dataframe tbody tr th {\n",
       "        vertical-align: top;\n",
       "    }\n",
       "\n",
       "    .dataframe thead th {\n",
       "        text-align: right;\n",
       "    }\n",
       "</style>\n",
       "<table border=\"1\" class=\"dataframe\">\n",
       "  <thead>\n",
       "    <tr style=\"text-align: right;\">\n",
       "      <th></th>\n",
       "      <th>봄</th>\n",
       "      <th>여름</th>\n",
       "      <th>겨울</th>\n",
       "    </tr>\n",
       "  </thead>\n",
       "  <tbody>\n",
       "    <tr>\n",
       "      <th>부산</th>\n",
       "      <td>NaN</td>\n",
       "      <td>22.0</td>\n",
       "      <td>19</td>\n",
       "    </tr>\n",
       "    <tr>\n",
       "      <th>대구</th>\n",
       "      <td>25.0</td>\n",
       "      <td>27.0</td>\n",
       "      <td>23</td>\n",
       "    </tr>\n",
       "  </tbody>\n",
       "</table>\n",
       "</div>"
      ],
      "text/plain": [
       "       봄    여름  겨울\n",
       "부산   NaN  22.0  19\n",
       "대구  25.0  27.0  23"
      ]
     },
     "execution_count": 263,
     "metadata": {},
     "output_type": "execute_result"
    }
   ],
   "source": [
    "df.loc['부산','봄'] = np.nan\n",
    "df"
   ]
  },
  {
   "cell_type": "code",
   "execution_count": 264,
   "id": "231cafe2-8767-4ab5-bcb1-b6167201e77b",
   "metadata": {},
   "outputs": [],
   "source": [
    "df = df.fillna(0)"
   ]
  },
  {
   "cell_type": "code",
   "execution_count": 254,
   "id": "0e7684a0-b400-4ad4-9416-902492a3f619",
   "metadata": {},
   "outputs": [
    {
     "data": {
      "text/html": [
       "<div>\n",
       "<style scoped>\n",
       "    .dataframe tbody tr th:only-of-type {\n",
       "        vertical-align: middle;\n",
       "    }\n",
       "\n",
       "    .dataframe tbody tr th {\n",
       "        vertical-align: top;\n",
       "    }\n",
       "\n",
       "    .dataframe thead th {\n",
       "        text-align: right;\n",
       "    }\n",
       "</style>\n",
       "<table border=\"1\" class=\"dataframe\">\n",
       "  <thead>\n",
       "    <tr style=\"text-align: right;\">\n",
       "      <th></th>\n",
       "      <th>1반</th>\n",
       "      <th>2반</th>\n",
       "      <th>3반</th>\n",
       "    </tr>\n",
       "  </thead>\n",
       "  <tbody>\n",
       "    <tr>\n",
       "      <th>국어</th>\n",
       "      <td>80</td>\n",
       "      <td>75</td>\n",
       "      <td>90</td>\n",
       "    </tr>\n",
       "    <tr>\n",
       "      <th>영어</th>\n",
       "      <td>85</td>\n",
       "      <td>88</td>\n",
       "      <td>82</td>\n",
       "    </tr>\n",
       "    <tr>\n",
       "      <th>수학</th>\n",
       "      <td>70</td>\n",
       "      <td>65</td>\n",
       "      <td>78</td>\n",
       "    </tr>\n",
       "  </tbody>\n",
       "</table>\n",
       "</div>"
      ],
      "text/plain": [
       "    1반  2반  3반\n",
       "국어  80  75  90\n",
       "영어  85  88  82\n",
       "수학  70  65  78"
      ]
     },
     "execution_count": 254,
     "metadata": {},
     "output_type": "execute_result"
    }
   ],
   "source": [
    "data = np.array([[80,75,90],[85,88,82],[70,65,78]])\n",
    "df = pd.DataFrame(data,\n",
    "                  index=['국어','영어','수학'],\n",
    "                  columns=['1반','2반','3반'])\n",
    "df"
   ]
  },
  {
   "cell_type": "code",
   "execution_count": 255,
   "id": "5a7c3914-be02-4e42-9837-a0a832fb477d",
   "metadata": {},
   "outputs": [
    {
     "data": {
      "text/html": [
       "<div>\n",
       "<style scoped>\n",
       "    .dataframe tbody tr th:only-of-type {\n",
       "        vertical-align: middle;\n",
       "    }\n",
       "\n",
       "    .dataframe tbody tr th {\n",
       "        vertical-align: top;\n",
       "    }\n",
       "\n",
       "    .dataframe thead th {\n",
       "        text-align: right;\n",
       "    }\n",
       "</style>\n",
       "<table border=\"1\" class=\"dataframe\">\n",
       "  <thead>\n",
       "    <tr style=\"text-align: right;\">\n",
       "      <th></th>\n",
       "      <th>1반</th>\n",
       "      <th>2반</th>\n",
       "      <th>3반</th>\n",
       "    </tr>\n",
       "  </thead>\n",
       "  <tbody>\n",
       "    <tr>\n",
       "      <th>국어</th>\n",
       "      <td>80</td>\n",
       "      <td>75.0</td>\n",
       "      <td>90</td>\n",
       "    </tr>\n",
       "    <tr>\n",
       "      <th>영어</th>\n",
       "      <td>85</td>\n",
       "      <td>NaN</td>\n",
       "      <td>82</td>\n",
       "    </tr>\n",
       "    <tr>\n",
       "      <th>수학</th>\n",
       "      <td>70</td>\n",
       "      <td>65.0</td>\n",
       "      <td>78</td>\n",
       "    </tr>\n",
       "  </tbody>\n",
       "</table>\n",
       "</div>"
      ],
      "text/plain": [
       "    1반    2반  3반\n",
       "국어  80  75.0  90\n",
       "영어  85   NaN  82\n",
       "수학  70  65.0  78"
      ]
     },
     "execution_count": 255,
     "metadata": {},
     "output_type": "execute_result"
    }
   ],
   "source": [
    "df.loc['영어','2반'] = np.nan\n",
    "df"
   ]
  },
  {
   "cell_type": "code",
   "execution_count": 256,
   "id": "f7a0e2d2-462b-4e71-8cac-3322c7d53df9",
   "metadata": {},
   "outputs": [
    {
     "data": {
      "text/html": [
       "<div>\n",
       "<style scoped>\n",
       "    .dataframe tbody tr th:only-of-type {\n",
       "        vertical-align: middle;\n",
       "    }\n",
       "\n",
       "    .dataframe tbody tr th {\n",
       "        vertical-align: top;\n",
       "    }\n",
       "\n",
       "    .dataframe thead th {\n",
       "        text-align: right;\n",
       "    }\n",
       "</style>\n",
       "<table border=\"1\" class=\"dataframe\">\n",
       "  <thead>\n",
       "    <tr style=\"text-align: right;\">\n",
       "      <th></th>\n",
       "      <th>1반</th>\n",
       "      <th>3반</th>\n",
       "    </tr>\n",
       "  </thead>\n",
       "  <tbody>\n",
       "    <tr>\n",
       "      <th>국어</th>\n",
       "      <td>80</td>\n",
       "      <td>90</td>\n",
       "    </tr>\n",
       "    <tr>\n",
       "      <th>영어</th>\n",
       "      <td>85</td>\n",
       "      <td>82</td>\n",
       "    </tr>\n",
       "    <tr>\n",
       "      <th>수학</th>\n",
       "      <td>70</td>\n",
       "      <td>78</td>\n",
       "    </tr>\n",
       "  </tbody>\n",
       "</table>\n",
       "</div>"
      ],
      "text/plain": [
       "    1반  3반\n",
       "국어  80  90\n",
       "영어  85  82\n",
       "수학  70  78"
      ]
     },
     "execution_count": 256,
     "metadata": {},
     "output_type": "execute_result"
    }
   ],
   "source": [
    "# 빈값이 포함된 열 삭제\n",
    "df = df.dropna(axis=1)\n",
    "df"
   ]
  },
  {
   "cell_type": "code",
   "execution_count": 257,
   "id": "20de255a-22c3-416e-91fa-1487501024c6",
   "metadata": {},
   "outputs": [
    {
     "data": {
      "text/html": [
       "<div>\n",
       "<style scoped>\n",
       "    .dataframe tbody tr th:only-of-type {\n",
       "        vertical-align: middle;\n",
       "    }\n",
       "\n",
       "    .dataframe tbody tr th {\n",
       "        vertical-align: top;\n",
       "    }\n",
       "\n",
       "    .dataframe thead th {\n",
       "        text-align: right;\n",
       "    }\n",
       "</style>\n",
       "<table border=\"1\" class=\"dataframe\">\n",
       "  <thead>\n",
       "    <tr style=\"text-align: right;\">\n",
       "      <th></th>\n",
       "      <th>1반</th>\n",
       "      <th>3반</th>\n",
       "    </tr>\n",
       "  </thead>\n",
       "  <tbody>\n",
       "    <tr>\n",
       "      <th>국어</th>\n",
       "      <td>80</td>\n",
       "      <td>90.0</td>\n",
       "    </tr>\n",
       "    <tr>\n",
       "      <th>영어</th>\n",
       "      <td>85</td>\n",
       "      <td>82.0</td>\n",
       "    </tr>\n",
       "    <tr>\n",
       "      <th>수학</th>\n",
       "      <td>70</td>\n",
       "      <td>NaN</td>\n",
       "    </tr>\n",
       "  </tbody>\n",
       "</table>\n",
       "</div>"
      ],
      "text/plain": [
       "    1반    3반\n",
       "국어  80  90.0\n",
       "영어  85  82.0\n",
       "수학  70   NaN"
      ]
     },
     "execution_count": 257,
     "metadata": {},
     "output_type": "execute_result"
    }
   ],
   "source": [
    "df.loc['수학','3반'] = np.nan\n",
    "df"
   ]
  },
  {
   "cell_type": "code",
   "execution_count": 260,
   "id": "fd9c1704-71fc-48d3-8a8a-9e988327c0ca",
   "metadata": {},
   "outputs": [
    {
     "data": {
      "text/html": [
       "<div>\n",
       "<style scoped>\n",
       "    .dataframe tbody tr th:only-of-type {\n",
       "        vertical-align: middle;\n",
       "    }\n",
       "\n",
       "    .dataframe tbody tr th {\n",
       "        vertical-align: top;\n",
       "    }\n",
       "\n",
       "    .dataframe thead th {\n",
       "        text-align: right;\n",
       "    }\n",
       "</style>\n",
       "<table border=\"1\" class=\"dataframe\">\n",
       "  <thead>\n",
       "    <tr style=\"text-align: right;\">\n",
       "      <th></th>\n",
       "      <th>1반</th>\n",
       "      <th>3반</th>\n",
       "    </tr>\n",
       "  </thead>\n",
       "  <tbody>\n",
       "    <tr>\n",
       "      <th>국어</th>\n",
       "      <td>80</td>\n",
       "      <td>90.0</td>\n",
       "    </tr>\n",
       "    <tr>\n",
       "      <th>영어</th>\n",
       "      <td>85</td>\n",
       "      <td>82.0</td>\n",
       "    </tr>\n",
       "    <tr>\n",
       "      <th>수학</th>\n",
       "      <td>70</td>\n",
       "      <td>100.0</td>\n",
       "    </tr>\n",
       "  </tbody>\n",
       "</table>\n",
       "</div>"
      ],
      "text/plain": [
       "    1반     3반\n",
       "국어  80   90.0\n",
       "영어  85   82.0\n",
       "수학  70  100.0"
      ]
     },
     "execution_count": 260,
     "metadata": {},
     "output_type": "execute_result"
    }
   ],
   "source": [
    "df = df.fillna(100)\n",
    "df"
   ]
  },
  {
   "cell_type": "code",
   "execution_count": null,
   "id": "14e64e08-bf91-4e22-8416-6a6696f0dc1b",
   "metadata": {},
   "outputs": [],
   "source": []
  }
 ],
 "metadata": {
  "kernelspec": {
   "display_name": "Python 3 (ipykernel)",
   "language": "python",
   "name": "python3"
  },
  "language_info": {
   "codemirror_mode": {
    "name": "ipython",
    "version": 3
   },
   "file_extension": ".py",
   "mimetype": "text/x-python",
   "name": "python",
   "nbconvert_exporter": "python",
   "pygments_lexer": "ipython3",
   "version": "3.10.18"
  }
 },
 "nbformat": 4,
 "nbformat_minor": 5
}
